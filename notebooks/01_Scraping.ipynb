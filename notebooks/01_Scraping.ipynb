{
 "cells": [
  {
   "cell_type": "markdown",
   "metadata": {},
   "source": [
    "# Scraping\n",
    "\n",
    "Obtener todos los datos a base de Scrapeo:\n",
    "\n",
    "### Fases\n",
    "- Con Selenium, obtener todas las urls de los supermercados\n",
    "- Con Selenium, utilizar las URLs obtenidas, para sacar las urls de:\n",
    "    - Aceite girasol\n",
    "    - Aceite de oliva\n",
    "    - Leche\n",
    "- Con selenium, sacar las URLs de las subcategorias de:\n",
    "    - Aceite de oliva\n",
    "        - Suave e intenso\n",
    "        - Virgen\n",
    "        - Virgen extra.\n",
    "    - Leche\n",
    "        - Enriquecida\n",
    "        - Entera, semi o desnatada\n",
    "        - Sin Lactosa\n",
    "    De forma que, por supermercado, nos quedaremos con:\n",
    "    - URL Aceite Girasol\n",
    "    - URL Aceite de Oliva Suave e Intenso\n",
    "    - URL Aceite de Oliva Virgen\n",
    "    - URL Aceite de Oliva Virgen extra\n",
    "    - URL leche enriquecida\n",
    "    - URL leche entera,semi o desnatada\n",
    "    - URL leche sin lactosa\n",
    "\n",
    "Con estas URL utilizaremos BEAUTIFUL SOUP para sacar las URL del histórico de cada producto"
   ]
  },
  {
   "cell_type": "code",
   "execution_count": 23,
   "metadata": {},
   "outputs": [],
   "source": [
    "# Importamos las librerías que necesitamos\n",
    "\n",
    "# Librerías para automatización de navegadores (Selenium)\n",
    "# -----------------------------------------------------------------------\n",
    "from selenium import webdriver                   # Control automático del navegador para realizar scraping web\n",
    "\n",
    "from selenium.webdriver.chrome.service import Service  # Maneja el servicio de ChromeDriver\n",
    "from selenium.webdriver.common.by import By      # Para seleccionar elementos en la página web (DOM)\n",
    "from selenium.webdriver.chrome.options import Options  # Configuración de opciones del navegador (headless mode, etc.)\n",
    "import time                                      # Para gestionar pausas y temporización\n",
    "\n",
    "# Librerías para extracción de datos y scraping\n",
    "# -----------------------------------------------------------------------\n",
    "from bs4 import BeautifulSoup  # Para analizar y extraer datos de HTML y XML (scraping web)\n",
    "\n",
    "# Librerías para tratamiento y manipulación de datos\n",
    "# -----------------------------------------------------------------------\n",
    "import pandas as pd             # Para manipulación de estructuras de datos como DataFrames\n",
    "import numpy as np              # Para cálculos numéricos y manejo de arrays\n",
    "import datetime                 # Para manipulación de fechas y tiempos\n",
    "# -----------------------------------------------------------------------\n",
    "# Librerías para visualización de progreso\n",
    "# -----------------------------------------------------------------------\n",
    "from tqdm import tqdm  # Para crear barras de progreso durante los bucles\n",
    "\n",
    "# Manejo de tiempo y solicitudes con espera\n",
    "# -----------------------------------------------------------------------\n",
    "from time import sleep          # Para pausar la ejecución del código por un tiempo determinado\n",
    "import random                   # Para generar valores aleatorios, útil para espaciar solicitudes y evitar bloqueos\n",
    "# Importación de módulos desde rutas recursivas\n",
    "# -----------------------------------------------------------------------\n",
    "import sys\n",
    "sys.path.append(\"../\")  # Añadir rutas externas para poder importar módulos desde carpetas superiores\n",
    "from src.SupportScraping import obtener_url_supermercados,obtener_url_productos_por_supermercado,obtener_urls_por_super_producto_y_categoria,obtener_href_productos,crear_df_productos_con_historico# Funciones personalizadas para obtener datos de vuelos"
   ]
  },
  {
   "cell_type": "markdown",
   "metadata": {},
   "source": [
    "### Obtener con Selenium, obtener todas las urls de los supermercados"
   ]
  },
  {
   "cell_type": "code",
   "execution_count": 24,
   "metadata": {},
   "outputs": [
    {
     "name": "stderr",
     "output_type": "stream",
     "text": [
      "100%|██████████| 6/6 [01:12<00:00, 12.06s/it]\n"
     ]
    }
   ],
   "source": [
    "xpaths = [\"/html/body/section[1]/div/div[2]/div[1]/div/div[2]\",\n",
    "          \"/html/body/section[1]/div/div[2]/div[2]/div/div[2]/div\",\n",
    "          \"/html/body/section[1]/div/div[2]/div[3]/div/div[2]/div\",\n",
    "          \"/html/body/section[1]/div/div[2]/div[4]/div/div[2]/div\",\n",
    "          \"/html/body/section[1]/div/div[2]/div[5]/div/div[2]/div\",\n",
    "          \"/html/body/section[1]/div/div[2]/div[6]/div/div[2]/div\"]\n",
    "\n",
    "url_supermercados = [obtener_url_supermercados(xpath) for xpath in tqdm(xpaths)]"
   ]
  },
  {
   "cell_type": "markdown",
   "metadata": {},
   "source": [
    "Observamos el resultado"
   ]
  },
  {
   "cell_type": "code",
   "execution_count": 25,
   "metadata": {},
   "outputs": [
    {
     "data": {
      "text/plain": [
       "['https://super.facua.org/mercadona/',\n",
       " 'https://super.facua.org/carrefour/',\n",
       " 'https://super.facua.org/eroski/',\n",
       " 'https://super.facua.org/dia/',\n",
       " 'https://super.facua.org/hipercor/',\n",
       " 'https://super.facua.org/alcampo/']"
      ]
     },
     "execution_count": 25,
     "metadata": {},
     "output_type": "execute_result"
    }
   ],
   "source": [
    "url_supermercados"
   ]
  },
  {
   "cell_type": "markdown",
   "metadata": {},
   "source": [
    "## Con Selenium, utilizar las URLs obtenidas, para sacar las urls de:\n",
    "- Aceite girasol\n",
    "- Aceite de oliva\n",
    "- Leche"
   ]
  },
  {
   "cell_type": "code",
   "execution_count": 26,
   "metadata": {},
   "outputs": [
    {
     "name": "stderr",
     "output_type": "stream",
     "text": [
      "100%|██████████| 6/6 [05:14<00:00, 52.36s/it]\n"
     ]
    }
   ],
   "source": [
    "url_productos = [obtener_url_productos_por_supermercado(url) for url in tqdm(url_supermercados)]"
   ]
  },
  {
   "cell_type": "code",
   "execution_count": 27,
   "metadata": {},
   "outputs": [
    {
     "data": {
      "text/plain": [
       "[['https://super.facua.org/mercadona/aceite-de-girasol/',\n",
       "  'https://super.facua.org/mercadona/aceite-de-oliva/',\n",
       "  'https://super.facua.org/mercadona/leche/'],\n",
       " ['https://super.facua.org/carrefour/aceite-de-girasol/',\n",
       "  'https://super.facua.org/carrefour/aceite-de-oliva/',\n",
       "  'https://super.facua.org/carrefour/leche/'],\n",
       " ['https://super.facua.org/eroski/aceite-de-girasol/',\n",
       "  'https://super.facua.org/eroski/aceite-de-oliva/',\n",
       "  'https://super.facua.org/eroski/leche/'],\n",
       " ['https://super.facua.org/dia/aceite-de-girasol/',\n",
       "  'https://super.facua.org/dia/aceite-de-oliva/',\n",
       "  'https://super.facua.org/dia/leche/'],\n",
       " ['https://super.facua.org/hipercor/aceite-de-girasol/',\n",
       "  'https://super.facua.org/hipercor/aceite-de-oliva/',\n",
       "  'https://super.facua.org/hipercor/leche/'],\n",
       " ['https://super.facua.org/alcampo/aceite-de-girasol/',\n",
       "  'https://super.facua.org/alcampo/aceite-de-oliva/',\n",
       "  'https://super.facua.org/alcampo/leche/']]"
      ]
     },
     "execution_count": 27,
     "metadata": {},
     "output_type": "execute_result"
    }
   ],
   "source": [
    "url_productos"
   ]
  },
  {
   "cell_type": "code",
   "execution_count": 33,
   "metadata": {},
   "outputs": [],
   "source": [
    "urls_super_category = [obtener_urls_por_super_producto_y_categoria(url_productos[i][0],url_productos[i][1],url_productos[i][2]) for i,p in enumerate(url_productos)]"
   ]
  },
  {
   "cell_type": "markdown",
   "metadata": {},
   "source": [
    "### Obtener las URL para acceder a las tablas de historico"
   ]
  },
  {
   "cell_type": "code",
   "execution_count": 34,
   "metadata": {},
   "outputs": [
    {
     "name": "stderr",
     "output_type": "stream",
     "text": [
      "\n",
      "\u001b[A\n",
      "0it [09:07, ?it/s]\n",
      "0it [07:13, ?it/s]\n",
      "  0%|          | 0/6 [07:13<?, ?it/s]\n",
      "\n",
      "\u001b[A\n",
      "\u001b[A\n",
      "\u001b[A\n",
      "\u001b[A\n",
      "100%|██████████| 6/6 [00:17<00:00,  3.00s/it]\n"
     ]
    }
   ],
   "source": [
    "supermercados_dfs = [obtener_href_productos(df) for df in tqdm(urls_super_category)]"
   ]
  },
  {
   "cell_type": "markdown",
   "metadata": {},
   "source": [
    "### Sacamos la última tabla de la operación anterior que nos unifica todo en una"
   ]
  },
  {
   "cell_type": "code",
   "execution_count": 35,
   "metadata": {},
   "outputs": [],
   "source": [
    "df = pd.DataFrame()\n",
    "lista_dfs = []\n",
    "for i in range(0,len(supermercados_dfs)):\n",
    "    for e in range(0,len(supermercados_dfs[i])):\n",
    "        df_temp = supermercados_dfs[i][e]\n",
    "        df = pd.concat([df,df_temp])\n",
    "    \n",
    "    lista_dfs.append(df)"
   ]
  },
  {
   "cell_type": "code",
   "execution_count": 36,
   "metadata": {},
   "outputs": [],
   "source": [
    "df = lista_dfs[5]"
   ]
  },
  {
   "cell_type": "code",
   "execution_count": 37,
   "metadata": {},
   "outputs": [
    {
     "data": {
      "text/html": [
       "<div>\n",
       "<style scoped>\n",
       "    .dataframe tbody tr th:only-of-type {\n",
       "        vertical-align: middle;\n",
       "    }\n",
       "\n",
       "    .dataframe tbody tr th {\n",
       "        vertical-align: top;\n",
       "    }\n",
       "\n",
       "    .dataframe thead th {\n",
       "        text-align: right;\n",
       "    }\n",
       "</style>\n",
       "<table border=\"1\" class=\"dataframe\">\n",
       "  <thead>\n",
       "    <tr style=\"text-align: right;\">\n",
       "      <th></th>\n",
       "      <th>supermercado</th>\n",
       "      <th>categoria</th>\n",
       "      <th>Producto</th>\n",
       "      <th>URL</th>\n",
       "    </tr>\n",
       "  </thead>\n",
       "  <tbody>\n",
       "    <tr>\n",
       "      <th>49</th>\n",
       "      <td>hipercor</td>\n",
       "      <td>leche-entera-semi-desnatada</td>\n",
       "      <td>El Corte Ingles Leche Desnatada De Asturias Br...</td>\n",
       "      <td>https://super.facua.org/hipercor/leche/el-cort...</td>\n",
       "    </tr>\n",
       "    <tr>\n",
       "      <th>72</th>\n",
       "      <td>alcampo</td>\n",
       "      <td>leche-entera-semi-desnatada</td>\n",
       "      <td>Möntbelle Leche Fresca De Cabra 750 Ml.</td>\n",
       "      <td>https://super.facua.org/alcampo/leche/mntbelle...</td>\n",
       "    </tr>\n",
       "    <tr>\n",
       "      <th>13</th>\n",
       "      <td>hipercor</td>\n",
       "      <td>leche-enriquecida</td>\n",
       "      <td>Gaza Leche Semidesnatada Con Calcio Brik 1 L</td>\n",
       "      <td>https://super.facua.org/hipercor/leche/gaza-le...</td>\n",
       "    </tr>\n",
       "    <tr>\n",
       "      <th>1</th>\n",
       "      <td>mercadona</td>\n",
       "      <td>leche-sin-lactosa</td>\n",
       "      <td>Leche Desnatada Sin Lactosa Hacendado 6 L.</td>\n",
       "      <td>https://super.facua.org/mercadona/leche/leche-...</td>\n",
       "    </tr>\n",
       "    <tr>\n",
       "      <th>1</th>\n",
       "      <td>mercadona</td>\n",
       "      <td>aceite-de-oliva-suave-e-intenso</td>\n",
       "      <td>Aceite De Oliva Suave Hacendado 3 L.</td>\n",
       "      <td>https://super.facua.org/mercadona/aceite-de-ol...</td>\n",
       "    </tr>\n",
       "    <tr>\n",
       "      <th>10</th>\n",
       "      <td>hipercor</td>\n",
       "      <td>aceite-de-oliva-suave-e-intenso</td>\n",
       "      <td>Carbonell Aceite De Oliva Suave 0,4º Botella 1 L</td>\n",
       "      <td>https://super.facua.org/hipercor/aceite-de-oli...</td>\n",
       "    </tr>\n",
       "  </tbody>\n",
       "</table>\n",
       "</div>"
      ],
      "text/plain": [
       "   supermercado                        categoria  \\\n",
       "49     hipercor      leche-entera-semi-desnatada   \n",
       "72      alcampo      leche-entera-semi-desnatada   \n",
       "13     hipercor                leche-enriquecida   \n",
       "1     mercadona                leche-sin-lactosa   \n",
       "1     mercadona  aceite-de-oliva-suave-e-intenso   \n",
       "10     hipercor  aceite-de-oliva-suave-e-intenso   \n",
       "\n",
       "                                             Producto  \\\n",
       "49  El Corte Ingles Leche Desnatada De Asturias Br...   \n",
       "72           Möntbelle Leche Fresca De Cabra 750 Ml.    \n",
       "13       Gaza Leche Semidesnatada Con Calcio Brik 1 L   \n",
       "1          Leche Desnatada Sin Lactosa Hacendado 6 L.   \n",
       "1                Aceite De Oliva Suave Hacendado 3 L.   \n",
       "10   Carbonell Aceite De Oliva Suave 0,4º Botella 1 L   \n",
       "\n",
       "                                                  URL  \n",
       "49  https://super.facua.org/hipercor/leche/el-cort...  \n",
       "72  https://super.facua.org/alcampo/leche/mntbelle...  \n",
       "13  https://super.facua.org/hipercor/leche/gaza-le...  \n",
       "1   https://super.facua.org/mercadona/leche/leche-...  \n",
       "1   https://super.facua.org/mercadona/aceite-de-ol...  \n",
       "10  https://super.facua.org/hipercor/aceite-de-oli...  "
      ]
     },
     "execution_count": 37,
     "metadata": {},
     "output_type": "execute_result"
    }
   ],
   "source": [
    "df.sample(6)"
   ]
  },
  {
   "cell_type": "code",
   "execution_count": 38,
   "metadata": {},
   "outputs": [],
   "source": [
    "df.reset_index(drop=True,inplace=True)"
   ]
  },
  {
   "cell_type": "code",
   "execution_count": 39,
   "metadata": {},
   "outputs": [],
   "source": [
    "df.to_csv(\"../datos/backups/URLS_historico_productos.csv\")"
   ]
  },
  {
   "cell_type": "code",
   "execution_count": 40,
   "metadata": {},
   "outputs": [],
   "source": [
    "df = pd.read_csv(\"../datos/backups/URLS_historico_productos.csv\",index_col=\"Unnamed: 0\")"
   ]
  },
  {
   "cell_type": "code",
   "execution_count": 42,
   "metadata": {},
   "outputs": [
    {
     "data": {
      "text/html": [
       "<div>\n",
       "<style scoped>\n",
       "    .dataframe tbody tr th:only-of-type {\n",
       "        vertical-align: middle;\n",
       "    }\n",
       "\n",
       "    .dataframe tbody tr th {\n",
       "        vertical-align: top;\n",
       "    }\n",
       "\n",
       "    .dataframe thead th {\n",
       "        text-align: right;\n",
       "    }\n",
       "</style>\n",
       "<table border=\"1\" class=\"dataframe\">\n",
       "  <thead>\n",
       "    <tr style=\"text-align: right;\">\n",
       "      <th></th>\n",
       "      <th>supermercado</th>\n",
       "      <th>categoria</th>\n",
       "      <th>Producto</th>\n",
       "      <th>URL</th>\n",
       "    </tr>\n",
       "  </thead>\n",
       "  <tbody>\n",
       "    <tr>\n",
       "      <th>0</th>\n",
       "      <td>mercadona</td>\n",
       "      <td>aceite-de-girasol-</td>\n",
       "      <td>Aceite De Girasol Refinado 0,2º Hacendado 1 L.</td>\n",
       "      <td>https://super.facua.org/mercadona/aceite-de-gi...</td>\n",
       "    </tr>\n",
       "    <tr>\n",
       "      <th>1</th>\n",
       "      <td>mercadona</td>\n",
       "      <td>aceite-de-girasol-</td>\n",
       "      <td>Aceite De Girasol Refinado 0,2º Hacendado 5 L.</td>\n",
       "      <td>https://super.facua.org/mercadona/aceite-de-gi...</td>\n",
       "    </tr>\n",
       "    <tr>\n",
       "      <th>2</th>\n",
       "      <td>mercadona</td>\n",
       "      <td>aceite-de-oliva-suave-e-intenso</td>\n",
       "      <td>Aceite De Oliva Intenso Hacendado 3 L.</td>\n",
       "      <td>https://super.facua.org/mercadona/aceite-de-ol...</td>\n",
       "    </tr>\n",
       "    <tr>\n",
       "      <th>3</th>\n",
       "      <td>mercadona</td>\n",
       "      <td>aceite-de-oliva-suave-e-intenso</td>\n",
       "      <td>Aceite De Oliva Suave Hacendado 3 L.</td>\n",
       "      <td>https://super.facua.org/mercadona/aceite-de-ol...</td>\n",
       "    </tr>\n",
       "    <tr>\n",
       "      <th>4</th>\n",
       "      <td>mercadona</td>\n",
       "      <td>aceite-de-oliva-virgen</td>\n",
       "      <td>Aceite De Oliva Virgen Hacendado 1 L.</td>\n",
       "      <td>https://super.facua.org/mercadona/aceite-de-ol...</td>\n",
       "    </tr>\n",
       "  </tbody>\n",
       "</table>\n",
       "</div>"
      ],
      "text/plain": [
       "  supermercado                        categoria  \\\n",
       "0    mercadona               aceite-de-girasol-   \n",
       "1    mercadona               aceite-de-girasol-   \n",
       "2    mercadona  aceite-de-oliva-suave-e-intenso   \n",
       "3    mercadona  aceite-de-oliva-suave-e-intenso   \n",
       "4    mercadona           aceite-de-oliva-virgen   \n",
       "\n",
       "                                         Producto  \\\n",
       "0  Aceite De Girasol Refinado 0,2º Hacendado 1 L.   \n",
       "1  Aceite De Girasol Refinado 0,2º Hacendado 5 L.   \n",
       "2          Aceite De Oliva Intenso Hacendado 3 L.   \n",
       "3            Aceite De Oliva Suave Hacendado 3 L.   \n",
       "4           Aceite De Oliva Virgen Hacendado 1 L.   \n",
       "\n",
       "                                                 URL  \n",
       "0  https://super.facua.org/mercadona/aceite-de-gi...  \n",
       "1  https://super.facua.org/mercadona/aceite-de-gi...  \n",
       "2  https://super.facua.org/mercadona/aceite-de-ol...  \n",
       "3  https://super.facua.org/mercadona/aceite-de-ol...  \n",
       "4  https://super.facua.org/mercadona/aceite-de-ol...  "
      ]
     },
     "execution_count": 42,
     "metadata": {},
     "output_type": "execute_result"
    }
   ],
   "source": [
    "df.head()"
   ]
  },
  {
   "cell_type": "code",
   "execution_count": 4,
   "metadata": {},
   "outputs": [],
   "source": [
    "tablas_historicos = crear_df_productos_con_historico(df)"
   ]
  },
  {
   "cell_type": "code",
   "execution_count": 11,
   "metadata": {},
   "outputs": [
    {
     "data": {
      "text/plain": [
       "1531"
      ]
     },
     "execution_count": 11,
     "metadata": {},
     "output_type": "execute_result"
    }
   ],
   "source": [
    "len(tablas_historicos)"
   ]
  },
  {
   "cell_type": "code",
   "execution_count": 14,
   "metadata": {},
   "outputs": [],
   "source": [
    "df_historicos = pd.concat(tablas_historicos)"
   ]
  },
  {
   "cell_type": "code",
   "execution_count": 15,
   "metadata": {},
   "outputs": [
    {
     "data": {
      "text/html": [
       "<div>\n",
       "<style scoped>\n",
       "    .dataframe tbody tr th:only-of-type {\n",
       "        vertical-align: middle;\n",
       "    }\n",
       "\n",
       "    .dataframe tbody tr th {\n",
       "        vertical-align: top;\n",
       "    }\n",
       "\n",
       "    .dataframe thead th {\n",
       "        text-align: right;\n",
       "    }\n",
       "</style>\n",
       "<table border=\"1\" class=\"dataframe\">\n",
       "  <thead>\n",
       "    <tr style=\"text-align: right;\">\n",
       "      <th></th>\n",
       "      <th>supermercado</th>\n",
       "      <th>categoria</th>\n",
       "      <th>producto</th>\n",
       "      <th>Día</th>\n",
       "      <th>Precio (€)</th>\n",
       "      <th>Variación</th>\n",
       "    </tr>\n",
       "  </thead>\n",
       "  <tbody>\n",
       "    <tr>\n",
       "      <th>0</th>\n",
       "      <td>mercadona</td>\n",
       "      <td>aceite-de-girasol-</td>\n",
       "      <td>Aceite De Girasol Refinado 0,2º Hacendado 1 L.</td>\n",
       "      <td>12/07/2024</td>\n",
       "      <td>1.45</td>\n",
       "      <td>=</td>\n",
       "    </tr>\n",
       "    <tr>\n",
       "      <th>1</th>\n",
       "      <td>mercadona</td>\n",
       "      <td>aceite-de-girasol-</td>\n",
       "      <td>Aceite De Girasol Refinado 0,2º Hacendado 1 L.</td>\n",
       "      <td>13/07/2024</td>\n",
       "      <td>1.45</td>\n",
       "      <td>=</td>\n",
       "    </tr>\n",
       "    <tr>\n",
       "      <th>2</th>\n",
       "      <td>mercadona</td>\n",
       "      <td>aceite-de-girasol-</td>\n",
       "      <td>Aceite De Girasol Refinado 0,2º Hacendado 1 L.</td>\n",
       "      <td>14/07/2024</td>\n",
       "      <td>1.45</td>\n",
       "      <td>=</td>\n",
       "    </tr>\n",
       "    <tr>\n",
       "      <th>3</th>\n",
       "      <td>mercadona</td>\n",
       "      <td>aceite-de-girasol-</td>\n",
       "      <td>Aceite De Girasol Refinado 0,2º Hacendado 1 L.</td>\n",
       "      <td>15/07/2024</td>\n",
       "      <td>1.45</td>\n",
       "      <td>=</td>\n",
       "    </tr>\n",
       "    <tr>\n",
       "      <th>4</th>\n",
       "      <td>mercadona</td>\n",
       "      <td>aceite-de-girasol-</td>\n",
       "      <td>Aceite De Girasol Refinado 0,2º Hacendado 1 L.</td>\n",
       "      <td>16/07/2024</td>\n",
       "      <td>1.45</td>\n",
       "      <td>=</td>\n",
       "    </tr>\n",
       "    <tr>\n",
       "      <th>...</th>\n",
       "      <td>...</td>\n",
       "      <td>...</td>\n",
       "      <td>...</td>\n",
       "      <td>...</td>\n",
       "      <td>...</td>\n",
       "      <td>...</td>\n",
       "    </tr>\n",
       "    <tr>\n",
       "      <th>96</th>\n",
       "      <td>alcampo</td>\n",
       "      <td>leche-sin-lactosa</td>\n",
       "      <td>Puleva Proteína Extra Pro Leche De Vaca Desnat...</td>\n",
       "      <td>21/10/2024</td>\n",
       "      <td>7.74</td>\n",
       "      <td>+0,24 (3,20%)</td>\n",
       "    </tr>\n",
       "    <tr>\n",
       "      <th>97</th>\n",
       "      <td>alcampo</td>\n",
       "      <td>leche-sin-lactosa</td>\n",
       "      <td>Puleva Proteína Extra Pro Leche De Vaca Desnat...</td>\n",
       "      <td>22/10/2024</td>\n",
       "      <td>7.74</td>\n",
       "      <td>=</td>\n",
       "    </tr>\n",
       "    <tr>\n",
       "      <th>98</th>\n",
       "      <td>alcampo</td>\n",
       "      <td>leche-sin-lactosa</td>\n",
       "      <td>Puleva Proteína Extra Pro Leche De Vaca Desnat...</td>\n",
       "      <td>23/10/2024</td>\n",
       "      <td>7.74</td>\n",
       "      <td>=</td>\n",
       "    </tr>\n",
       "    <tr>\n",
       "      <th>99</th>\n",
       "      <td>alcampo</td>\n",
       "      <td>leche-sin-lactosa</td>\n",
       "      <td>Puleva Proteína Extra Pro Leche De Vaca Desnat...</td>\n",
       "      <td>24/10/2024</td>\n",
       "      <td>7.74</td>\n",
       "      <td>=</td>\n",
       "    </tr>\n",
       "    <tr>\n",
       "      <th>100</th>\n",
       "      <td>alcampo</td>\n",
       "      <td>leche-sin-lactosa</td>\n",
       "      <td>Puleva Proteína Extra Pro Leche De Vaca Desnat...</td>\n",
       "      <td>25/10/2024</td>\n",
       "      <td>7.74</td>\n",
       "      <td>=</td>\n",
       "    </tr>\n",
       "  </tbody>\n",
       "</table>\n",
       "<p>128201 rows × 6 columns</p>\n",
       "</div>"
      ],
      "text/plain": [
       "    supermercado           categoria  \\\n",
       "0      mercadona  aceite-de-girasol-   \n",
       "1      mercadona  aceite-de-girasol-   \n",
       "2      mercadona  aceite-de-girasol-   \n",
       "3      mercadona  aceite-de-girasol-   \n",
       "4      mercadona  aceite-de-girasol-   \n",
       "..           ...                 ...   \n",
       "96       alcampo   leche-sin-lactosa   \n",
       "97       alcampo   leche-sin-lactosa   \n",
       "98       alcampo   leche-sin-lactosa   \n",
       "99       alcampo   leche-sin-lactosa   \n",
       "100      alcampo   leche-sin-lactosa   \n",
       "\n",
       "                                              producto         Día Precio (€)  \\\n",
       "0       Aceite De Girasol Refinado 0,2º Hacendado 1 L.  12/07/2024       1.45   \n",
       "1       Aceite De Girasol Refinado 0,2º Hacendado 1 L.  13/07/2024       1.45   \n",
       "2       Aceite De Girasol Refinado 0,2º Hacendado 1 L.  14/07/2024       1.45   \n",
       "3       Aceite De Girasol Refinado 0,2º Hacendado 1 L.  15/07/2024       1.45   \n",
       "4       Aceite De Girasol Refinado 0,2º Hacendado 1 L.  16/07/2024       1.45   \n",
       "..                                                 ...         ...        ...   \n",
       "96   Puleva Proteína Extra Pro Leche De Vaca Desnat...  21/10/2024       7.74   \n",
       "97   Puleva Proteína Extra Pro Leche De Vaca Desnat...  22/10/2024       7.74   \n",
       "98   Puleva Proteína Extra Pro Leche De Vaca Desnat...  23/10/2024       7.74   \n",
       "99   Puleva Proteína Extra Pro Leche De Vaca Desnat...  24/10/2024       7.74   \n",
       "100  Puleva Proteína Extra Pro Leche De Vaca Desnat...  25/10/2024       7.74   \n",
       "\n",
       "         Variación  \n",
       "0                =  \n",
       "1                =  \n",
       "2                =  \n",
       "3                =  \n",
       "4                =  \n",
       "..             ...  \n",
       "96   +0,24 (3,20%)  \n",
       "97               =  \n",
       "98               =  \n",
       "99               =  \n",
       "100              =  \n",
       "\n",
       "[128201 rows x 6 columns]"
      ]
     },
     "execution_count": 15,
     "metadata": {},
     "output_type": "execute_result"
    }
   ],
   "source": [
    "df_historicos"
   ]
  }
 ],
 "metadata": {
  "kernelspec": {
   "display_name": "Python 3",
   "language": "python",
   "name": "python3"
  },
  "language_info": {
   "codemirror_mode": {
    "name": "ipython",
    "version": 3
   },
   "file_extension": ".py",
   "mimetype": "text/x-python",
   "name": "python",
   "nbconvert_exporter": "python",
   "pygments_lexer": "ipython3",
   "version": "3.11.9"
  }
 },
 "nbformat": 4,
 "nbformat_minor": 2
}
