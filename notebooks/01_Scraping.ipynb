{
 "cells": [
  {
   "cell_type": "markdown",
   "metadata": {},
   "source": [
    "# Scraping\n",
    "\n",
    "Obtener todos los datos a base de Scrapeo:\n",
    "\n",
    "### Fases\n",
    "- Con Selenium, obtener todas las urls de los supermercados\n",
    "- Con Selenium, utilizar las URLs obtenidas, para sacar las urls de:\n",
    "    - Aceite girasol\n",
    "    - Aceite de oliva\n",
    "    - Leche\n",
    "- Con selenium, sacar las URLs de las subcategorias de:\n",
    "    - Aceite de oliva\n",
    "        - Suave e intenso\n",
    "        - Virgen\n",
    "        - Virgen extra.\n",
    "    - Leche\n",
    "        - Enriquecida\n",
    "        - Entera, semi o desnatada\n",
    "        - Sin Lactosa\n",
    "    De forma que, por supermercado, nos quedaremos con:\n",
    "    - URL Aceite Girasol\n",
    "    - URL Aceite de Oliva Suave e Intenso\n",
    "    - URL Aceite de Oliva Virgen\n",
    "    - URL Aceite de Oliva Virgen extra\n",
    "    - URL leche enriquecida\n",
    "    - URL leche entera,semi o desnatada"
   ]
  }
 ],
 "metadata": {
  "language_info": {
   "name": "python"
  }
 },
 "nbformat": 4,
 "nbformat_minor": 2
}
