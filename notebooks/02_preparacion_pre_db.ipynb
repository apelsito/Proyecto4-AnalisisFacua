{
 "cells": [
  {
   "cell_type": "markdown",
   "metadata": {},
   "source": [
    "# Preparación Pre DB\n",
    "\n",
    "Vamos a preparar los DataFrame para insertarlos en la Base de datos"
   ]
  },
  {
   "cell_type": "code",
   "execution_count": 1,
   "metadata": {},
   "outputs": [],
   "source": [
    "# Importamos las librerías que necesitamos\n",
    "\n",
    "# Librerías para automatización de navegadores (Selenium)\n",
    "# -----------------------------------------------------------------------\n",
    "from selenium import webdriver                   # Control automático del navegador para realizar scraping web\n",
    "\n",
    "from selenium.webdriver.chrome.service import Service  # Maneja el servicio de ChromeDriver\n",
    "from selenium.webdriver.common.by import By      # Para seleccionar elementos en la página web (DOM)\n",
    "from selenium.webdriver.chrome.options import Options  # Configuración de opciones del navegador (headless mode, etc.)\n",
    "import time                                      # Para gestionar pausas y temporización\n",
    "\n",
    "# Librerías para extracción de datos y scraping\n",
    "# -----------------------------------------------------------------------\n",
    "from bs4 import BeautifulSoup  # Para analizar y extraer datos de HTML y XML (scraping web)\n",
    "\n",
    "# Librerías para tratamiento y manipulación de datos\n",
    "# -----------------------------------------------------------------------\n",
    "import pandas as pd             # Para manipulación de estructuras de datos como DataFrames\n",
    "import numpy as np              # Para cálculos numéricos y manejo de arrays\n",
    "import datetime                 # Para manipulación de fechas y tiempos\n",
    "# -----------------------------------------------------------------------\n",
    "# Librerías para visualización de progreso\n",
    "# -----------------------------------------------------------------------\n",
    "from tqdm import tqdm  # Para crear barras de progreso durante los bucles\n",
    "\n",
    "# Manejo de tiempo y solicitudes con espera\n",
    "# -----------------------------------------------------------------------\n",
    "from time import sleep          # Para pausar la ejecución del código por un tiempo determinado\n",
    "import random                   # Para generar valores aleatorios, útil para espaciar solicitudes y evitar bloqueos\n",
    "# Importación de módulos desde rutas recursivas\n",
    "# -----------------------------------------------------------------------\n",
    "import sys\n",
    "sys.path.append(\"../\")  # Añadir rutas externas para poder importar módulos desde carpetas superiores\n",
    "from src.SupportPreDB import crear_df_unicos, crear_df_historico"
   ]
  },
  {
   "cell_type": "markdown",
   "metadata": {},
   "source": [
    "# Abrir tabla\n",
    "Para continuar donde lo dejamos en la Fase 1"
   ]
  },
  {
   "cell_type": "code",
   "execution_count": 2,
   "metadata": {},
   "outputs": [],
   "source": [
    "df_historicos =  pd.read_csv(\"../datos/01_tabla_historicos_preDB.csv\",index_col=\"Unnamed: 0\")"
   ]
  },
  {
   "cell_type": "code",
   "execution_count": 3,
   "metadata": {},
   "outputs": [
    {
     "data": {
      "text/html": [
       "<div>\n",
       "<style scoped>\n",
       "    .dataframe tbody tr th:only-of-type {\n",
       "        vertical-align: middle;\n",
       "    }\n",
       "\n",
       "    .dataframe tbody tr th {\n",
       "        vertical-align: top;\n",
       "    }\n",
       "\n",
       "    .dataframe thead th {\n",
       "        text-align: right;\n",
       "    }\n",
       "</style>\n",
       "<table border=\"1\" class=\"dataframe\">\n",
       "  <thead>\n",
       "    <tr style=\"text-align: right;\">\n",
       "      <th></th>\n",
       "      <th>supermercado</th>\n",
       "      <th>categoria</th>\n",
       "      <th>producto</th>\n",
       "      <th>fecha</th>\n",
       "      <th>precio (€)</th>\n",
       "      <th>variacion (€)</th>\n",
       "      <th>variacion (%)</th>\n",
       "    </tr>\n",
       "  </thead>\n",
       "  <tbody>\n",
       "    <tr>\n",
       "      <th>46210</th>\n",
       "      <td>dia</td>\n",
       "      <td>aceite de oliva virgen extra</td>\n",
       "      <td>Aceite De Oliva Virgen Extra Ecológico Oro De ...</td>\n",
       "      <td>2024-10-05</td>\n",
       "      <td>7.76</td>\n",
       "      <td>0.0</td>\n",
       "      <td>0.0</td>\n",
       "    </tr>\n",
       "  </tbody>\n",
       "</table>\n",
       "</div>"
      ],
      "text/plain": [
       "      supermercado                     categoria  \\\n",
       "46210          dia  aceite de oliva virgen extra   \n",
       "\n",
       "                                                producto       fecha  \\\n",
       "46210  Aceite De Oliva Virgen Extra Ecológico Oro De ...  2024-10-05   \n",
       "\n",
       "       precio (€)  variacion (€)  variacion (%)  \n",
       "46210        7.76            0.0            0.0  "
      ]
     },
     "execution_count": 3,
     "metadata": {},
     "output_type": "execute_result"
    }
   ],
   "source": [
    "df_historicos.sample()"
   ]
  },
  {
   "cell_type": "markdown",
   "metadata": {},
   "source": [
    "Ver si merece la pena tener una tabla producto\n",
    "\n",
    "Con 1523 productos, nos merece la pena para no repetirlos en los 128796"
   ]
  },
  {
   "cell_type": "code",
   "execution_count": 4,
   "metadata": {},
   "outputs": [
    {
     "data": {
      "text/plain": [
       "1523"
      ]
     },
     "execution_count": 4,
     "metadata": {},
     "output_type": "execute_result"
    }
   ],
   "source": [
    "len(df_historicos[\"producto\"].unique())"
   ]
  },
  {
   "cell_type": "markdown",
   "metadata": {},
   "source": [
    "# Renombrar una categoría\n",
    "\n",
    "Por claridad renombro la categoría \"leche entera semi desnatada\" por \"leche entera, semi o desnatada\""
   ]
  },
  {
   "cell_type": "code",
   "execution_count": 5,
   "metadata": {},
   "outputs": [],
   "source": [
    "df_historicos[\"categoria\"] =df_historicos[\"categoria\"].str.replace(\"leche entera semi desnatada\",'leche entera, semi o desnatada')\n"
   ]
  },
  {
   "cell_type": "markdown",
   "metadata": {},
   "source": [
    "### Separar las tablas para realizar la base de Datos\n",
    "Tendremos 4 tablas:\n",
    "- Supermercado\n",
    "- Categoría\n",
    "- Producto\n",
    "- Histórico\n",
    "\n",
    "En la fase 3 detallaremos sus columnas y demás, por ahora solo queremos preparar los DataFrames\n",
    "\n",
    "Vamos a realizar lo siguiente:\n",
    "- Separar Supermercado, Categoría y Producto, cada uno en un DataFrame individual, con dos columnas, un index que empieza en uno, que compatibiliza con el funcionamiento de los índices en SQL y otra con los valores únicos de cada una de las columnas.\n",
    "\n",
    "- DF histórico con índices de Supermercado, categoría y Producto: Generamos un diccionario para cada una de las tablas anteriores, con ello lo utilizaremos para reemplazar los valores de esas columnas por el índice que tendran en la Base de Datos, lo que nos ayudará a vincular las Foreign Keys"
   ]
  },
  {
   "cell_type": "markdown",
   "metadata": {},
   "source": [
    "### Separar Supermercados"
   ]
  },
  {
   "cell_type": "code",
   "execution_count": 6,
   "metadata": {},
   "outputs": [],
   "source": [
    "df_supermercados = crear_df_unicos(df_historicos,\"supermercado\")"
   ]
  },
  {
   "cell_type": "code",
   "execution_count": 7,
   "metadata": {},
   "outputs": [
    {
     "data": {
      "text/html": [
       "<div>\n",
       "<style scoped>\n",
       "    .dataframe tbody tr th:only-of-type {\n",
       "        vertical-align: middle;\n",
       "    }\n",
       "\n",
       "    .dataframe tbody tr th {\n",
       "        vertical-align: top;\n",
       "    }\n",
       "\n",
       "    .dataframe thead th {\n",
       "        text-align: right;\n",
       "    }\n",
       "</style>\n",
       "<table border=\"1\" class=\"dataframe\">\n",
       "  <thead>\n",
       "    <tr style=\"text-align: right;\">\n",
       "      <th></th>\n",
       "      <th>index</th>\n",
       "      <th>supermercado</th>\n",
       "    </tr>\n",
       "  </thead>\n",
       "  <tbody>\n",
       "    <tr>\n",
       "      <th>2</th>\n",
       "      <td>3</td>\n",
       "      <td>eroski</td>\n",
       "    </tr>\n",
       "  </tbody>\n",
       "</table>\n",
       "</div>"
      ],
      "text/plain": [
       "   index supermercado\n",
       "2      3       eroski"
      ]
     },
     "execution_count": 7,
     "metadata": {},
     "output_type": "execute_result"
    }
   ],
   "source": [
    "df_supermercados.sample()"
   ]
  },
  {
   "cell_type": "markdown",
   "metadata": {},
   "source": [
    "### Guardamos la tabla que ya está realizada"
   ]
  },
  {
   "cell_type": "code",
   "execution_count": 8,
   "metadata": {},
   "outputs": [],
   "source": [
    "df_supermercados.to_csv(\"../datos/02_tabla_supermercados.csv\")"
   ]
  },
  {
   "cell_type": "markdown",
   "metadata": {},
   "source": [
    "### Separar Categoría"
   ]
  },
  {
   "cell_type": "code",
   "execution_count": 9,
   "metadata": {},
   "outputs": [],
   "source": [
    "df_categorias = crear_df_unicos(df_historicos,\"categoria\")"
   ]
  },
  {
   "cell_type": "code",
   "execution_count": 10,
   "metadata": {},
   "outputs": [
    {
     "data": {
      "text/html": [
       "<div>\n",
       "<style scoped>\n",
       "    .dataframe tbody tr th:only-of-type {\n",
       "        vertical-align: middle;\n",
       "    }\n",
       "\n",
       "    .dataframe tbody tr th {\n",
       "        vertical-align: top;\n",
       "    }\n",
       "\n",
       "    .dataframe thead th {\n",
       "        text-align: right;\n",
       "    }\n",
       "</style>\n",
       "<table border=\"1\" class=\"dataframe\">\n",
       "  <thead>\n",
       "    <tr style=\"text-align: right;\">\n",
       "      <th></th>\n",
       "      <th>index</th>\n",
       "      <th>categoria</th>\n",
       "    </tr>\n",
       "  </thead>\n",
       "  <tbody>\n",
       "    <tr>\n",
       "      <th>1</th>\n",
       "      <td>2</td>\n",
       "      <td>aceite de oliva suave e intenso</td>\n",
       "    </tr>\n",
       "  </tbody>\n",
       "</table>\n",
       "</div>"
      ],
      "text/plain": [
       "   index                        categoria\n",
       "1      2  aceite de oliva suave e intenso"
      ]
     },
     "execution_count": 10,
     "metadata": {},
     "output_type": "execute_result"
    }
   ],
   "source": [
    "df_categorias.sample()"
   ]
  },
  {
   "cell_type": "markdown",
   "metadata": {},
   "source": [
    "### Guardamos la tabla que ya está realizada"
   ]
  },
  {
   "cell_type": "code",
   "execution_count": 11,
   "metadata": {},
   "outputs": [],
   "source": [
    "df_categorias.to_csv(\"../datos/03_tabla_categorias.csv\")"
   ]
  },
  {
   "cell_type": "markdown",
   "metadata": {},
   "source": [
    "### Separar Producto"
   ]
  },
  {
   "cell_type": "code",
   "execution_count": 12,
   "metadata": {},
   "outputs": [],
   "source": [
    "df_productos = crear_df_unicos(df_historicos,\"producto\")"
   ]
  },
  {
   "cell_type": "code",
   "execution_count": 13,
   "metadata": {},
   "outputs": [
    {
     "data": {
      "text/html": [
       "<div>\n",
       "<style scoped>\n",
       "    .dataframe tbody tr th:only-of-type {\n",
       "        vertical-align: middle;\n",
       "    }\n",
       "\n",
       "    .dataframe tbody tr th {\n",
       "        vertical-align: top;\n",
       "    }\n",
       "\n",
       "    .dataframe thead th {\n",
       "        text-align: right;\n",
       "    }\n",
       "</style>\n",
       "<table border=\"1\" class=\"dataframe\">\n",
       "  <thead>\n",
       "    <tr style=\"text-align: right;\">\n",
       "      <th></th>\n",
       "      <th>index</th>\n",
       "      <th>producto</th>\n",
       "    </tr>\n",
       "  </thead>\n",
       "  <tbody>\n",
       "    <tr>\n",
       "      <th>1403</th>\n",
       "      <td>1404</td>\n",
       "      <td>Laban Leche Fresca Parcialmente Desnatada, Pas...</td>\n",
       "    </tr>\n",
       "  </tbody>\n",
       "</table>\n",
       "</div>"
      ],
      "text/plain": [
       "      index                                           producto\n",
       "1403   1404  Laban Leche Fresca Parcialmente Desnatada, Pas..."
      ]
     },
     "execution_count": 13,
     "metadata": {},
     "output_type": "execute_result"
    }
   ],
   "source": [
    "df_productos.sample()"
   ]
  },
  {
   "cell_type": "markdown",
   "metadata": {},
   "source": [
    "### Guardamos la tabla que ya está realizada"
   ]
  },
  {
   "cell_type": "code",
   "execution_count": 14,
   "metadata": {},
   "outputs": [],
   "source": [
    "df_productos.to_csv(\"../datos/04_tabla_productos.csv\")"
   ]
  },
  {
   "cell_type": "markdown",
   "metadata": {},
   "source": [
    "# Preparar DF Histórico\n",
    "\n",
    "Con las tablas que tenemos ahora, realizaremos los diccionarios y reemplazaremos en nuestra tabla original, los valores de los mismos por sus respectivos índices\n"
   ]
  },
  {
   "cell_type": "code",
   "execution_count": 15,
   "metadata": {},
   "outputs": [],
   "source": [
    "df_historico = crear_df_historico(df_historicos,df_supermercados,df_categorias,df_productos)"
   ]
  },
  {
   "cell_type": "code",
   "execution_count": 18,
   "metadata": {},
   "outputs": [
    {
     "data": {
      "text/html": [
       "<div>\n",
       "<style scoped>\n",
       "    .dataframe tbody tr th:only-of-type {\n",
       "        vertical-align: middle;\n",
       "    }\n",
       "\n",
       "    .dataframe tbody tr th {\n",
       "        vertical-align: top;\n",
       "    }\n",
       "\n",
       "    .dataframe thead th {\n",
       "        text-align: right;\n",
       "    }\n",
       "</style>\n",
       "<table border=\"1\" class=\"dataframe\">\n",
       "  <thead>\n",
       "    <tr style=\"text-align: right;\">\n",
       "      <th></th>\n",
       "      <th>supermercado</th>\n",
       "      <th>categoria</th>\n",
       "      <th>producto</th>\n",
       "      <th>fecha</th>\n",
       "      <th>precio (€)</th>\n",
       "      <th>variacion (€)</th>\n",
       "      <th>variacion (%)</th>\n",
       "    </tr>\n",
       "  </thead>\n",
       "  <tbody>\n",
       "    <tr>\n",
       "      <th>14076</th>\n",
       "      <td>2</td>\n",
       "      <td>5</td>\n",
       "      <td>151</td>\n",
       "      <td>2024-08-03</td>\n",
       "      <td>0.93</td>\n",
       "      <td>0.0</td>\n",
       "      <td>0.0</td>\n",
       "    </tr>\n",
       "    <tr>\n",
       "      <th>24226</th>\n",
       "      <td>3</td>\n",
       "      <td>3</td>\n",
       "      <td>323</td>\n",
       "      <td>2024-07-18</td>\n",
       "      <td>41.70</td>\n",
       "      <td>0.0</td>\n",
       "      <td>0.0</td>\n",
       "    </tr>\n",
       "    <tr>\n",
       "      <th>120688</th>\n",
       "      <td>6</td>\n",
       "      <td>6</td>\n",
       "      <td>1425</td>\n",
       "      <td>2024-08-24</td>\n",
       "      <td>1.13</td>\n",
       "      <td>0.0</td>\n",
       "      <td>0.0</td>\n",
       "    </tr>\n",
       "    <tr>\n",
       "      <th>81347</th>\n",
       "      <td>5</td>\n",
       "      <td>6</td>\n",
       "      <td>969</td>\n",
       "      <td>2024-08-27</td>\n",
       "      <td>2.37</td>\n",
       "      <td>0.0</td>\n",
       "      <td>0.0</td>\n",
       "    </tr>\n",
       "    <tr>\n",
       "      <th>16742</th>\n",
       "      <td>2</td>\n",
       "      <td>6</td>\n",
       "      <td>206</td>\n",
       "      <td>2024-10-06</td>\n",
       "      <td>1.16</td>\n",
       "      <td>0.0</td>\n",
       "      <td>0.0</td>\n",
       "    </tr>\n",
       "  </tbody>\n",
       "</table>\n",
       "</div>"
      ],
      "text/plain": [
       "        supermercado  categoria  producto       fecha  precio (€)  \\\n",
       "14076              2          5       151  2024-08-03        0.93   \n",
       "24226              3          3       323  2024-07-18       41.70   \n",
       "120688             6          6      1425  2024-08-24        1.13   \n",
       "81347              5          6       969  2024-08-27        2.37   \n",
       "16742              2          6       206  2024-10-06        1.16   \n",
       "\n",
       "        variacion (€)  variacion (%)  \n",
       "14076             0.0            0.0  \n",
       "24226             0.0            0.0  \n",
       "120688            0.0            0.0  \n",
       "81347             0.0            0.0  \n",
       "16742             0.0            0.0  "
      ]
     },
     "execution_count": 18,
     "metadata": {},
     "output_type": "execute_result"
    }
   ],
   "source": [
    "df_historico.sample(5)"
   ]
  },
  {
   "cell_type": "markdown",
   "metadata": {},
   "source": [
    "### Guardamos el resultado y pasamos a Fase 3"
   ]
  },
  {
   "cell_type": "code",
   "execution_count": 19,
   "metadata": {},
   "outputs": [],
   "source": [
    "df_historico.to_csv(\"../datos/05_tabla_historico.csv\")"
   ]
  }
 ],
 "metadata": {
  "kernelspec": {
   "display_name": "Python 3",
   "language": "python",
   "name": "python3"
  },
  "language_info": {
   "codemirror_mode": {
    "name": "ipython",
    "version": 3
   },
   "file_extension": ".py",
   "mimetype": "text/x-python",
   "name": "python",
   "nbconvert_exporter": "python",
   "pygments_lexer": "ipython3",
   "version": "3.11.9"
  }
 },
 "nbformat": 4,
 "nbformat_minor": 2
}
