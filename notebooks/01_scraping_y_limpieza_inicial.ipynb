{
 "cells": [
  {
   "cell_type": "markdown",
   "metadata": {},
   "source": [
    "# Scraping\n",
    "\n",
    "Obtener todos los datos a base de Scrapeo:\n",
    "\n",
    "### Fases\n",
    "- Con Selenium, obtener todas las urls de los supermercados\n",
    "- Con Selenium, utilizar las URLs obtenidas, para sacar las urls de:\n",
    "    - Aceite girasol\n",
    "    - Aceite de oliva\n",
    "    - Leche\n",
    "- Con selenium, sacar las URLs de las subcategorias de:\n",
    "    - Aceite de oliva\n",
    "        - Suave e intenso\n",
    "        - Virgen\n",
    "        - Virgen extra.\n",
    "    - Leche\n",
    "        - Enriquecida\n",
    "        - Entera, semi o desnatada\n",
    "        - Sin Lactosa\n",
    "    De forma que, por supermercado, nos quedaremos con:\n",
    "    - URL Aceite Girasol\n",
    "    - URL Aceite de Oliva Suave e Intenso\n",
    "    - URL Aceite de Oliva Virgen\n",
    "    - URL Aceite de Oliva Virgen extra\n",
    "    - URL leche enriquecida\n",
    "    - URL leche entera,semi o desnatada\n",
    "    - URL leche sin lactosa\n",
    "\n",
    "Con estas URL utilizaremos BEAUTIFUL SOUP para sacar las URL del histórico de cada producto"
   ]
  },
  {
   "cell_type": "code",
   "execution_count": 6,
   "metadata": {},
   "outputs": [],
   "source": [
    "# Importación de librerías necesarias para el proyecto\n",
    "\n",
    "# Automatización de navegadores (Selenium)\n",
    "# -----------------------------------------------------------------------\n",
    "from selenium import webdriver                      # Control automático del navegador para realizar scraping web\n",
    "from selenium.webdriver.chrome.service import Service  # Manejo del servicio de ChromeDriver\n",
    "from selenium.webdriver.common.by import By         # Selección de elementos en el DOM\n",
    "from selenium.webdriver.chrome.options import Options  # Configuración de opciones del navegador (headless mode, etc.)\n",
    "import time                                         # Gestión de pausas y temporización\n",
    "\n",
    "# Extracción de datos y scraping\n",
    "# -----------------------------------------------------------------------\n",
    "from bs4 import BeautifulSoup                       # Análisis y extracción de datos de HTML y XML (scraping web)\n",
    "\n",
    "# Tratamiento y manipulación de datos\n",
    "# -----------------------------------------------------------------------\n",
    "import pandas as pd                                 # Manipulación y análisis de datos en estructuras DataFrame\n",
    "import numpy as np                                  # Cálculos numéricos y manejo de arrays\n",
    "import datetime                                     # Manipulación de fechas y tiempos\n",
    "\n",
    "# Visualización de progreso\n",
    "# -----------------------------------------------------------------------\n",
    "from tqdm import tqdm                               # Creación de barras de progreso durante bucles\n",
    "\n",
    "# Manejo de tiempo y solicitudes con espera\n",
    "# -----------------------------------------------------------------------\n",
    "from time import sleep                              # Pausas en la ejecución del código\n",
    "\n",
    "# Importación de módulos desde rutas recursivas\n",
    "# -----------------------------------------------------------------------\n",
    "import sys\n",
    "sys.path.append(\"../\")                              # Añadir rutas externas para poder importar módulos desde carpetas superiores\n",
    "from src.SupportScraping import (\n",
    "    obtener_url_supermercados,\n",
    "    obtener_url_productos_por_supermercado,\n",
    "    obtener_urls_por_super_producto_y_categoria,\n",
    "    obtener_href_productos,\n",
    "    crear_df_productos_con_historico\n",
    ")                                                  # Importación de funciones de soporte para scraping"
   ]
  },
  {
   "cell_type": "markdown",
   "metadata": {},
   "source": [
    "### Obtener con Selenium, obtener todas las urls de los supermercados"
   ]
  },
  {
   "cell_type": "code",
   "execution_count": 4,
   "metadata": {},
   "outputs": [
    {
     "name": "stderr",
     "output_type": "stream",
     "text": [
      "100%|██████████| 6/6 [01:13<00:00, 12.30s/it]\n"
     ]
    }
   ],
   "source": [
    "xpaths = [\"/html/body/section[1]/div/div[2]/div[1]/div/div[2]\",\n",
    "          \"/html/body/section[1]/div/div[2]/div[2]/div/div[2]/div\",\n",
    "          \"/html/body/section[1]/div/div[2]/div[3]/div/div[2]/div\",\n",
    "          \"/html/body/section[1]/div/div[2]/div[4]/div/div[2]/div\",\n",
    "          \"/html/body/section[1]/div/div[2]/div[5]/div/div[2]/div\",\n",
    "          \"/html/body/section[1]/div/div[2]/div[6]/div/div[2]/div\"]\n",
    "\n",
    "url_supermercados = [obtener_url_supermercados(xpath) for xpath in tqdm(xpaths)]"
   ]
  },
  {
   "cell_type": "markdown",
   "metadata": {},
   "source": [
    "Observamos el resultado"
   ]
  },
  {
   "cell_type": "code",
   "execution_count": 5,
   "metadata": {},
   "outputs": [
    {
     "data": {
      "text/plain": [
       "['https://super.facua.org/mercadona/',\n",
       " 'https://super.facua.org/carrefour/',\n",
       " 'https://super.facua.org/eroski/',\n",
       " 'https://super.facua.org/dia/',\n",
       " 'https://super.facua.org/hipercor/',\n",
       " 'https://super.facua.org/alcampo/']"
      ]
     },
     "execution_count": 5,
     "metadata": {},
     "output_type": "execute_result"
    }
   ],
   "source": [
    "url_supermercados"
   ]
  },
  {
   "cell_type": "markdown",
   "metadata": {},
   "source": [
    "## Con Selenium, utilizar las URLs obtenidas, para sacar las urls de:\n",
    "- Aceite girasol\n",
    "- Aceite de oliva\n",
    "- Leche"
   ]
  },
  {
   "cell_type": "code",
   "execution_count": 26,
   "metadata": {},
   "outputs": [
    {
     "name": "stderr",
     "output_type": "stream",
     "text": [
      "100%|██████████| 6/6 [05:14<00:00, 52.36s/it]\n"
     ]
    }
   ],
   "source": [
    "url_productos = [obtener_url_productos_por_supermercado(url) for url in tqdm(url_supermercados)]"
   ]
  },
  {
   "cell_type": "code",
   "execution_count": 27,
   "metadata": {},
   "outputs": [
    {
     "data": {
      "text/plain": [
       "[['https://super.facua.org/mercadona/aceite-de-girasol/',\n",
       "  'https://super.facua.org/mercadona/aceite-de-oliva/',\n",
       "  'https://super.facua.org/mercadona/leche/'],\n",
       " ['https://super.facua.org/carrefour/aceite-de-girasol/',\n",
       "  'https://super.facua.org/carrefour/aceite-de-oliva/',\n",
       "  'https://super.facua.org/carrefour/leche/'],\n",
       " ['https://super.facua.org/eroski/aceite-de-girasol/',\n",
       "  'https://super.facua.org/eroski/aceite-de-oliva/',\n",
       "  'https://super.facua.org/eroski/leche/'],\n",
       " ['https://super.facua.org/dia/aceite-de-girasol/',\n",
       "  'https://super.facua.org/dia/aceite-de-oliva/',\n",
       "  'https://super.facua.org/dia/leche/'],\n",
       " ['https://super.facua.org/hipercor/aceite-de-girasol/',\n",
       "  'https://super.facua.org/hipercor/aceite-de-oliva/',\n",
       "  'https://super.facua.org/hipercor/leche/'],\n",
       " ['https://super.facua.org/alcampo/aceite-de-girasol/',\n",
       "  'https://super.facua.org/alcampo/aceite-de-oliva/',\n",
       "  'https://super.facua.org/alcampo/leche/']]"
      ]
     },
     "execution_count": 27,
     "metadata": {},
     "output_type": "execute_result"
    }
   ],
   "source": [
    "url_productos"
   ]
  },
  {
   "cell_type": "code",
   "execution_count": 33,
   "metadata": {},
   "outputs": [],
   "source": [
    "urls_super_category = [obtener_urls_por_super_producto_y_categoria(url_productos[i][0],url_productos[i][1],url_productos[i][2]) for i,p in enumerate(url_productos)]"
   ]
  },
  {
   "cell_type": "markdown",
   "metadata": {},
   "source": [
    "### Obtener las URL para acceder a las tablas de historico"
   ]
  },
  {
   "cell_type": "code",
   "execution_count": 34,
   "metadata": {},
   "outputs": [
    {
     "name": "stderr",
     "output_type": "stream",
     "text": [
      "\n",
      "\u001b[A\n",
      "0it [09:07, ?it/s]\n",
      "0it [07:13, ?it/s]\n",
      "  0%|          | 0/6 [07:13<?, ?it/s]\n",
      "\n",
      "\u001b[A\n",
      "\u001b[A\n",
      "\u001b[A\n",
      "\u001b[A\n",
      "100%|██████████| 6/6 [00:17<00:00,  3.00s/it]\n"
     ]
    }
   ],
   "source": [
    "supermercados_dfs = [obtener_href_productos(df) for df in tqdm(urls_super_category)]"
   ]
  },
  {
   "cell_type": "markdown",
   "metadata": {},
   "source": [
    "### Sacamos la última tabla de la operación anterior que nos unifica todo en una"
   ]
  },
  {
   "cell_type": "code",
   "execution_count": 35,
   "metadata": {},
   "outputs": [],
   "source": [
    "df = pd.DataFrame()\n",
    "lista_dfs = []\n",
    "for i in range(0,len(supermercados_dfs)):\n",
    "    for e in range(0,len(supermercados_dfs[i])):\n",
    "        df_temp = supermercados_dfs[i][e]\n",
    "        df = pd.concat([df,df_temp])\n",
    "    \n",
    "    lista_dfs.append(df)"
   ]
  },
  {
   "cell_type": "code",
   "execution_count": 36,
   "metadata": {},
   "outputs": [],
   "source": [
    "df = lista_dfs[5]"
   ]
  },
  {
   "cell_type": "code",
   "execution_count": 37,
   "metadata": {},
   "outputs": [
    {
     "data": {
      "text/html": [
       "<div>\n",
       "<style scoped>\n",
       "    .dataframe tbody tr th:only-of-type {\n",
       "        vertical-align: middle;\n",
       "    }\n",
       "\n",
       "    .dataframe tbody tr th {\n",
       "        vertical-align: top;\n",
       "    }\n",
       "\n",
       "    .dataframe thead th {\n",
       "        text-align: right;\n",
       "    }\n",
       "</style>\n",
       "<table border=\"1\" class=\"dataframe\">\n",
       "  <thead>\n",
       "    <tr style=\"text-align: right;\">\n",
       "      <th></th>\n",
       "      <th>supermercado</th>\n",
       "      <th>categoria</th>\n",
       "      <th>Producto</th>\n",
       "      <th>URL</th>\n",
       "    </tr>\n",
       "  </thead>\n",
       "  <tbody>\n",
       "    <tr>\n",
       "      <th>49</th>\n",
       "      <td>hipercor</td>\n",
       "      <td>leche-entera-semi-desnatada</td>\n",
       "      <td>El Corte Ingles Leche Desnatada De Asturias Br...</td>\n",
       "      <td>https://super.facua.org/hipercor/leche/el-cort...</td>\n",
       "    </tr>\n",
       "    <tr>\n",
       "      <th>72</th>\n",
       "      <td>alcampo</td>\n",
       "      <td>leche-entera-semi-desnatada</td>\n",
       "      <td>Möntbelle Leche Fresca De Cabra 750 Ml.</td>\n",
       "      <td>https://super.facua.org/alcampo/leche/mntbelle...</td>\n",
       "    </tr>\n",
       "    <tr>\n",
       "      <th>13</th>\n",
       "      <td>hipercor</td>\n",
       "      <td>leche-enriquecida</td>\n",
       "      <td>Gaza Leche Semidesnatada Con Calcio Brik 1 L</td>\n",
       "      <td>https://super.facua.org/hipercor/leche/gaza-le...</td>\n",
       "    </tr>\n",
       "    <tr>\n",
       "      <th>1</th>\n",
       "      <td>mercadona</td>\n",
       "      <td>leche-sin-lactosa</td>\n",
       "      <td>Leche Desnatada Sin Lactosa Hacendado 6 L.</td>\n",
       "      <td>https://super.facua.org/mercadona/leche/leche-...</td>\n",
       "    </tr>\n",
       "    <tr>\n",
       "      <th>1</th>\n",
       "      <td>mercadona</td>\n",
       "      <td>aceite-de-oliva-suave-e-intenso</td>\n",
       "      <td>Aceite De Oliva Suave Hacendado 3 L.</td>\n",
       "      <td>https://super.facua.org/mercadona/aceite-de-ol...</td>\n",
       "    </tr>\n",
       "    <tr>\n",
       "      <th>10</th>\n",
       "      <td>hipercor</td>\n",
       "      <td>aceite-de-oliva-suave-e-intenso</td>\n",
       "      <td>Carbonell Aceite De Oliva Suave 0,4º Botella 1 L</td>\n",
       "      <td>https://super.facua.org/hipercor/aceite-de-oli...</td>\n",
       "    </tr>\n",
       "  </tbody>\n",
       "</table>\n",
       "</div>"
      ],
      "text/plain": [
       "   supermercado                        categoria  \\\n",
       "49     hipercor      leche-entera-semi-desnatada   \n",
       "72      alcampo      leche-entera-semi-desnatada   \n",
       "13     hipercor                leche-enriquecida   \n",
       "1     mercadona                leche-sin-lactosa   \n",
       "1     mercadona  aceite-de-oliva-suave-e-intenso   \n",
       "10     hipercor  aceite-de-oliva-suave-e-intenso   \n",
       "\n",
       "                                             Producto  \\\n",
       "49  El Corte Ingles Leche Desnatada De Asturias Br...   \n",
       "72           Möntbelle Leche Fresca De Cabra 750 Ml.    \n",
       "13       Gaza Leche Semidesnatada Con Calcio Brik 1 L   \n",
       "1          Leche Desnatada Sin Lactosa Hacendado 6 L.   \n",
       "1                Aceite De Oliva Suave Hacendado 3 L.   \n",
       "10   Carbonell Aceite De Oliva Suave 0,4º Botella 1 L   \n",
       "\n",
       "                                                  URL  \n",
       "49  https://super.facua.org/hipercor/leche/el-cort...  \n",
       "72  https://super.facua.org/alcampo/leche/mntbelle...  \n",
       "13  https://super.facua.org/hipercor/leche/gaza-le...  \n",
       "1   https://super.facua.org/mercadona/leche/leche-...  \n",
       "1   https://super.facua.org/mercadona/aceite-de-ol...  \n",
       "10  https://super.facua.org/hipercor/aceite-de-oli...  "
      ]
     },
     "execution_count": 37,
     "metadata": {},
     "output_type": "execute_result"
    }
   ],
   "source": [
    "df.sample(6)"
   ]
  },
  {
   "cell_type": "code",
   "execution_count": 38,
   "metadata": {},
   "outputs": [],
   "source": [
    "df.reset_index(drop=True,inplace=True)"
   ]
  },
  {
   "cell_type": "code",
   "execution_count": 39,
   "metadata": {},
   "outputs": [],
   "source": [
    "df.to_csv(\"../datos/backups/URLS_historico_productos.csv\")"
   ]
  },
  {
   "cell_type": "code",
   "execution_count": 3,
   "metadata": {},
   "outputs": [],
   "source": [
    "df = pd.read_csv(\"../datos/backups/URLS_historico_productos.csv\",index_col=\"Unnamed: 0\")"
   ]
  },
  {
   "cell_type": "code",
   "execution_count": 4,
   "metadata": {},
   "outputs": [
    {
     "data": {
      "text/html": [
       "<div>\n",
       "<style scoped>\n",
       "    .dataframe tbody tr th:only-of-type {\n",
       "        vertical-align: middle;\n",
       "    }\n",
       "\n",
       "    .dataframe tbody tr th {\n",
       "        vertical-align: top;\n",
       "    }\n",
       "\n",
       "    .dataframe thead th {\n",
       "        text-align: right;\n",
       "    }\n",
       "</style>\n",
       "<table border=\"1\" class=\"dataframe\">\n",
       "  <thead>\n",
       "    <tr style=\"text-align: right;\">\n",
       "      <th></th>\n",
       "      <th>supermercado</th>\n",
       "      <th>categoria</th>\n",
       "      <th>Producto</th>\n",
       "      <th>URL</th>\n",
       "    </tr>\n",
       "  </thead>\n",
       "  <tbody>\n",
       "    <tr>\n",
       "      <th>0</th>\n",
       "      <td>mercadona</td>\n",
       "      <td>aceite-de-girasol-</td>\n",
       "      <td>Aceite De Girasol Refinado 0,2º Hacendado 1 L.</td>\n",
       "      <td>https://super.facua.org/mercadona/aceite-de-gi...</td>\n",
       "    </tr>\n",
       "    <tr>\n",
       "      <th>1</th>\n",
       "      <td>mercadona</td>\n",
       "      <td>aceite-de-girasol-</td>\n",
       "      <td>Aceite De Girasol Refinado 0,2º Hacendado 5 L.</td>\n",
       "      <td>https://super.facua.org/mercadona/aceite-de-gi...</td>\n",
       "    </tr>\n",
       "    <tr>\n",
       "      <th>2</th>\n",
       "      <td>mercadona</td>\n",
       "      <td>aceite-de-oliva-suave-e-intenso</td>\n",
       "      <td>Aceite De Oliva Intenso Hacendado 3 L.</td>\n",
       "      <td>https://super.facua.org/mercadona/aceite-de-ol...</td>\n",
       "    </tr>\n",
       "    <tr>\n",
       "      <th>3</th>\n",
       "      <td>mercadona</td>\n",
       "      <td>aceite-de-oliva-suave-e-intenso</td>\n",
       "      <td>Aceite De Oliva Suave Hacendado 3 L.</td>\n",
       "      <td>https://super.facua.org/mercadona/aceite-de-ol...</td>\n",
       "    </tr>\n",
       "    <tr>\n",
       "      <th>4</th>\n",
       "      <td>mercadona</td>\n",
       "      <td>aceite-de-oliva-virgen</td>\n",
       "      <td>Aceite De Oliva Virgen Hacendado 1 L.</td>\n",
       "      <td>https://super.facua.org/mercadona/aceite-de-ol...</td>\n",
       "    </tr>\n",
       "  </tbody>\n",
       "</table>\n",
       "</div>"
      ],
      "text/plain": [
       "  supermercado                        categoria  \\\n",
       "0    mercadona               aceite-de-girasol-   \n",
       "1    mercadona               aceite-de-girasol-   \n",
       "2    mercadona  aceite-de-oliva-suave-e-intenso   \n",
       "3    mercadona  aceite-de-oliva-suave-e-intenso   \n",
       "4    mercadona           aceite-de-oliva-virgen   \n",
       "\n",
       "                                         Producto  \\\n",
       "0  Aceite De Girasol Refinado 0,2º Hacendado 1 L.   \n",
       "1  Aceite De Girasol Refinado 0,2º Hacendado 5 L.   \n",
       "2          Aceite De Oliva Intenso Hacendado 3 L.   \n",
       "3            Aceite De Oliva Suave Hacendado 3 L.   \n",
       "4           Aceite De Oliva Virgen Hacendado 1 L.   \n",
       "\n",
       "                                                 URL  \n",
       "0  https://super.facua.org/mercadona/aceite-de-gi...  \n",
       "1  https://super.facua.org/mercadona/aceite-de-gi...  \n",
       "2  https://super.facua.org/mercadona/aceite-de-ol...  \n",
       "3  https://super.facua.org/mercadona/aceite-de-ol...  \n",
       "4  https://super.facua.org/mercadona/aceite-de-ol...  "
      ]
     },
     "execution_count": 4,
     "metadata": {},
     "output_type": "execute_result"
    }
   ],
   "source": [
    "df.head()"
   ]
  },
  {
   "cell_type": "code",
   "execution_count": 9,
   "metadata": {},
   "outputs": [
    {
     "data": {
      "text/plain": [
       "1531"
      ]
     },
     "execution_count": 9,
     "metadata": {},
     "output_type": "execute_result"
    }
   ],
   "source": [
    "len(df)"
   ]
  },
  {
   "cell_type": "markdown",
   "metadata": {},
   "source": [
    "### A partir de todas las URL sacamos la tabla por producto, día y variación"
   ]
  },
  {
   "cell_type": "code",
   "execution_count": 5,
   "metadata": {},
   "outputs": [
    {
     "name": "stderr",
     "output_type": "stream",
     "text": [
      "1531it [05:54,  4.32it/s]\n"
     ]
    }
   ],
   "source": [
    "tablas_historicos = crear_df_productos_con_historico(df)"
   ]
  },
  {
   "cell_type": "markdown",
   "metadata": {},
   "source": [
    "### Observamos que tenemos 1531 Dataframes, 1 por producto"
   ]
  },
  {
   "cell_type": "code",
   "execution_count": 11,
   "metadata": {},
   "outputs": [
    {
     "data": {
      "text/plain": [
       "1531"
      ]
     },
     "execution_count": 11,
     "metadata": {},
     "output_type": "execute_result"
    }
   ],
   "source": [
    "len(tablas_historicos)"
   ]
  },
  {
   "cell_type": "markdown",
   "metadata": {},
   "source": [
    "### Unimos la lista de dataframes a uno solo"
   ]
  },
  {
   "cell_type": "code",
   "execution_count": 6,
   "metadata": {},
   "outputs": [],
   "source": [
    "df_historicos = pd.concat(tablas_historicos)"
   ]
  },
  {
   "cell_type": "code",
   "execution_count": 10,
   "metadata": {},
   "outputs": [
    {
     "data": {
      "text/html": [
       "<div>\n",
       "<style scoped>\n",
       "    .dataframe tbody tr th:only-of-type {\n",
       "        vertical-align: middle;\n",
       "    }\n",
       "\n",
       "    .dataframe tbody tr th {\n",
       "        vertical-align: top;\n",
       "    }\n",
       "\n",
       "    .dataframe thead th {\n",
       "        text-align: right;\n",
       "    }\n",
       "</style>\n",
       "<table border=\"1\" class=\"dataframe\">\n",
       "  <thead>\n",
       "    <tr style=\"text-align: right;\">\n",
       "      <th></th>\n",
       "      <th>supermercado</th>\n",
       "      <th>categoria</th>\n",
       "      <th>producto</th>\n",
       "      <th>Día</th>\n",
       "      <th>Precio (€)</th>\n",
       "      <th>Variación</th>\n",
       "    </tr>\n",
       "  </thead>\n",
       "  <tbody>\n",
       "    <tr>\n",
       "      <th>0</th>\n",
       "      <td>mercadona</td>\n",
       "      <td>aceite-de-girasol-</td>\n",
       "      <td>Aceite De Girasol Refinado 0,2º Hacendado 1 L.</td>\n",
       "      <td>12/07/2024</td>\n",
       "      <td>1.45</td>\n",
       "      <td>=</td>\n",
       "    </tr>\n",
       "    <tr>\n",
       "      <th>1</th>\n",
       "      <td>mercadona</td>\n",
       "      <td>aceite-de-girasol-</td>\n",
       "      <td>Aceite De Girasol Refinado 0,2º Hacendado 1 L.</td>\n",
       "      <td>13/07/2024</td>\n",
       "      <td>1.45</td>\n",
       "      <td>=</td>\n",
       "    </tr>\n",
       "    <tr>\n",
       "      <th>2</th>\n",
       "      <td>mercadona</td>\n",
       "      <td>aceite-de-girasol-</td>\n",
       "      <td>Aceite De Girasol Refinado 0,2º Hacendado 1 L.</td>\n",
       "      <td>14/07/2024</td>\n",
       "      <td>1.45</td>\n",
       "      <td>=</td>\n",
       "    </tr>\n",
       "    <tr>\n",
       "      <th>3</th>\n",
       "      <td>mercadona</td>\n",
       "      <td>aceite-de-girasol-</td>\n",
       "      <td>Aceite De Girasol Refinado 0,2º Hacendado 1 L.</td>\n",
       "      <td>15/07/2024</td>\n",
       "      <td>1.45</td>\n",
       "      <td>=</td>\n",
       "    </tr>\n",
       "    <tr>\n",
       "      <th>4</th>\n",
       "      <td>mercadona</td>\n",
       "      <td>aceite-de-girasol-</td>\n",
       "      <td>Aceite De Girasol Refinado 0,2º Hacendado 1 L.</td>\n",
       "      <td>16/07/2024</td>\n",
       "      <td>1.45</td>\n",
       "      <td>=</td>\n",
       "    </tr>\n",
       "  </tbody>\n",
       "</table>\n",
       "</div>"
      ],
      "text/plain": [
       "  supermercado           categoria  \\\n",
       "0    mercadona  aceite-de-girasol-   \n",
       "1    mercadona  aceite-de-girasol-   \n",
       "2    mercadona  aceite-de-girasol-   \n",
       "3    mercadona  aceite-de-girasol-   \n",
       "4    mercadona  aceite-de-girasol-   \n",
       "\n",
       "                                         producto         Día Precio (€)  \\\n",
       "0  Aceite De Girasol Refinado 0,2º Hacendado 1 L.  12/07/2024       1.45   \n",
       "1  Aceite De Girasol Refinado 0,2º Hacendado 1 L.  13/07/2024       1.45   \n",
       "2  Aceite De Girasol Refinado 0,2º Hacendado 1 L.  14/07/2024       1.45   \n",
       "3  Aceite De Girasol Refinado 0,2º Hacendado 1 L.  15/07/2024       1.45   \n",
       "4  Aceite De Girasol Refinado 0,2º Hacendado 1 L.  16/07/2024       1.45   \n",
       "\n",
       "  Variación  \n",
       "0         =  \n",
       "1         =  \n",
       "2         =  \n",
       "3         =  \n",
       "4         =  "
      ]
     },
     "execution_count": 10,
     "metadata": {},
     "output_type": "execute_result"
    }
   ],
   "source": [
    "df_historicos.head()"
   ]
  },
  {
   "cell_type": "markdown",
   "metadata": {},
   "source": [
    "### Lo guardamos para continuar más adelante"
   ]
  },
  {
   "cell_type": "code",
   "execution_count": 8,
   "metadata": {},
   "outputs": [],
   "source": [
    "df_historicos.to_csv(\"../datos/backups/02_tabla_completa_historico_productos.csv\")"
   ]
  },
  {
   "cell_type": "markdown",
   "metadata": {},
   "source": [
    "### Lo abrimos aquí, si hiciera falta"
   ]
  },
  {
   "cell_type": "code",
   "execution_count": 328,
   "metadata": {},
   "outputs": [],
   "source": [
    "df_historicos = pd.read_csv(\"../datos/backups/02_tabla_completa_historico_productos.csv\",index_col=\"Unnamed: 0\")"
   ]
  },
  {
   "cell_type": "code",
   "execution_count": 329,
   "metadata": {},
   "outputs": [
    {
     "data": {
      "text/html": [
       "<div>\n",
       "<style scoped>\n",
       "    .dataframe tbody tr th:only-of-type {\n",
       "        vertical-align: middle;\n",
       "    }\n",
       "\n",
       "    .dataframe tbody tr th {\n",
       "        vertical-align: top;\n",
       "    }\n",
       "\n",
       "    .dataframe thead th {\n",
       "        text-align: right;\n",
       "    }\n",
       "</style>\n",
       "<table border=\"1\" class=\"dataframe\">\n",
       "  <thead>\n",
       "    <tr style=\"text-align: right;\">\n",
       "      <th></th>\n",
       "      <th>supermercado</th>\n",
       "      <th>categoria</th>\n",
       "      <th>producto</th>\n",
       "      <th>Día</th>\n",
       "      <th>Precio (€)</th>\n",
       "      <th>Variación</th>\n",
       "    </tr>\n",
       "  </thead>\n",
       "  <tbody>\n",
       "    <tr>\n",
       "      <th>0</th>\n",
       "      <td>mercadona</td>\n",
       "      <td>aceite-de-girasol-</td>\n",
       "      <td>Aceite De Girasol Refinado 0,2º Hacendado 1 L.</td>\n",
       "      <td>12/07/2024</td>\n",
       "      <td>1.45</td>\n",
       "      <td>=</td>\n",
       "    </tr>\n",
       "    <tr>\n",
       "      <th>1</th>\n",
       "      <td>mercadona</td>\n",
       "      <td>aceite-de-girasol-</td>\n",
       "      <td>Aceite De Girasol Refinado 0,2º Hacendado 1 L.</td>\n",
       "      <td>13/07/2024</td>\n",
       "      <td>1.45</td>\n",
       "      <td>=</td>\n",
       "    </tr>\n",
       "    <tr>\n",
       "      <th>2</th>\n",
       "      <td>mercadona</td>\n",
       "      <td>aceite-de-girasol-</td>\n",
       "      <td>Aceite De Girasol Refinado 0,2º Hacendado 1 L.</td>\n",
       "      <td>14/07/2024</td>\n",
       "      <td>1.45</td>\n",
       "      <td>=</td>\n",
       "    </tr>\n",
       "    <tr>\n",
       "      <th>3</th>\n",
       "      <td>mercadona</td>\n",
       "      <td>aceite-de-girasol-</td>\n",
       "      <td>Aceite De Girasol Refinado 0,2º Hacendado 1 L.</td>\n",
       "      <td>15/07/2024</td>\n",
       "      <td>1.45</td>\n",
       "      <td>=</td>\n",
       "    </tr>\n",
       "    <tr>\n",
       "      <th>4</th>\n",
       "      <td>mercadona</td>\n",
       "      <td>aceite-de-girasol-</td>\n",
       "      <td>Aceite De Girasol Refinado 0,2º Hacendado 1 L.</td>\n",
       "      <td>16/07/2024</td>\n",
       "      <td>1.45</td>\n",
       "      <td>=</td>\n",
       "    </tr>\n",
       "  </tbody>\n",
       "</table>\n",
       "</div>"
      ],
      "text/plain": [
       "  supermercado           categoria  \\\n",
       "0    mercadona  aceite-de-girasol-   \n",
       "1    mercadona  aceite-de-girasol-   \n",
       "2    mercadona  aceite-de-girasol-   \n",
       "3    mercadona  aceite-de-girasol-   \n",
       "4    mercadona  aceite-de-girasol-   \n",
       "\n",
       "                                         producto         Día  Precio (€)  \\\n",
       "0  Aceite De Girasol Refinado 0,2º Hacendado 1 L.  12/07/2024        1.45   \n",
       "1  Aceite De Girasol Refinado 0,2º Hacendado 1 L.  13/07/2024        1.45   \n",
       "2  Aceite De Girasol Refinado 0,2º Hacendado 1 L.  14/07/2024        1.45   \n",
       "3  Aceite De Girasol Refinado 0,2º Hacendado 1 L.  15/07/2024        1.45   \n",
       "4  Aceite De Girasol Refinado 0,2º Hacendado 1 L.  16/07/2024        1.45   \n",
       "\n",
       "  Variación  \n",
       "0         =  \n",
       "1         =  \n",
       "2         =  \n",
       "3         =  \n",
       "4         =  "
      ]
     },
     "execution_count": 329,
     "metadata": {},
     "output_type": "execute_result"
    }
   ],
   "source": [
    "df_historicos.head()"
   ]
  },
  {
   "cell_type": "markdown",
   "metadata": {},
   "source": [
    "### Corregir Formatos de la tabla\n",
    "Vamos a corregir categoría, día, precio y variación\n",
    "- Categoría: eliminar los guiones\n",
    "- día: pasarla a formato Datetime\n",
    "- Precio: pasarla a float\n",
    "- Variación: Vamos a dejarla como float, pasando:\n",
    "    - =: convertirlo a 0\n",
    "    - variaciones, eliminar paréntesís, porcentajes... de formas que quede como + 3.5 o -2.5"
   ]
  },
  {
   "cell_type": "markdown",
   "metadata": {},
   "source": [
    "### Reemplazar guiones por espacio"
   ]
  },
  {
   "cell_type": "code",
   "execution_count": 330,
   "metadata": {},
   "outputs": [],
   "source": [
    "df_historicos[\"categoria\"] = df_historicos[\"categoria\"].str.replace(\"-\", \" \")"
   ]
  },
  {
   "cell_type": "markdown",
   "metadata": {},
   "source": [
    "Observamos que hay un espacio innecesario en aceite de girasol"
   ]
  },
  {
   "cell_type": "code",
   "execution_count": 331,
   "metadata": {},
   "outputs": [
    {
     "data": {
      "text/plain": [
       "array(['aceite de girasol ', 'aceite de oliva suave e intenso',\n",
       "       'aceite de oliva virgen', 'aceite de oliva virgen extra',\n",
       "       'leche enriquecida', 'leche entera semi desnatada',\n",
       "       'leche sin lactosa'], dtype=object)"
      ]
     },
     "execution_count": 331,
     "metadata": {},
     "output_type": "execute_result"
    }
   ],
   "source": [
    "df_historicos[\"categoria\"].unique()"
   ]
  },
  {
   "cell_type": "markdown",
   "metadata": {},
   "source": [
    "Lo eliminamos con rstrip"
   ]
  },
  {
   "cell_type": "code",
   "execution_count": 332,
   "metadata": {},
   "outputs": [],
   "source": [
    "df_historicos[\"categoria\"] = df_historicos[\"categoria\"].str.rstrip(\" \")"
   ]
  },
  {
   "cell_type": "code",
   "execution_count": 333,
   "metadata": {},
   "outputs": [
    {
     "data": {
      "text/plain": [
       "array(['aceite de girasol', 'aceite de oliva suave e intenso',\n",
       "       'aceite de oliva virgen', 'aceite de oliva virgen extra',\n",
       "       'leche enriquecida', 'leche entera semi desnatada',\n",
       "       'leche sin lactosa'], dtype=object)"
      ]
     },
     "execution_count": 333,
     "metadata": {},
     "output_type": "execute_result"
    }
   ],
   "source": [
    "df_historicos[\"categoria\"].unique()"
   ]
  },
  {
   "cell_type": "markdown",
   "metadata": {},
   "source": [
    "### Pasar el día a formato Datetime"
   ]
  },
  {
   "cell_type": "code",
   "execution_count": 334,
   "metadata": {},
   "outputs": [],
   "source": [
    "df_historicos[\"Día\"] = pd.to_datetime(df_historicos[\"Día\"], format=\"%d/%m/%Y\")"
   ]
  },
  {
   "cell_type": "code",
   "execution_count": 335,
   "metadata": {},
   "outputs": [
    {
     "name": "stdout",
     "output_type": "stream",
     "text": [
      "<class 'pandas.core.frame.DataFrame'>\n",
      "Index: 129427 entries, 0 to 101\n",
      "Data columns (total 6 columns):\n",
      " #   Column        Non-Null Count   Dtype         \n",
      "---  ------        --------------   -----         \n",
      " 0   supermercado  129427 non-null  object        \n",
      " 1   categoria     129427 non-null  object        \n",
      " 2   producto      129427 non-null  object        \n",
      " 3   Día           129427 non-null  datetime64[ns]\n",
      " 4   Precio (€)    129427 non-null  float64       \n",
      " 5   Variación     129427 non-null  object        \n",
      "dtypes: datetime64[ns](1), float64(1), object(4)\n",
      "memory usage: 6.9+ MB\n"
     ]
    }
   ],
   "source": [
    "df_historicos.info()"
   ]
  },
  {
   "cell_type": "code",
   "execution_count": 336,
   "metadata": {},
   "outputs": [
    {
     "data": {
      "text/html": [
       "<div>\n",
       "<style scoped>\n",
       "    .dataframe tbody tr th:only-of-type {\n",
       "        vertical-align: middle;\n",
       "    }\n",
       "\n",
       "    .dataframe tbody tr th {\n",
       "        vertical-align: top;\n",
       "    }\n",
       "\n",
       "    .dataframe thead th {\n",
       "        text-align: right;\n",
       "    }\n",
       "</style>\n",
       "<table border=\"1\" class=\"dataframe\">\n",
       "  <thead>\n",
       "    <tr style=\"text-align: right;\">\n",
       "      <th></th>\n",
       "      <th>supermercado</th>\n",
       "      <th>categoria</th>\n",
       "      <th>producto</th>\n",
       "      <th>Día</th>\n",
       "      <th>Precio (€)</th>\n",
       "      <th>Variación</th>\n",
       "    </tr>\n",
       "  </thead>\n",
       "  <tbody>\n",
       "    <tr>\n",
       "      <th>0</th>\n",
       "      <td>mercadona</td>\n",
       "      <td>aceite de girasol</td>\n",
       "      <td>Aceite De Girasol Refinado 0,2º Hacendado 1 L.</td>\n",
       "      <td>2024-07-12</td>\n",
       "      <td>1.45</td>\n",
       "      <td>=</td>\n",
       "    </tr>\n",
       "    <tr>\n",
       "      <th>1</th>\n",
       "      <td>mercadona</td>\n",
       "      <td>aceite de girasol</td>\n",
       "      <td>Aceite De Girasol Refinado 0,2º Hacendado 1 L.</td>\n",
       "      <td>2024-07-13</td>\n",
       "      <td>1.45</td>\n",
       "      <td>=</td>\n",
       "    </tr>\n",
       "    <tr>\n",
       "      <th>2</th>\n",
       "      <td>mercadona</td>\n",
       "      <td>aceite de girasol</td>\n",
       "      <td>Aceite De Girasol Refinado 0,2º Hacendado 1 L.</td>\n",
       "      <td>2024-07-14</td>\n",
       "      <td>1.45</td>\n",
       "      <td>=</td>\n",
       "    </tr>\n",
       "    <tr>\n",
       "      <th>3</th>\n",
       "      <td>mercadona</td>\n",
       "      <td>aceite de girasol</td>\n",
       "      <td>Aceite De Girasol Refinado 0,2º Hacendado 1 L.</td>\n",
       "      <td>2024-07-15</td>\n",
       "      <td>1.45</td>\n",
       "      <td>=</td>\n",
       "    </tr>\n",
       "    <tr>\n",
       "      <th>4</th>\n",
       "      <td>mercadona</td>\n",
       "      <td>aceite de girasol</td>\n",
       "      <td>Aceite De Girasol Refinado 0,2º Hacendado 1 L.</td>\n",
       "      <td>2024-07-16</td>\n",
       "      <td>1.45</td>\n",
       "      <td>=</td>\n",
       "    </tr>\n",
       "  </tbody>\n",
       "</table>\n",
       "</div>"
      ],
      "text/plain": [
       "  supermercado          categoria  \\\n",
       "0    mercadona  aceite de girasol   \n",
       "1    mercadona  aceite de girasol   \n",
       "2    mercadona  aceite de girasol   \n",
       "3    mercadona  aceite de girasol   \n",
       "4    mercadona  aceite de girasol   \n",
       "\n",
       "                                         producto        Día  Precio (€)  \\\n",
       "0  Aceite De Girasol Refinado 0,2º Hacendado 1 L. 2024-07-12        1.45   \n",
       "1  Aceite De Girasol Refinado 0,2º Hacendado 1 L. 2024-07-13        1.45   \n",
       "2  Aceite De Girasol Refinado 0,2º Hacendado 1 L. 2024-07-14        1.45   \n",
       "3  Aceite De Girasol Refinado 0,2º Hacendado 1 L. 2024-07-15        1.45   \n",
       "4  Aceite De Girasol Refinado 0,2º Hacendado 1 L. 2024-07-16        1.45   \n",
       "\n",
       "  Variación  \n",
       "0         =  \n",
       "1         =  \n",
       "2         =  \n",
       "3         =  \n",
       "4         =  "
      ]
     },
     "execution_count": 336,
     "metadata": {},
     "output_type": "execute_result"
    }
   ],
   "source": [
    "df_historicos.head()"
   ]
  },
  {
   "cell_type": "markdown",
   "metadata": {},
   "source": [
    "### Precio ya está en float, no repetimos operación"
   ]
  },
  {
   "cell_type": "markdown",
   "metadata": {},
   "source": [
    "## Arreglar Variación\n",
    "Vamos a modificar la tabla variación, reemplazando el = por 0"
   ]
  },
  {
   "cell_type": "code",
   "execution_count": 337,
   "metadata": {},
   "outputs": [],
   "source": [
    "df_historicos[\"Variación\"] = df_historicos[\"Variación\"].str.replace(\"=\",\"0\")"
   ]
  },
  {
   "cell_type": "code",
   "execution_count": 338,
   "metadata": {},
   "outputs": [
    {
     "data": {
      "text/html": [
       "<div>\n",
       "<style scoped>\n",
       "    .dataframe tbody tr th:only-of-type {\n",
       "        vertical-align: middle;\n",
       "    }\n",
       "\n",
       "    .dataframe tbody tr th {\n",
       "        vertical-align: top;\n",
       "    }\n",
       "\n",
       "    .dataframe thead th {\n",
       "        text-align: right;\n",
       "    }\n",
       "</style>\n",
       "<table border=\"1\" class=\"dataframe\">\n",
       "  <thead>\n",
       "    <tr style=\"text-align: right;\">\n",
       "      <th></th>\n",
       "      <th>supermercado</th>\n",
       "      <th>categoria</th>\n",
       "      <th>producto</th>\n",
       "      <th>Día</th>\n",
       "      <th>Precio (€)</th>\n",
       "      <th>Variación</th>\n",
       "    </tr>\n",
       "  </thead>\n",
       "  <tbody>\n",
       "    <tr>\n",
       "      <th>32</th>\n",
       "      <td>hipercor</td>\n",
       "      <td>leche sin lactosa</td>\n",
       "      <td>Larsa Leche Desnatada Sin Lactosa Brik 1 L</td>\n",
       "      <td>2024-08-23</td>\n",
       "      <td>1.18</td>\n",
       "      <td>0</td>\n",
       "    </tr>\n",
       "  </tbody>\n",
       "</table>\n",
       "</div>"
      ],
      "text/plain": [
       "   supermercado          categoria  \\\n",
       "32     hipercor  leche sin lactosa   \n",
       "\n",
       "                                      producto        Día  Precio (€)  \\\n",
       "32  Larsa Leche Desnatada Sin Lactosa Brik 1 L 2024-08-23        1.18   \n",
       "\n",
       "   Variación  \n",
       "32         0  "
      ]
     },
     "execution_count": 338,
     "metadata": {},
     "output_type": "execute_result"
    }
   ],
   "source": [
    "df_historicos.sample()"
   ]
  },
  {
   "cell_type": "markdown",
   "metadata": {},
   "source": [
    "### Modificar los valores que no son 0\n",
    "Vamos a reemplazar valores como por ejemplo:\n",
    "- +0,17 (7,23%)\n",
    "\n",
    "Conviertiendolo en dos columnas\n",
    "- Variación en €: 0.17\n",
    "- Variación en %: 7.23"
   ]
  },
  {
   "cell_type": "code",
   "execution_count": 339,
   "metadata": {},
   "outputs": [
    {
     "data": {
      "text/html": [
       "<div>\n",
       "<style scoped>\n",
       "    .dataframe tbody tr th:only-of-type {\n",
       "        vertical-align: middle;\n",
       "    }\n",
       "\n",
       "    .dataframe tbody tr th {\n",
       "        vertical-align: top;\n",
       "    }\n",
       "\n",
       "    .dataframe thead th {\n",
       "        text-align: right;\n",
       "    }\n",
       "</style>\n",
       "<table border=\"1\" class=\"dataframe\">\n",
       "  <thead>\n",
       "    <tr style=\"text-align: right;\">\n",
       "      <th></th>\n",
       "      <th>supermercado</th>\n",
       "      <th>categoria</th>\n",
       "      <th>producto</th>\n",
       "      <th>Día</th>\n",
       "      <th>Precio (€)</th>\n",
       "      <th>Variación</th>\n",
       "    </tr>\n",
       "  </thead>\n",
       "  <tbody>\n",
       "    <tr>\n",
       "      <th>81</th>\n",
       "      <td>mercadona</td>\n",
       "      <td>aceite de girasol</td>\n",
       "      <td>Aceite De Girasol Refinado 0,2º Hacendado 1 L.</td>\n",
       "      <td>2024-10-01</td>\n",
       "      <td>1.48</td>\n",
       "      <td>+0,03 (2,07%)</td>\n",
       "    </tr>\n",
       "    <tr>\n",
       "      <th>81</th>\n",
       "      <td>mercadona</td>\n",
       "      <td>aceite de girasol</td>\n",
       "      <td>Aceite De Girasol Refinado 0,2º Hacendado 5 L.</td>\n",
       "      <td>2024-10-01</td>\n",
       "      <td>6.91</td>\n",
       "      <td>+0,16 (2,37%)</td>\n",
       "    </tr>\n",
       "    <tr>\n",
       "      <th>9</th>\n",
       "      <td>mercadona</td>\n",
       "      <td>aceite de oliva suave e intenso</td>\n",
       "      <td>Aceite De Oliva Intenso Hacendado 3 L.</td>\n",
       "      <td>2024-07-01</td>\n",
       "      <td>22.76</td>\n",
       "      <td>-1,14 (4,77%)</td>\n",
       "    </tr>\n",
       "    <tr>\n",
       "      <th>60</th>\n",
       "      <td>mercadona</td>\n",
       "      <td>aceite de oliva suave e intenso</td>\n",
       "      <td>Aceite De Oliva Intenso Hacendado 3 L.</td>\n",
       "      <td>2024-08-21</td>\n",
       "      <td>19.85</td>\n",
       "      <td>-2,91 (12,79%)</td>\n",
       "    </tr>\n",
       "    <tr>\n",
       "      <th>101</th>\n",
       "      <td>mercadona</td>\n",
       "      <td>aceite de oliva suave e intenso</td>\n",
       "      <td>Aceite De Oliva Intenso Hacendado 3 L.</td>\n",
       "      <td>2024-10-01</td>\n",
       "      <td>20.25</td>\n",
       "      <td>+0,40 (2,02%)</td>\n",
       "    </tr>\n",
       "  </tbody>\n",
       "</table>\n",
       "</div>"
      ],
      "text/plain": [
       "    supermercado                        categoria  \\\n",
       "81     mercadona                aceite de girasol   \n",
       "81     mercadona                aceite de girasol   \n",
       "9      mercadona  aceite de oliva suave e intenso   \n",
       "60     mercadona  aceite de oliva suave e intenso   \n",
       "101    mercadona  aceite de oliva suave e intenso   \n",
       "\n",
       "                                           producto        Día  Precio (€)  \\\n",
       "81   Aceite De Girasol Refinado 0,2º Hacendado 1 L. 2024-10-01        1.48   \n",
       "81   Aceite De Girasol Refinado 0,2º Hacendado 5 L. 2024-10-01        6.91   \n",
       "9            Aceite De Oliva Intenso Hacendado 3 L. 2024-07-01       22.76   \n",
       "60           Aceite De Oliva Intenso Hacendado 3 L. 2024-08-21       19.85   \n",
       "101          Aceite De Oliva Intenso Hacendado 3 L. 2024-10-01       20.25   \n",
       "\n",
       "          Variación  \n",
       "81    +0,03 (2,07%)  \n",
       "81    +0,16 (2,37%)  \n",
       "9     -1,14 (4,77%)  \n",
       "60   -2,91 (12,79%)  \n",
       "101   +0,40 (2,02%)  "
      ]
     },
     "execution_count": 339,
     "metadata": {},
     "output_type": "execute_result"
    }
   ],
   "source": [
    "condicion = df_historicos[\"Variación\"] != \"0\"\n",
    "df_historicos[condicion].head()"
   ]
  },
  {
   "cell_type": "markdown",
   "metadata": {},
   "source": [
    "### Separamos por el paréntesis"
   ]
  },
  {
   "cell_type": "code",
   "execution_count": 340,
   "metadata": {},
   "outputs": [],
   "source": [
    "df_historicos[[\"variación (€)\", \"variación (%)\"]]= df_historicos[\"Variación\"].str.split(\"(\",expand=True)"
   ]
  },
  {
   "cell_type": "code",
   "execution_count": 341,
   "metadata": {},
   "outputs": [
    {
     "data": {
      "text/html": [
       "<div>\n",
       "<style scoped>\n",
       "    .dataframe tbody tr th:only-of-type {\n",
       "        vertical-align: middle;\n",
       "    }\n",
       "\n",
       "    .dataframe tbody tr th {\n",
       "        vertical-align: top;\n",
       "    }\n",
       "\n",
       "    .dataframe thead th {\n",
       "        text-align: right;\n",
       "    }\n",
       "</style>\n",
       "<table border=\"1\" class=\"dataframe\">\n",
       "  <thead>\n",
       "    <tr style=\"text-align: right;\">\n",
       "      <th></th>\n",
       "      <th>supermercado</th>\n",
       "      <th>categoria</th>\n",
       "      <th>producto</th>\n",
       "      <th>Día</th>\n",
       "      <th>Precio (€)</th>\n",
       "      <th>Variación</th>\n",
       "      <th>variación (€)</th>\n",
       "      <th>variación (%)</th>\n",
       "    </tr>\n",
       "  </thead>\n",
       "  <tbody>\n",
       "    <tr>\n",
       "      <th>81</th>\n",
       "      <td>mercadona</td>\n",
       "      <td>aceite de girasol</td>\n",
       "      <td>Aceite De Girasol Refinado 0,2º Hacendado 1 L.</td>\n",
       "      <td>2024-10-01</td>\n",
       "      <td>1.48</td>\n",
       "      <td>+0,03 (2,07%)</td>\n",
       "      <td>+0,03</td>\n",
       "      <td>2,07%)</td>\n",
       "    </tr>\n",
       "    <tr>\n",
       "      <th>81</th>\n",
       "      <td>mercadona</td>\n",
       "      <td>aceite de girasol</td>\n",
       "      <td>Aceite De Girasol Refinado 0,2º Hacendado 5 L.</td>\n",
       "      <td>2024-10-01</td>\n",
       "      <td>6.91</td>\n",
       "      <td>+0,16 (2,37%)</td>\n",
       "      <td>+0,16</td>\n",
       "      <td>2,37%)</td>\n",
       "    </tr>\n",
       "    <tr>\n",
       "      <th>9</th>\n",
       "      <td>mercadona</td>\n",
       "      <td>aceite de oliva suave e intenso</td>\n",
       "      <td>Aceite De Oliva Intenso Hacendado 3 L.</td>\n",
       "      <td>2024-07-01</td>\n",
       "      <td>22.76</td>\n",
       "      <td>-1,14 (4,77%)</td>\n",
       "      <td>-1,14</td>\n",
       "      <td>4,77%)</td>\n",
       "    </tr>\n",
       "    <tr>\n",
       "      <th>60</th>\n",
       "      <td>mercadona</td>\n",
       "      <td>aceite de oliva suave e intenso</td>\n",
       "      <td>Aceite De Oliva Intenso Hacendado 3 L.</td>\n",
       "      <td>2024-08-21</td>\n",
       "      <td>19.85</td>\n",
       "      <td>-2,91 (12,79%)</td>\n",
       "      <td>-2,91</td>\n",
       "      <td>12,79%)</td>\n",
       "    </tr>\n",
       "    <tr>\n",
       "      <th>101</th>\n",
       "      <td>mercadona</td>\n",
       "      <td>aceite de oliva suave e intenso</td>\n",
       "      <td>Aceite De Oliva Intenso Hacendado 3 L.</td>\n",
       "      <td>2024-10-01</td>\n",
       "      <td>20.25</td>\n",
       "      <td>+0,40 (2,02%)</td>\n",
       "      <td>+0,40</td>\n",
       "      <td>2,02%)</td>\n",
       "    </tr>\n",
       "  </tbody>\n",
       "</table>\n",
       "</div>"
      ],
      "text/plain": [
       "    supermercado                        categoria  \\\n",
       "81     mercadona                aceite de girasol   \n",
       "81     mercadona                aceite de girasol   \n",
       "9      mercadona  aceite de oliva suave e intenso   \n",
       "60     mercadona  aceite de oliva suave e intenso   \n",
       "101    mercadona  aceite de oliva suave e intenso   \n",
       "\n",
       "                                           producto        Día  Precio (€)  \\\n",
       "81   Aceite De Girasol Refinado 0,2º Hacendado 1 L. 2024-10-01        1.48   \n",
       "81   Aceite De Girasol Refinado 0,2º Hacendado 5 L. 2024-10-01        6.91   \n",
       "9            Aceite De Oliva Intenso Hacendado 3 L. 2024-07-01       22.76   \n",
       "60           Aceite De Oliva Intenso Hacendado 3 L. 2024-08-21       19.85   \n",
       "101          Aceite De Oliva Intenso Hacendado 3 L. 2024-10-01       20.25   \n",
       "\n",
       "          Variación variación (€) variación (%)  \n",
       "81    +0,03 (2,07%)        +0,03         2,07%)  \n",
       "81    +0,16 (2,37%)        +0,16         2,37%)  \n",
       "9     -1,14 (4,77%)        -1,14         4,77%)  \n",
       "60   -2,91 (12,79%)        -2,91        12,79%)  \n",
       "101   +0,40 (2,02%)        +0,40         2,02%)  "
      ]
     },
     "execution_count": 341,
     "metadata": {},
     "output_type": "execute_result"
    }
   ],
   "source": [
    "condicion = df_historicos[\"Variación\"] != \"0\"\n",
    "df_historicos[condicion].head()"
   ]
  },
  {
   "cell_type": "markdown",
   "metadata": {},
   "source": [
    "Eliminamos la columna Variación"
   ]
  },
  {
   "cell_type": "code",
   "execution_count": 342,
   "metadata": {},
   "outputs": [],
   "source": [
    "df_historicos.drop(columns=\"Variación\",inplace=True)"
   ]
  },
  {
   "cell_type": "code",
   "execution_count": 343,
   "metadata": {},
   "outputs": [
    {
     "data": {
      "text/html": [
       "<div>\n",
       "<style scoped>\n",
       "    .dataframe tbody tr th:only-of-type {\n",
       "        vertical-align: middle;\n",
       "    }\n",
       "\n",
       "    .dataframe tbody tr th {\n",
       "        vertical-align: top;\n",
       "    }\n",
       "\n",
       "    .dataframe thead th {\n",
       "        text-align: right;\n",
       "    }\n",
       "</style>\n",
       "<table border=\"1\" class=\"dataframe\">\n",
       "  <thead>\n",
       "    <tr style=\"text-align: right;\">\n",
       "      <th></th>\n",
       "      <th>supermercado</th>\n",
       "      <th>categoria</th>\n",
       "      <th>producto</th>\n",
       "      <th>Día</th>\n",
       "      <th>Precio (€)</th>\n",
       "      <th>variación (€)</th>\n",
       "      <th>variación (%)</th>\n",
       "    </tr>\n",
       "  </thead>\n",
       "  <tbody>\n",
       "    <tr>\n",
       "      <th>81</th>\n",
       "      <td>mercadona</td>\n",
       "      <td>aceite de girasol</td>\n",
       "      <td>Aceite De Girasol Refinado 0,2º Hacendado 1 L.</td>\n",
       "      <td>2024-10-01</td>\n",
       "      <td>1.48</td>\n",
       "      <td>+0,03</td>\n",
       "      <td>2,07%)</td>\n",
       "    </tr>\n",
       "    <tr>\n",
       "      <th>81</th>\n",
       "      <td>mercadona</td>\n",
       "      <td>aceite de girasol</td>\n",
       "      <td>Aceite De Girasol Refinado 0,2º Hacendado 5 L.</td>\n",
       "      <td>2024-10-01</td>\n",
       "      <td>6.91</td>\n",
       "      <td>+0,16</td>\n",
       "      <td>2,37%)</td>\n",
       "    </tr>\n",
       "    <tr>\n",
       "      <th>9</th>\n",
       "      <td>mercadona</td>\n",
       "      <td>aceite de oliva suave e intenso</td>\n",
       "      <td>Aceite De Oliva Intenso Hacendado 3 L.</td>\n",
       "      <td>2024-07-01</td>\n",
       "      <td>22.76</td>\n",
       "      <td>-1,14</td>\n",
       "      <td>4,77%)</td>\n",
       "    </tr>\n",
       "    <tr>\n",
       "      <th>60</th>\n",
       "      <td>mercadona</td>\n",
       "      <td>aceite de oliva suave e intenso</td>\n",
       "      <td>Aceite De Oliva Intenso Hacendado 3 L.</td>\n",
       "      <td>2024-08-21</td>\n",
       "      <td>19.85</td>\n",
       "      <td>-2,91</td>\n",
       "      <td>12,79%)</td>\n",
       "    </tr>\n",
       "    <tr>\n",
       "      <th>101</th>\n",
       "      <td>mercadona</td>\n",
       "      <td>aceite de oliva suave e intenso</td>\n",
       "      <td>Aceite De Oliva Intenso Hacendado 3 L.</td>\n",
       "      <td>2024-10-01</td>\n",
       "      <td>20.25</td>\n",
       "      <td>+0,40</td>\n",
       "      <td>2,02%)</td>\n",
       "    </tr>\n",
       "  </tbody>\n",
       "</table>\n",
       "</div>"
      ],
      "text/plain": [
       "    supermercado                        categoria  \\\n",
       "81     mercadona                aceite de girasol   \n",
       "81     mercadona                aceite de girasol   \n",
       "9      mercadona  aceite de oliva suave e intenso   \n",
       "60     mercadona  aceite de oliva suave e intenso   \n",
       "101    mercadona  aceite de oliva suave e intenso   \n",
       "\n",
       "                                           producto        Día  Precio (€)  \\\n",
       "81   Aceite De Girasol Refinado 0,2º Hacendado 1 L. 2024-10-01        1.48   \n",
       "81   Aceite De Girasol Refinado 0,2º Hacendado 5 L. 2024-10-01        6.91   \n",
       "9            Aceite De Oliva Intenso Hacendado 3 L. 2024-07-01       22.76   \n",
       "60           Aceite De Oliva Intenso Hacendado 3 L. 2024-08-21       19.85   \n",
       "101          Aceite De Oliva Intenso Hacendado 3 L. 2024-10-01       20.25   \n",
       "\n",
       "    variación (€) variación (%)  \n",
       "81         +0,03         2,07%)  \n",
       "81         +0,16         2,37%)  \n",
       "9          -1,14         4,77%)  \n",
       "60         -2,91        12,79%)  \n",
       "101        +0,40         2,02%)  "
      ]
     },
     "execution_count": 343,
     "metadata": {},
     "output_type": "execute_result"
    }
   ],
   "source": [
    "condicion = df_historicos[\"variación (€)\"] != \"0\"\n",
    "df_historicos[condicion].head()"
   ]
  },
  {
   "cell_type": "markdown",
   "metadata": {},
   "source": [
    "Eliminamos en variacion % el paréntesis, el % y reemplazamos la \",\" por un \".\""
   ]
  },
  {
   "cell_type": "code",
   "execution_count": 344,
   "metadata": {},
   "outputs": [],
   "source": [
    "df_historicos[\"variación (%)\"] = df_historicos[\"variación (%)\"].str.strip(\")\").str.replace(\",\",\".\")\n",
    "df_historicos[\"variación (%)\"] = df_historicos[\"variación (%)\"].str.strip(\"%\")"
   ]
  },
  {
   "cell_type": "code",
   "execution_count": 345,
   "metadata": {},
   "outputs": [
    {
     "data": {
      "text/html": [
       "<div>\n",
       "<style scoped>\n",
       "    .dataframe tbody tr th:only-of-type {\n",
       "        vertical-align: middle;\n",
       "    }\n",
       "\n",
       "    .dataframe tbody tr th {\n",
       "        vertical-align: top;\n",
       "    }\n",
       "\n",
       "    .dataframe thead th {\n",
       "        text-align: right;\n",
       "    }\n",
       "</style>\n",
       "<table border=\"1\" class=\"dataframe\">\n",
       "  <thead>\n",
       "    <tr style=\"text-align: right;\">\n",
       "      <th></th>\n",
       "      <th>supermercado</th>\n",
       "      <th>categoria</th>\n",
       "      <th>producto</th>\n",
       "      <th>Día</th>\n",
       "      <th>Precio (€)</th>\n",
       "      <th>variación (€)</th>\n",
       "      <th>variación (%)</th>\n",
       "    </tr>\n",
       "  </thead>\n",
       "  <tbody>\n",
       "    <tr>\n",
       "      <th>81</th>\n",
       "      <td>mercadona</td>\n",
       "      <td>aceite de girasol</td>\n",
       "      <td>Aceite De Girasol Refinado 0,2º Hacendado 1 L.</td>\n",
       "      <td>2024-10-01</td>\n",
       "      <td>1.48</td>\n",
       "      <td>+0,03</td>\n",
       "      <td>2.07</td>\n",
       "    </tr>\n",
       "    <tr>\n",
       "      <th>81</th>\n",
       "      <td>mercadona</td>\n",
       "      <td>aceite de girasol</td>\n",
       "      <td>Aceite De Girasol Refinado 0,2º Hacendado 5 L.</td>\n",
       "      <td>2024-10-01</td>\n",
       "      <td>6.91</td>\n",
       "      <td>+0,16</td>\n",
       "      <td>2.37</td>\n",
       "    </tr>\n",
       "    <tr>\n",
       "      <th>9</th>\n",
       "      <td>mercadona</td>\n",
       "      <td>aceite de oliva suave e intenso</td>\n",
       "      <td>Aceite De Oliva Intenso Hacendado 3 L.</td>\n",
       "      <td>2024-07-01</td>\n",
       "      <td>22.76</td>\n",
       "      <td>-1,14</td>\n",
       "      <td>4.77</td>\n",
       "    </tr>\n",
       "    <tr>\n",
       "      <th>60</th>\n",
       "      <td>mercadona</td>\n",
       "      <td>aceite de oliva suave e intenso</td>\n",
       "      <td>Aceite De Oliva Intenso Hacendado 3 L.</td>\n",
       "      <td>2024-08-21</td>\n",
       "      <td>19.85</td>\n",
       "      <td>-2,91</td>\n",
       "      <td>12.79</td>\n",
       "    </tr>\n",
       "    <tr>\n",
       "      <th>101</th>\n",
       "      <td>mercadona</td>\n",
       "      <td>aceite de oliva suave e intenso</td>\n",
       "      <td>Aceite De Oliva Intenso Hacendado 3 L.</td>\n",
       "      <td>2024-10-01</td>\n",
       "      <td>20.25</td>\n",
       "      <td>+0,40</td>\n",
       "      <td>2.02</td>\n",
       "    </tr>\n",
       "  </tbody>\n",
       "</table>\n",
       "</div>"
      ],
      "text/plain": [
       "    supermercado                        categoria  \\\n",
       "81     mercadona                aceite de girasol   \n",
       "81     mercadona                aceite de girasol   \n",
       "9      mercadona  aceite de oliva suave e intenso   \n",
       "60     mercadona  aceite de oliva suave e intenso   \n",
       "101    mercadona  aceite de oliva suave e intenso   \n",
       "\n",
       "                                           producto        Día  Precio (€)  \\\n",
       "81   Aceite De Girasol Refinado 0,2º Hacendado 1 L. 2024-10-01        1.48   \n",
       "81   Aceite De Girasol Refinado 0,2º Hacendado 5 L. 2024-10-01        6.91   \n",
       "9            Aceite De Oliva Intenso Hacendado 3 L. 2024-07-01       22.76   \n",
       "60           Aceite De Oliva Intenso Hacendado 3 L. 2024-08-21       19.85   \n",
       "101          Aceite De Oliva Intenso Hacendado 3 L. 2024-10-01       20.25   \n",
       "\n",
       "    variación (€) variación (%)  \n",
       "81         +0,03           2.07  \n",
       "81         +0,16           2.37  \n",
       "9          -1,14           4.77  \n",
       "60         -2,91          12.79  \n",
       "101        +0,40           2.02  "
      ]
     },
     "execution_count": 345,
     "metadata": {},
     "output_type": "execute_result"
    }
   ],
   "source": [
    "condicion = df_historicos[\"variación (€)\"] != \"0\"\n",
    "df_historicos[condicion].head()"
   ]
  },
  {
   "cell_type": "markdown",
   "metadata": {},
   "source": [
    "Eliminamos la \",\" en variacion y ponemos un \".\""
   ]
  },
  {
   "cell_type": "code",
   "execution_count": 346,
   "metadata": {},
   "outputs": [],
   "source": [
    "df_historicos[\"variación (€)\"] = df_historicos[\"variación (€)\"].str.replace(\",\",\".\")"
   ]
  },
  {
   "cell_type": "code",
   "execution_count": 347,
   "metadata": {},
   "outputs": [
    {
     "data": {
      "text/html": [
       "<div>\n",
       "<style scoped>\n",
       "    .dataframe tbody tr th:only-of-type {\n",
       "        vertical-align: middle;\n",
       "    }\n",
       "\n",
       "    .dataframe tbody tr th {\n",
       "        vertical-align: top;\n",
       "    }\n",
       "\n",
       "    .dataframe thead th {\n",
       "        text-align: right;\n",
       "    }\n",
       "</style>\n",
       "<table border=\"1\" class=\"dataframe\">\n",
       "  <thead>\n",
       "    <tr style=\"text-align: right;\">\n",
       "      <th></th>\n",
       "      <th>supermercado</th>\n",
       "      <th>categoria</th>\n",
       "      <th>producto</th>\n",
       "      <th>Día</th>\n",
       "      <th>Precio (€)</th>\n",
       "      <th>variación (€)</th>\n",
       "      <th>variación (%)</th>\n",
       "    </tr>\n",
       "  </thead>\n",
       "  <tbody>\n",
       "    <tr>\n",
       "      <th>81</th>\n",
       "      <td>mercadona</td>\n",
       "      <td>aceite de girasol</td>\n",
       "      <td>Aceite De Girasol Refinado 0,2º Hacendado 1 L.</td>\n",
       "      <td>2024-10-01</td>\n",
       "      <td>1.48</td>\n",
       "      <td>+0.03</td>\n",
       "      <td>2.07</td>\n",
       "    </tr>\n",
       "    <tr>\n",
       "      <th>81</th>\n",
       "      <td>mercadona</td>\n",
       "      <td>aceite de girasol</td>\n",
       "      <td>Aceite De Girasol Refinado 0,2º Hacendado 5 L.</td>\n",
       "      <td>2024-10-01</td>\n",
       "      <td>6.91</td>\n",
       "      <td>+0.16</td>\n",
       "      <td>2.37</td>\n",
       "    </tr>\n",
       "    <tr>\n",
       "      <th>9</th>\n",
       "      <td>mercadona</td>\n",
       "      <td>aceite de oliva suave e intenso</td>\n",
       "      <td>Aceite De Oliva Intenso Hacendado 3 L.</td>\n",
       "      <td>2024-07-01</td>\n",
       "      <td>22.76</td>\n",
       "      <td>-1.14</td>\n",
       "      <td>4.77</td>\n",
       "    </tr>\n",
       "    <tr>\n",
       "      <th>60</th>\n",
       "      <td>mercadona</td>\n",
       "      <td>aceite de oliva suave e intenso</td>\n",
       "      <td>Aceite De Oliva Intenso Hacendado 3 L.</td>\n",
       "      <td>2024-08-21</td>\n",
       "      <td>19.85</td>\n",
       "      <td>-2.91</td>\n",
       "      <td>12.79</td>\n",
       "    </tr>\n",
       "    <tr>\n",
       "      <th>101</th>\n",
       "      <td>mercadona</td>\n",
       "      <td>aceite de oliva suave e intenso</td>\n",
       "      <td>Aceite De Oliva Intenso Hacendado 3 L.</td>\n",
       "      <td>2024-10-01</td>\n",
       "      <td>20.25</td>\n",
       "      <td>+0.40</td>\n",
       "      <td>2.02</td>\n",
       "    </tr>\n",
       "  </tbody>\n",
       "</table>\n",
       "</div>"
      ],
      "text/plain": [
       "    supermercado                        categoria  \\\n",
       "81     mercadona                aceite de girasol   \n",
       "81     mercadona                aceite de girasol   \n",
       "9      mercadona  aceite de oliva suave e intenso   \n",
       "60     mercadona  aceite de oliva suave e intenso   \n",
       "101    mercadona  aceite de oliva suave e intenso   \n",
       "\n",
       "                                           producto        Día  Precio (€)  \\\n",
       "81   Aceite De Girasol Refinado 0,2º Hacendado 1 L. 2024-10-01        1.48   \n",
       "81   Aceite De Girasol Refinado 0,2º Hacendado 5 L. 2024-10-01        6.91   \n",
       "9            Aceite De Oliva Intenso Hacendado 3 L. 2024-07-01       22.76   \n",
       "60           Aceite De Oliva Intenso Hacendado 3 L. 2024-08-21       19.85   \n",
       "101          Aceite De Oliva Intenso Hacendado 3 L. 2024-10-01       20.25   \n",
       "\n",
       "    variación (€) variación (%)  \n",
       "81         +0.03           2.07  \n",
       "81         +0.16           2.37  \n",
       "9          -1.14           4.77  \n",
       "60         -2.91          12.79  \n",
       "101        +0.40           2.02  "
      ]
     },
     "execution_count": 347,
     "metadata": {},
     "output_type": "execute_result"
    }
   ],
   "source": [
    "condicion = df_historicos[\"variación (€)\"] != \"0\"\n",
    "df_historicos[condicion].head()"
   ]
  },
  {
   "cell_type": "markdown",
   "metadata": {},
   "source": [
    "convertimos variacion (€) y variación (%) a float"
   ]
  },
  {
   "cell_type": "code",
   "execution_count": 348,
   "metadata": {},
   "outputs": [],
   "source": [
    "df_historicos[\"variación (€)\"] = df_historicos[\"variación (€)\"].astype(float)\n"
   ]
  },
  {
   "cell_type": "code",
   "execution_count": 349,
   "metadata": {},
   "outputs": [
    {
     "data": {
      "text/html": [
       "<div>\n",
       "<style scoped>\n",
       "    .dataframe tbody tr th:only-of-type {\n",
       "        vertical-align: middle;\n",
       "    }\n",
       "\n",
       "    .dataframe tbody tr th {\n",
       "        vertical-align: top;\n",
       "    }\n",
       "\n",
       "    .dataframe thead th {\n",
       "        text-align: right;\n",
       "    }\n",
       "</style>\n",
       "<table border=\"1\" class=\"dataframe\">\n",
       "  <thead>\n",
       "    <tr style=\"text-align: right;\">\n",
       "      <th></th>\n",
       "      <th>supermercado</th>\n",
       "      <th>categoria</th>\n",
       "      <th>producto</th>\n",
       "      <th>Día</th>\n",
       "      <th>Precio (€)</th>\n",
       "      <th>variación (€)</th>\n",
       "      <th>variación (%)</th>\n",
       "    </tr>\n",
       "  </thead>\n",
       "  <tbody>\n",
       "    <tr>\n",
       "      <th>81</th>\n",
       "      <td>mercadona</td>\n",
       "      <td>aceite de girasol</td>\n",
       "      <td>Aceite De Girasol Refinado 0,2º Hacendado 1 L.</td>\n",
       "      <td>2024-10-01</td>\n",
       "      <td>1.48</td>\n",
       "      <td>0.03</td>\n",
       "      <td>2.07</td>\n",
       "    </tr>\n",
       "    <tr>\n",
       "      <th>81</th>\n",
       "      <td>mercadona</td>\n",
       "      <td>aceite de girasol</td>\n",
       "      <td>Aceite De Girasol Refinado 0,2º Hacendado 5 L.</td>\n",
       "      <td>2024-10-01</td>\n",
       "      <td>6.91</td>\n",
       "      <td>0.16</td>\n",
       "      <td>2.37</td>\n",
       "    </tr>\n",
       "    <tr>\n",
       "      <th>9</th>\n",
       "      <td>mercadona</td>\n",
       "      <td>aceite de oliva suave e intenso</td>\n",
       "      <td>Aceite De Oliva Intenso Hacendado 3 L.</td>\n",
       "      <td>2024-07-01</td>\n",
       "      <td>22.76</td>\n",
       "      <td>-1.14</td>\n",
       "      <td>4.77</td>\n",
       "    </tr>\n",
       "    <tr>\n",
       "      <th>60</th>\n",
       "      <td>mercadona</td>\n",
       "      <td>aceite de oliva suave e intenso</td>\n",
       "      <td>Aceite De Oliva Intenso Hacendado 3 L.</td>\n",
       "      <td>2024-08-21</td>\n",
       "      <td>19.85</td>\n",
       "      <td>-2.91</td>\n",
       "      <td>12.79</td>\n",
       "    </tr>\n",
       "    <tr>\n",
       "      <th>101</th>\n",
       "      <td>mercadona</td>\n",
       "      <td>aceite de oliva suave e intenso</td>\n",
       "      <td>Aceite De Oliva Intenso Hacendado 3 L.</td>\n",
       "      <td>2024-10-01</td>\n",
       "      <td>20.25</td>\n",
       "      <td>0.40</td>\n",
       "      <td>2.02</td>\n",
       "    </tr>\n",
       "  </tbody>\n",
       "</table>\n",
       "</div>"
      ],
      "text/plain": [
       "    supermercado                        categoria  \\\n",
       "81     mercadona                aceite de girasol   \n",
       "81     mercadona                aceite de girasol   \n",
       "9      mercadona  aceite de oliva suave e intenso   \n",
       "60     mercadona  aceite de oliva suave e intenso   \n",
       "101    mercadona  aceite de oliva suave e intenso   \n",
       "\n",
       "                                           producto        Día  Precio (€)  \\\n",
       "81   Aceite De Girasol Refinado 0,2º Hacendado 1 L. 2024-10-01        1.48   \n",
       "81   Aceite De Girasol Refinado 0,2º Hacendado 5 L. 2024-10-01        6.91   \n",
       "9            Aceite De Oliva Intenso Hacendado 3 L. 2024-07-01       22.76   \n",
       "60           Aceite De Oliva Intenso Hacendado 3 L. 2024-08-21       19.85   \n",
       "101          Aceite De Oliva Intenso Hacendado 3 L. 2024-10-01       20.25   \n",
       "\n",
       "     variación (€) variación (%)  \n",
       "81            0.03          2.07  \n",
       "81            0.16          2.37  \n",
       "9            -1.14          4.77  \n",
       "60           -2.91         12.79  \n",
       "101           0.40          2.02  "
      ]
     },
     "execution_count": 349,
     "metadata": {},
     "output_type": "execute_result"
    }
   ],
   "source": [
    "condicion = df_historicos[\"variación (€)\"] != 0\n",
    "df_historicos[condicion].head()"
   ]
  },
  {
   "cell_type": "markdown",
   "metadata": {},
   "source": [
    "### Detectamos que la variación va a tener un problema\n",
    "No podemos saber si el porcentaje es positivo o negativo, para ello, si la variacion es: \n",
    "\n",
    "Variación = variacion(€)/(Precio-Variacion) x100\n",
    "\n",
    "la vamos a calcular"
   ]
  },
  {
   "cell_type": "code",
   "execution_count": 350,
   "metadata": {},
   "outputs": [],
   "source": [
    "df_historicos[\"nueva variacion (%)\"] = round((df_historicos[\"variación (€)\"] / (df_historicos[\"Precio (€)\"] - df_historicos[\"variación (€)\"])) * 100, 2)"
   ]
  },
  {
   "cell_type": "code",
   "execution_count": 351,
   "metadata": {},
   "outputs": [
    {
     "data": {
      "text/html": [
       "<div>\n",
       "<style scoped>\n",
       "    .dataframe tbody tr th:only-of-type {\n",
       "        vertical-align: middle;\n",
       "    }\n",
       "\n",
       "    .dataframe tbody tr th {\n",
       "        vertical-align: top;\n",
       "    }\n",
       "\n",
       "    .dataframe thead th {\n",
       "        text-align: right;\n",
       "    }\n",
       "</style>\n",
       "<table border=\"1\" class=\"dataframe\">\n",
       "  <thead>\n",
       "    <tr style=\"text-align: right;\">\n",
       "      <th></th>\n",
       "      <th>supermercado</th>\n",
       "      <th>categoria</th>\n",
       "      <th>producto</th>\n",
       "      <th>Día</th>\n",
       "      <th>Precio (€)</th>\n",
       "      <th>variación (€)</th>\n",
       "      <th>variación (%)</th>\n",
       "      <th>nueva variacion (%)</th>\n",
       "    </tr>\n",
       "  </thead>\n",
       "  <tbody>\n",
       "    <tr>\n",
       "      <th>81</th>\n",
       "      <td>mercadona</td>\n",
       "      <td>aceite de girasol</td>\n",
       "      <td>Aceite De Girasol Refinado 0,2º Hacendado 1 L.</td>\n",
       "      <td>2024-10-01</td>\n",
       "      <td>1.48</td>\n",
       "      <td>0.03</td>\n",
       "      <td>2.07</td>\n",
       "      <td>2.07</td>\n",
       "    </tr>\n",
       "    <tr>\n",
       "      <th>81</th>\n",
       "      <td>mercadona</td>\n",
       "      <td>aceite de girasol</td>\n",
       "      <td>Aceite De Girasol Refinado 0,2º Hacendado 5 L.</td>\n",
       "      <td>2024-10-01</td>\n",
       "      <td>6.91</td>\n",
       "      <td>0.16</td>\n",
       "      <td>2.37</td>\n",
       "      <td>2.37</td>\n",
       "    </tr>\n",
       "    <tr>\n",
       "      <th>9</th>\n",
       "      <td>mercadona</td>\n",
       "      <td>aceite de oliva suave e intenso</td>\n",
       "      <td>Aceite De Oliva Intenso Hacendado 3 L.</td>\n",
       "      <td>2024-07-01</td>\n",
       "      <td>22.76</td>\n",
       "      <td>-1.14</td>\n",
       "      <td>4.77</td>\n",
       "      <td>-4.77</td>\n",
       "    </tr>\n",
       "    <tr>\n",
       "      <th>60</th>\n",
       "      <td>mercadona</td>\n",
       "      <td>aceite de oliva suave e intenso</td>\n",
       "      <td>Aceite De Oliva Intenso Hacendado 3 L.</td>\n",
       "      <td>2024-08-21</td>\n",
       "      <td>19.85</td>\n",
       "      <td>-2.91</td>\n",
       "      <td>12.79</td>\n",
       "      <td>-12.79</td>\n",
       "    </tr>\n",
       "    <tr>\n",
       "      <th>101</th>\n",
       "      <td>mercadona</td>\n",
       "      <td>aceite de oliva suave e intenso</td>\n",
       "      <td>Aceite De Oliva Intenso Hacendado 3 L.</td>\n",
       "      <td>2024-10-01</td>\n",
       "      <td>20.25</td>\n",
       "      <td>0.40</td>\n",
       "      <td>2.02</td>\n",
       "      <td>2.02</td>\n",
       "    </tr>\n",
       "  </tbody>\n",
       "</table>\n",
       "</div>"
      ],
      "text/plain": [
       "    supermercado                        categoria  \\\n",
       "81     mercadona                aceite de girasol   \n",
       "81     mercadona                aceite de girasol   \n",
       "9      mercadona  aceite de oliva suave e intenso   \n",
       "60     mercadona  aceite de oliva suave e intenso   \n",
       "101    mercadona  aceite de oliva suave e intenso   \n",
       "\n",
       "                                           producto        Día  Precio (€)  \\\n",
       "81   Aceite De Girasol Refinado 0,2º Hacendado 1 L. 2024-10-01        1.48   \n",
       "81   Aceite De Girasol Refinado 0,2º Hacendado 5 L. 2024-10-01        6.91   \n",
       "9            Aceite De Oliva Intenso Hacendado 3 L. 2024-07-01       22.76   \n",
       "60           Aceite De Oliva Intenso Hacendado 3 L. 2024-08-21       19.85   \n",
       "101          Aceite De Oliva Intenso Hacendado 3 L. 2024-10-01       20.25   \n",
       "\n",
       "     variación (€) variación (%)  nueva variacion (%)  \n",
       "81            0.03          2.07                 2.07  \n",
       "81            0.16          2.37                 2.37  \n",
       "9            -1.14          4.77                -4.77  \n",
       "60           -2.91         12.79               -12.79  \n",
       "101           0.40          2.02                 2.02  "
      ]
     },
     "execution_count": 351,
     "metadata": {},
     "output_type": "execute_result"
    }
   ],
   "source": [
    "condicion = df_historicos[\"variación (€)\"] != 0\n",
    "df_historicos[condicion].head()"
   ]
  },
  {
   "cell_type": "markdown",
   "metadata": {},
   "source": [
    "Pasamos a float, eliminamos la anterior variacion y renombramos columnas para eliminar tildes y mayúsculas que nos pueden dificultar la búsqueda"
   ]
  },
  {
   "cell_type": "code",
   "execution_count": 352,
   "metadata": {},
   "outputs": [],
   "source": [
    "df_historicos[\"nueva variacion (%)\"] = df_historicos[\"nueva variacion (%)\"].astype(float)"
   ]
  },
  {
   "cell_type": "code",
   "execution_count": 353,
   "metadata": {},
   "outputs": [],
   "source": [
    "df_historicos.drop(columns=\"variación (%)\",inplace=True)"
   ]
  },
  {
   "cell_type": "code",
   "execution_count": 354,
   "metadata": {},
   "outputs": [],
   "source": [
    "df_historicos = df_historicos.rename(columns={\"Día\": \"fecha\",\"Precio (€)\":\"precio (€)\",\"variación (€)\":\"variacion (€)\",\"nueva variacion (%)\":\"variacion (%)\"})"
   ]
  },
  {
   "cell_type": "code",
   "execution_count": 355,
   "metadata": {},
   "outputs": [
    {
     "data": {
      "text/html": [
       "<div>\n",
       "<style scoped>\n",
       "    .dataframe tbody tr th:only-of-type {\n",
       "        vertical-align: middle;\n",
       "    }\n",
       "\n",
       "    .dataframe tbody tr th {\n",
       "        vertical-align: top;\n",
       "    }\n",
       "\n",
       "    .dataframe thead th {\n",
       "        text-align: right;\n",
       "    }\n",
       "</style>\n",
       "<table border=\"1\" class=\"dataframe\">\n",
       "  <thead>\n",
       "    <tr style=\"text-align: right;\">\n",
       "      <th></th>\n",
       "      <th>supermercado</th>\n",
       "      <th>categoria</th>\n",
       "      <th>producto</th>\n",
       "      <th>fecha</th>\n",
       "      <th>precio (€)</th>\n",
       "      <th>variacion (€)</th>\n",
       "      <th>variacion (%)</th>\n",
       "    </tr>\n",
       "  </thead>\n",
       "  <tbody>\n",
       "    <tr>\n",
       "      <th>0</th>\n",
       "      <td>mercadona</td>\n",
       "      <td>aceite de girasol</td>\n",
       "      <td>Aceite De Girasol Refinado 0,2º Hacendado 1 L.</td>\n",
       "      <td>2024-07-12</td>\n",
       "      <td>1.45</td>\n",
       "      <td>0.0</td>\n",
       "      <td>0.0</td>\n",
       "    </tr>\n",
       "    <tr>\n",
       "      <th>1</th>\n",
       "      <td>mercadona</td>\n",
       "      <td>aceite de girasol</td>\n",
       "      <td>Aceite De Girasol Refinado 0,2º Hacendado 1 L.</td>\n",
       "      <td>2024-07-13</td>\n",
       "      <td>1.45</td>\n",
       "      <td>0.0</td>\n",
       "      <td>0.0</td>\n",
       "    </tr>\n",
       "    <tr>\n",
       "      <th>2</th>\n",
       "      <td>mercadona</td>\n",
       "      <td>aceite de girasol</td>\n",
       "      <td>Aceite De Girasol Refinado 0,2º Hacendado 1 L.</td>\n",
       "      <td>2024-07-14</td>\n",
       "      <td>1.45</td>\n",
       "      <td>0.0</td>\n",
       "      <td>0.0</td>\n",
       "    </tr>\n",
       "    <tr>\n",
       "      <th>3</th>\n",
       "      <td>mercadona</td>\n",
       "      <td>aceite de girasol</td>\n",
       "      <td>Aceite De Girasol Refinado 0,2º Hacendado 1 L.</td>\n",
       "      <td>2024-07-15</td>\n",
       "      <td>1.45</td>\n",
       "      <td>0.0</td>\n",
       "      <td>0.0</td>\n",
       "    </tr>\n",
       "    <tr>\n",
       "      <th>4</th>\n",
       "      <td>mercadona</td>\n",
       "      <td>aceite de girasol</td>\n",
       "      <td>Aceite De Girasol Refinado 0,2º Hacendado 1 L.</td>\n",
       "      <td>2024-07-16</td>\n",
       "      <td>1.45</td>\n",
       "      <td>0.0</td>\n",
       "      <td>0.0</td>\n",
       "    </tr>\n",
       "  </tbody>\n",
       "</table>\n",
       "</div>"
      ],
      "text/plain": [
       "  supermercado          categoria  \\\n",
       "0    mercadona  aceite de girasol   \n",
       "1    mercadona  aceite de girasol   \n",
       "2    mercadona  aceite de girasol   \n",
       "3    mercadona  aceite de girasol   \n",
       "4    mercadona  aceite de girasol   \n",
       "\n",
       "                                         producto      fecha  precio (€)  \\\n",
       "0  Aceite De Girasol Refinado 0,2º Hacendado 1 L. 2024-07-12        1.45   \n",
       "1  Aceite De Girasol Refinado 0,2º Hacendado 1 L. 2024-07-13        1.45   \n",
       "2  Aceite De Girasol Refinado 0,2º Hacendado 1 L. 2024-07-14        1.45   \n",
       "3  Aceite De Girasol Refinado 0,2º Hacendado 1 L. 2024-07-15        1.45   \n",
       "4  Aceite De Girasol Refinado 0,2º Hacendado 1 L. 2024-07-16        1.45   \n",
       "\n",
       "   variacion (€)  variacion (%)  \n",
       "0            0.0            0.0  \n",
       "1            0.0            0.0  \n",
       "2            0.0            0.0  \n",
       "3            0.0            0.0  \n",
       "4            0.0            0.0  "
      ]
     },
     "execution_count": 355,
     "metadata": {},
     "output_type": "execute_result"
    }
   ],
   "source": [
    "df_historicos.head()"
   ]
  },
  {
   "cell_type": "code",
   "execution_count": 356,
   "metadata": {},
   "outputs": [
    {
     "name": "stdout",
     "output_type": "stream",
     "text": [
      "<class 'pandas.core.frame.DataFrame'>\n",
      "Index: 129427 entries, 0 to 101\n",
      "Data columns (total 7 columns):\n",
      " #   Column         Non-Null Count   Dtype         \n",
      "---  ------         --------------   -----         \n",
      " 0   supermercado   129427 non-null  object        \n",
      " 1   categoria      129427 non-null  object        \n",
      " 2   producto       129427 non-null  object        \n",
      " 3   fecha          129427 non-null  datetime64[ns]\n",
      " 4   precio (€)     129427 non-null  float64       \n",
      " 5   variacion (€)  129427 non-null  float64       \n",
      " 6   variacion (%)  129427 non-null  float64       \n",
      "dtypes: datetime64[ns](1), float64(3), object(3)\n",
      "memory usage: 7.9+ MB\n"
     ]
    }
   ],
   "source": [
    "df_historicos.info()"
   ]
  },
  {
   "cell_type": "markdown",
   "metadata": {},
   "source": [
    "# Verificar duplicados\n",
    "\n",
    "Vamos a observar si hay duplicados en nuestra tabla"
   ]
  },
  {
   "cell_type": "code",
   "execution_count": 357,
   "metadata": {},
   "outputs": [
    {
     "data": {
      "text/plain": [
       "False    128796\n",
       "True        631\n",
       "Name: count, dtype: int64"
      ]
     },
     "execution_count": 357,
     "metadata": {},
     "output_type": "execute_result"
    }
   ],
   "source": [
    "df_historicos.duplicated().value_counts()"
   ]
  },
  {
   "cell_type": "markdown",
   "metadata": {},
   "source": [
    "Reseteamos el index, que estaba mal indexado"
   ]
  },
  {
   "cell_type": "code",
   "execution_count": 358,
   "metadata": {},
   "outputs": [],
   "source": [
    "df_historicos.reset_index(inplace=True,drop=True)"
   ]
  },
  {
   "cell_type": "code",
   "execution_count": 360,
   "metadata": {},
   "outputs": [
    {
     "data": {
      "text/html": [
       "<div>\n",
       "<style scoped>\n",
       "    .dataframe tbody tr th:only-of-type {\n",
       "        vertical-align: middle;\n",
       "    }\n",
       "\n",
       "    .dataframe tbody tr th {\n",
       "        vertical-align: top;\n",
       "    }\n",
       "\n",
       "    .dataframe thead th {\n",
       "        text-align: right;\n",
       "    }\n",
       "</style>\n",
       "<table border=\"1\" class=\"dataframe\">\n",
       "  <thead>\n",
       "    <tr style=\"text-align: right;\">\n",
       "      <th></th>\n",
       "      <th>supermercado</th>\n",
       "      <th>categoria</th>\n",
       "      <th>producto</th>\n",
       "      <th>fecha</th>\n",
       "      <th>precio (€)</th>\n",
       "      <th>variacion (€)</th>\n",
       "      <th>variacion (%)</th>\n",
       "    </tr>\n",
       "  </thead>\n",
       "  <tbody>\n",
       "    <tr>\n",
       "      <th>99019</th>\n",
       "      <td>alcampo</td>\n",
       "      <td>aceite de oliva suave e intenso</td>\n",
       "      <td>Carbonell Aceite De Oliva Suave Garrafa De 5 L.</td>\n",
       "      <td>2024-06-22</td>\n",
       "      <td>52.15</td>\n",
       "      <td>0.0</td>\n",
       "      <td>0.0</td>\n",
       "    </tr>\n",
       "    <tr>\n",
       "      <th>99144</th>\n",
       "      <td>alcampo</td>\n",
       "      <td>aceite de oliva suave e intenso</td>\n",
       "      <td>Carbonell Aceite De Oliva Suave Garrafa De 5 L.</td>\n",
       "      <td>2024-06-22</td>\n",
       "      <td>52.15</td>\n",
       "      <td>0.0</td>\n",
       "      <td>0.0</td>\n",
       "    </tr>\n",
       "    <tr>\n",
       "      <th>99020</th>\n",
       "      <td>alcampo</td>\n",
       "      <td>aceite de oliva suave e intenso</td>\n",
       "      <td>Carbonell Aceite De Oliva Suave Garrafa De 5 L.</td>\n",
       "      <td>2024-06-23</td>\n",
       "      <td>52.15</td>\n",
       "      <td>0.0</td>\n",
       "      <td>0.0</td>\n",
       "    </tr>\n",
       "    <tr>\n",
       "      <th>99145</th>\n",
       "      <td>alcampo</td>\n",
       "      <td>aceite de oliva suave e intenso</td>\n",
       "      <td>Carbonell Aceite De Oliva Suave Garrafa De 5 L.</td>\n",
       "      <td>2024-06-23</td>\n",
       "      <td>52.15</td>\n",
       "      <td>0.0</td>\n",
       "      <td>0.0</td>\n",
       "    </tr>\n",
       "    <tr>\n",
       "      <th>99021</th>\n",
       "      <td>alcampo</td>\n",
       "      <td>aceite de oliva suave e intenso</td>\n",
       "      <td>Carbonell Aceite De Oliva Suave Garrafa De 5 L.</td>\n",
       "      <td>2024-06-24</td>\n",
       "      <td>52.15</td>\n",
       "      <td>0.0</td>\n",
       "      <td>0.0</td>\n",
       "    </tr>\n",
       "    <tr>\n",
       "      <th>...</th>\n",
       "      <td>...</td>\n",
       "      <td>...</td>\n",
       "      <td>...</td>\n",
       "      <td>...</td>\n",
       "      <td>...</td>\n",
       "      <td>...</td>\n",
       "      <td>...</td>\n",
       "    </tr>\n",
       "    <tr>\n",
       "      <th>55615</th>\n",
       "      <td>dia</td>\n",
       "      <td>leche sin lactosa</td>\n",
       "      <td>Leche Semidesnatada Sin Lactosa Pascual Brik 1 L</td>\n",
       "      <td>2024-10-26</td>\n",
       "      <td>1.46</td>\n",
       "      <td>0.0</td>\n",
       "      <td>0.0</td>\n",
       "    </tr>\n",
       "    <tr>\n",
       "      <th>55719</th>\n",
       "      <td>dia</td>\n",
       "      <td>leche sin lactosa</td>\n",
       "      <td>Leche Semidesnatada Sin Lactosa Pascual Brik 6...</td>\n",
       "      <td>2024-10-26</td>\n",
       "      <td>8.76</td>\n",
       "      <td>0.0</td>\n",
       "      <td>0.0</td>\n",
       "    </tr>\n",
       "    <tr>\n",
       "      <th>55823</th>\n",
       "      <td>dia</td>\n",
       "      <td>leche sin lactosa</td>\n",
       "      <td>Leche Semidesnatada Sin Lactosa Pascual Brik 6...</td>\n",
       "      <td>2024-10-26</td>\n",
       "      <td>8.76</td>\n",
       "      <td>0.0</td>\n",
       "      <td>0.0</td>\n",
       "    </tr>\n",
       "    <tr>\n",
       "      <th>111079</th>\n",
       "      <td>alcampo</td>\n",
       "      <td>aceite de oliva virgen extra</td>\n",
       "      <td>Ybarra Aceite De Oliva Virgen Extra Botella De...</td>\n",
       "      <td>2024-10-26</td>\n",
       "      <td>11.64</td>\n",
       "      <td>0.0</td>\n",
       "      <td>0.0</td>\n",
       "    </tr>\n",
       "    <tr>\n",
       "      <th>111187</th>\n",
       "      <td>alcampo</td>\n",
       "      <td>aceite de oliva virgen extra</td>\n",
       "      <td>Ybarra Aceite De Oliva Virgen Extra Botella De...</td>\n",
       "      <td>2024-10-26</td>\n",
       "      <td>11.64</td>\n",
       "      <td>0.0</td>\n",
       "      <td>0.0</td>\n",
       "    </tr>\n",
       "  </tbody>\n",
       "</table>\n",
       "<p>1262 rows × 7 columns</p>\n",
       "</div>"
      ],
      "text/plain": [
       "       supermercado                        categoria  \\\n",
       "99019       alcampo  aceite de oliva suave e intenso   \n",
       "99144       alcampo  aceite de oliva suave e intenso   \n",
       "99020       alcampo  aceite de oliva suave e intenso   \n",
       "99145       alcampo  aceite de oliva suave e intenso   \n",
       "99021       alcampo  aceite de oliva suave e intenso   \n",
       "...             ...                              ...   \n",
       "55615           dia                leche sin lactosa   \n",
       "55719           dia                leche sin lactosa   \n",
       "55823           dia                leche sin lactosa   \n",
       "111079      alcampo     aceite de oliva virgen extra   \n",
       "111187      alcampo     aceite de oliva virgen extra   \n",
       "\n",
       "                                                 producto      fecha  \\\n",
       "99019     Carbonell Aceite De Oliva Suave Garrafa De 5 L. 2024-06-22   \n",
       "99144     Carbonell Aceite De Oliva Suave Garrafa De 5 L. 2024-06-22   \n",
       "99020     Carbonell Aceite De Oliva Suave Garrafa De 5 L. 2024-06-23   \n",
       "99145     Carbonell Aceite De Oliva Suave Garrafa De 5 L. 2024-06-23   \n",
       "99021     Carbonell Aceite De Oliva Suave Garrafa De 5 L. 2024-06-24   \n",
       "...                                                   ...        ...   \n",
       "55615    Leche Semidesnatada Sin Lactosa Pascual Brik 1 L 2024-10-26   \n",
       "55719   Leche Semidesnatada Sin Lactosa Pascual Brik 6... 2024-10-26   \n",
       "55823   Leche Semidesnatada Sin Lactosa Pascual Brik 6... 2024-10-26   \n",
       "111079  Ybarra Aceite De Oliva Virgen Extra Botella De... 2024-10-26   \n",
       "111187  Ybarra Aceite De Oliva Virgen Extra Botella De... 2024-10-26   \n",
       "\n",
       "        precio (€)  variacion (€)  variacion (%)  \n",
       "99019        52.15            0.0            0.0  \n",
       "99144        52.15            0.0            0.0  \n",
       "99020        52.15            0.0            0.0  \n",
       "99145        52.15            0.0            0.0  \n",
       "99021        52.15            0.0            0.0  \n",
       "...            ...            ...            ...  \n",
       "55615         1.46            0.0            0.0  \n",
       "55719         8.76            0.0            0.0  \n",
       "55823         8.76            0.0            0.0  \n",
       "111079       11.64            0.0            0.0  \n",
       "111187       11.64            0.0            0.0  \n",
       "\n",
       "[1262 rows x 7 columns]"
      ]
     },
     "execution_count": 360,
     "metadata": {},
     "output_type": "execute_result"
    }
   ],
   "source": [
    "df_historicos[df_historicos.duplicated(keep=False)].sort_values(by=[\"fecha\",\"producto\"])"
   ]
  },
  {
   "cell_type": "markdown",
   "metadata": {},
   "source": [
    "### Nota sobre los duplicados:\n",
    "Al ir a ver los duplicados, observamos que la razón es que en la web, el producto se lista dos veces por ejemplo:\n",
    "\n",
    "![image.png](../src/01_png/01_Producto_duplicado.png)\n",
    "\n",
    "Pero si entramos en ambos productos a su histórico: observamos lo siguiente:\n",
    "\n",
    "![image2.png](../src/01_png/02_URL_es_lo_mismo.png)\n",
    "\n",
    "![image2.png](../src/01_png/02_URL_es_lo_mismo.png)\n",
    "\n",
    "La URL es la misma.\n",
    "\n",
    "Tras observar que es algo que ocurre de forma recurrente, nos permite eliminar los duplicados sin riesgo de perder datos.\n",
    "\n"
   ]
  },
  {
   "cell_type": "markdown",
   "metadata": {},
   "source": [
    "# Eliminar duplicados"
   ]
  },
  {
   "cell_type": "code",
   "execution_count": 365,
   "metadata": {},
   "outputs": [
    {
     "name": "stdout",
     "output_type": "stream",
     "text": [
      "Se han eliminado 631 duplicados\n"
     ]
    }
   ],
   "source": [
    "longitud_inicial = len(df_historicos)\n",
    "df_historicos = df_historicos.drop_duplicates(keep=\"first\")\n",
    "longitud_final = len(df_historicos)\n",
    "print(f\"Se han eliminado {longitud_inicial - longitud_final} duplicados\")"
   ]
  },
  {
   "cell_type": "markdown",
   "metadata": {},
   "source": [
    "Reseteamos el index"
   ]
  },
  {
   "cell_type": "code",
   "execution_count": 368,
   "metadata": {},
   "outputs": [],
   "source": [
    "df_historicos.reset_index(drop=True,inplace=True)"
   ]
  },
  {
   "cell_type": "markdown",
   "metadata": {},
   "source": [
    "# Guardar la tabla\n",
    "Guardamos lo conseguido hasta el momento. y procedemos a la preparación preDB"
   ]
  },
  {
   "cell_type": "code",
   "execution_count": 369,
   "metadata": {},
   "outputs": [],
   "source": [
    "df_historicos.to_csv(\"../datos/01_tabla_historicos_preDB.csv\")"
   ]
  }
 ],
 "metadata": {
  "kernelspec": {
   "display_name": "Python 3",
   "language": "python",
   "name": "python3"
  },
  "language_info": {
   "codemirror_mode": {
    "name": "ipython",
    "version": 3
   },
   "file_extension": ".py",
   "mimetype": "text/x-python",
   "name": "python",
   "nbconvert_exporter": "python",
   "pygments_lexer": "ipython3",
   "version": "3.11.9"
  }
 },
 "nbformat": 4,
 "nbformat_minor": 2
}
