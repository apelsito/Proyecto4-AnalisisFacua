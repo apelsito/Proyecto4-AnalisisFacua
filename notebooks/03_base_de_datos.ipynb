{
 "cells": [
  {
   "cell_type": "markdown",
   "metadata": {},
   "source": [
    "# Fase 3 Base de Datos\n",
    "Ahora que tenemos las tablas, vamos a crear la Base de Datos:\n"
   ]
  },
  {
   "cell_type": "code",
   "execution_count": 2,
   "metadata": {},
   "outputs": [],
   "source": [
    "# importamos las librerías con las que vamos a trabajar\n",
    "\n",
    "# Trabajar con bases de datos y python\n",
    "# -----------------------------------------------------------------------\n",
    "import psycopg2\n",
    "from psycopg2 import OperationalError, errorcodes, errors\n",
    "\n",
    "\n",
    "# Trabajar con DataFrames\n",
    "# -----------------------------------------------------------------------\n",
    "import pandas as pd\n",
    "\n",
    "from geopy.geocoders import Nominatim\n",
    "import dotenv    \n",
    "import os\n",
    "\n",
    "from datetime import datetime\n",
    "# Importación de módulos desde rutas recursivas\n",
    "# -----------------------------------------------------------------------\n",
    "import sys\n",
    "sys.path.append(\"../\")  # Añadir rutas externas para poder importar módulos desde carpetas superiores\n",
    "from src.SupportDB import conectarse_a_bd,modificar_bd"
   ]
  },
  {
   "cell_type": "markdown",
   "metadata": {},
   "source": [
    "# Crear Base de Datos\n",
    "Para ello en DBeaver abrimos PostgreSQL, hacemos click izquierdo y pulsamos en:\n",
    "\n",
    "![image.png](../src/01_png/03_DBeaver.png)\n",
    "\n",
    "La llamo: historicos con los siguientes ajustes:\n",
    "\n",
    "![image.png](../src/01_png/04_DBeaver_newDB.png)"
   ]
  },
  {
   "cell_type": "markdown",
   "metadata": {},
   "source": [
    "# Conectarnos a la base de Datos\n",
    "Con una función nos conectamos, como hace timeout, la tendremos que invocar múltiples veces en el código"
   ]
  },
  {
   "cell_type": "code",
   "execution_count": 12,
   "metadata": {},
   "outputs": [],
   "source": [
    "key = os.getenv(\"sql\")\n",
    "user = \"postgres\"\n",
    "db = \"historicos\""
   ]
  },
  {
   "cell_type": "markdown",
   "metadata": {},
   "source": [
    "Llamaremos a lo de abajo el resto del tiempo"
   ]
  },
  {
   "cell_type": "code",
   "execution_count": 3,
   "metadata": {},
   "outputs": [
    {
     "name": "stdout",
     "output_type": "stream",
     "text": [
      "Conectado a la base de datos: historicos\n"
     ]
    }
   ],
   "source": [
    "conexion = conectarse_a_bd(db,user,key)\n",
    "cursor = conexion.cursor()"
   ]
  },
  {
   "cell_type": "markdown",
   "metadata": {},
   "source": [
    "# Crear tabla supermercados\n",
    "- supermercado\n",
    "    - id_supermercado SERIAL NOT NULL, \n",
    "    - supermercado VARCHAR (100) UNIQUE NOT NULL"
   ]
  },
  {
   "cell_type": "markdown",
   "metadata": {},
   "source": [
    "### Cargar el DF"
   ]
  },
  {
   "cell_type": "code",
   "execution_count": 6,
   "metadata": {},
   "outputs": [
    {
     "data": {
      "text/html": [
       "<div>\n",
       "<style scoped>\n",
       "    .dataframe tbody tr th:only-of-type {\n",
       "        vertical-align: middle;\n",
       "    }\n",
       "\n",
       "    .dataframe tbody tr th {\n",
       "        vertical-align: top;\n",
       "    }\n",
       "\n",
       "    .dataframe thead th {\n",
       "        text-align: right;\n",
       "    }\n",
       "</style>\n",
       "<table border=\"1\" class=\"dataframe\">\n",
       "  <thead>\n",
       "    <tr style=\"text-align: right;\">\n",
       "      <th></th>\n",
       "      <th>index</th>\n",
       "      <th>supermercado</th>\n",
       "    </tr>\n",
       "  </thead>\n",
       "  <tbody>\n",
       "    <tr>\n",
       "      <th>4</th>\n",
       "      <td>5</td>\n",
       "      <td>hipercor</td>\n",
       "    </tr>\n",
       "  </tbody>\n",
       "</table>\n",
       "</div>"
      ],
      "text/plain": [
       "   index supermercado\n",
       "4      5     hipercor"
      ]
     },
     "execution_count": 6,
     "metadata": {},
     "output_type": "execute_result"
    }
   ],
   "source": [
    "df_supermercados = pd.read_csv(\"../datos/02_tabla_supermercados.csv\",index_col=\"Unnamed: 0\")\n",
    "df_supermercados.sample()"
   ]
  },
  {
   "cell_type": "markdown",
   "metadata": {},
   "source": [
    "### Conectarse, Crear la tabla y cerrar conexión"
   ]
  },
  {
   "cell_type": "code",
   "execution_count": null,
   "metadata": {},
   "outputs": [],
   "source": [
    "conexion = conectarse_a_bd(db,user,key)"
   ]
  },
  {
   "cell_type": "code",
   "execution_count": null,
   "metadata": {},
   "outputs": [],
   "source": [
    "query = ''' '''\n",
    "modificar_bd(conexion,query)"
   ]
  },
  {
   "cell_type": "markdown",
   "metadata": {},
   "source": [
    "# Crear tabla categorias\n",
    "- categoria\n",
    "    - id_categoria SERIAL NOT NULL,\n",
    "    - categoria VARCHAR (100) UNIQUE NOT NULL"
   ]
  },
  {
   "cell_type": "markdown",
   "metadata": {},
   "source": [
    "### Cargar el DF"
   ]
  },
  {
   "cell_type": "code",
   "execution_count": 7,
   "metadata": {},
   "outputs": [
    {
     "data": {
      "text/html": [
       "<div>\n",
       "<style scoped>\n",
       "    .dataframe tbody tr th:only-of-type {\n",
       "        vertical-align: middle;\n",
       "    }\n",
       "\n",
       "    .dataframe tbody tr th {\n",
       "        vertical-align: top;\n",
       "    }\n",
       "\n",
       "    .dataframe thead th {\n",
       "        text-align: right;\n",
       "    }\n",
       "</style>\n",
       "<table border=\"1\" class=\"dataframe\">\n",
       "  <thead>\n",
       "    <tr style=\"text-align: right;\">\n",
       "      <th></th>\n",
       "      <th>index</th>\n",
       "      <th>categoria</th>\n",
       "    </tr>\n",
       "  </thead>\n",
       "  <tbody>\n",
       "    <tr>\n",
       "      <th>2</th>\n",
       "      <td>3</td>\n",
       "      <td>aceite de oliva virgen</td>\n",
       "    </tr>\n",
       "  </tbody>\n",
       "</table>\n",
       "</div>"
      ],
      "text/plain": [
       "   index               categoria\n",
       "2      3  aceite de oliva virgen"
      ]
     },
     "execution_count": 7,
     "metadata": {},
     "output_type": "execute_result"
    }
   ],
   "source": [
    "df_categorias = pd.read_csv(\"../datos/03_tabla_categorias.csv\",index_col=\"Unnamed: 0\")\n",
    "df_categorias.sample()"
   ]
  },
  {
   "cell_type": "markdown",
   "metadata": {},
   "source": [
    "# Crear tabla productos\n",
    "- producto\n",
    "    - id_producto SERIAL NOT NULL,\n",
    "    - producto VARCHAR (1000) UNIQUE NOT NULL"
   ]
  },
  {
   "cell_type": "markdown",
   "metadata": {},
   "source": [
    "### Cargar el DF"
   ]
  },
  {
   "cell_type": "code",
   "execution_count": 9,
   "metadata": {},
   "outputs": [
    {
     "data": {
      "text/html": [
       "<div>\n",
       "<style scoped>\n",
       "    .dataframe tbody tr th:only-of-type {\n",
       "        vertical-align: middle;\n",
       "    }\n",
       "\n",
       "    .dataframe tbody tr th {\n",
       "        vertical-align: top;\n",
       "    }\n",
       "\n",
       "    .dataframe thead th {\n",
       "        text-align: right;\n",
       "    }\n",
       "</style>\n",
       "<table border=\"1\" class=\"dataframe\">\n",
       "  <thead>\n",
       "    <tr style=\"text-align: right;\">\n",
       "      <th></th>\n",
       "      <th>index</th>\n",
       "      <th>producto</th>\n",
       "    </tr>\n",
       "  </thead>\n",
       "  <tbody>\n",
       "    <tr>\n",
       "      <th>470</th>\n",
       "      <td>471</td>\n",
       "      <td>Leche Semidesnatada Asturiana, Brik 50 Cl</td>\n",
       "    </tr>\n",
       "  </tbody>\n",
       "</table>\n",
       "</div>"
      ],
      "text/plain": [
       "     index                                   producto\n",
       "470    471  Leche Semidesnatada Asturiana, Brik 50 Cl"
      ]
     },
     "execution_count": 9,
     "metadata": {},
     "output_type": "execute_result"
    }
   ],
   "source": [
    "df_productos = pd.read_csv(\"../datos/04_tabla_productos.csv\",index_col=\"Unnamed: 0\")\n",
    "df_productos.sample()"
   ]
  },
  {
   "cell_type": "markdown",
   "metadata": {},
   "source": [
    "# Crear tabla historicos\n",
    "- historicos\n",
    "    - fecha DATE,\n",
    "    - id_producto INT NOT NULL,\n",
    "    - variacion (€) DECIMAL(5,2) NOT NULL,\n",
    "    - variacion (%) DECIMAL (5,2) NOT NULL,\n",
    "    - id_categoria INT NOT NULL,\n",
    "    - id_supermercado INT NOT NULL"
   ]
  },
  {
   "cell_type": "markdown",
   "metadata": {},
   "source": [
    "### Cargar el DF"
   ]
  },
  {
   "cell_type": "code",
   "execution_count": 11,
   "metadata": {},
   "outputs": [
    {
     "data": {
      "text/html": [
       "<div>\n",
       "<style scoped>\n",
       "    .dataframe tbody tr th:only-of-type {\n",
       "        vertical-align: middle;\n",
       "    }\n",
       "\n",
       "    .dataframe tbody tr th {\n",
       "        vertical-align: top;\n",
       "    }\n",
       "\n",
       "    .dataframe thead th {\n",
       "        text-align: right;\n",
       "    }\n",
       "</style>\n",
       "<table border=\"1\" class=\"dataframe\">\n",
       "  <thead>\n",
       "    <tr style=\"text-align: right;\">\n",
       "      <th></th>\n",
       "      <th>supermercado</th>\n",
       "      <th>categoria</th>\n",
       "      <th>producto</th>\n",
       "      <th>fecha</th>\n",
       "      <th>precio (€)</th>\n",
       "      <th>variacion (€)</th>\n",
       "      <th>variacion (%)</th>\n",
       "    </tr>\n",
       "  </thead>\n",
       "  <tbody>\n",
       "    <tr>\n",
       "      <th>54663</th>\n",
       "      <td>4</td>\n",
       "      <td>7</td>\n",
       "      <td>655</td>\n",
       "      <td>2024-09-22</td>\n",
       "      <td>8.58</td>\n",
       "      <td>0.0</td>\n",
       "      <td>0.0</td>\n",
       "    </tr>\n",
       "  </tbody>\n",
       "</table>\n",
       "</div>"
      ],
      "text/plain": [
       "       supermercado  categoria  producto       fecha  precio (€)  \\\n",
       "54663             4          7       655  2024-09-22        8.58   \n",
       "\n",
       "       variacion (€)  variacion (%)  \n",
       "54663            0.0            0.0  "
      ]
     },
     "execution_count": 11,
     "metadata": {},
     "output_type": "execute_result"
    }
   ],
   "source": [
    "df_historicos = pd.read_csv(\"../datos/05_tabla_historico.csv\",index_col=\"Unnamed: 0\")\n",
    "df_historicos.sample()"
   ]
  }
 ],
 "metadata": {
  "kernelspec": {
   "display_name": "Python 3",
   "language": "python",
   "name": "python3"
  },
  "language_info": {
   "codemirror_mode": {
    "name": "ipython",
    "version": 3
   },
   "file_extension": ".py",
   "mimetype": "text/x-python",
   "name": "python",
   "nbconvert_exporter": "python",
   "pygments_lexer": "ipython3",
   "version": "3.11.9"
  }
 },
 "nbformat": 4,
 "nbformat_minor": 2
}
