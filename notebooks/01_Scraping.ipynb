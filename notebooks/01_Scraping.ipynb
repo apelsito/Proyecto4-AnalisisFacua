{
 "cells": [
  {
   "cell_type": "markdown",
   "metadata": {},
   "source": [
    "# Scraping\n",
    "\n",
    "Obtener todos los datos a base de Scrapeo:\n",
    "\n",
    "### Fases\n",
    "- Con Selenium, obtener todas las urls de los supermercados\n",
    "- Con Selenium, utilizar las URLs obtenidas, para sacar las urls de:\n",
    "    - Aceite girasol\n",
    "    - Aceite de oliva\n",
    "    - Leche\n",
    "- Con selenium, sacar las URLs de las subcategorias de:\n",
    "    - Aceite de oliva\n",
    "        - Suave e intenso\n",
    "        - Virgen\n",
    "        - Virgen extra.\n",
    "    - Leche\n",
    "        - Enriquecida\n",
    "        - Entera, semi o desnatada\n",
    "        - Sin Lactosa\n",
    "    De forma que, por supermercado, nos quedaremos con:\n",
    "    - URL Aceite Girasol\n",
    "    - URL Aceite de Oliva Suave e Intenso\n",
    "    - URL Aceite de Oliva Virgen\n",
    "    - URL Aceite de Oliva Virgen extra\n",
    "    - URL leche enriquecida\n",
    "    - URL leche entera,semi o desnatada\n",
    "    - URL leche sin lactosa\n",
    "\n",
    "Con estas URL utilizaremos BEAUTIFUL SOUP para sacar las URL del histórico de cada producto"
   ]
  },
  {
   "cell_type": "code",
   "execution_count": 1,
   "metadata": {},
   "outputs": [],
   "source": [
    "# Importamos las librerías que necesitamos\n",
    "\n",
    "# Librerías para automatización de navegadores (Selenium)\n",
    "# -----------------------------------------------------------------------\n",
    "from selenium import webdriver                   # Control automático del navegador para realizar scraping web\n",
    "\n",
    "from selenium.webdriver.chrome.service import Service  # Maneja el servicio de ChromeDriver\n",
    "from selenium.webdriver.common.by import By      # Para seleccionar elementos en la página web (DOM)\n",
    "from selenium.webdriver.chrome.options import Options  # Configuración de opciones del navegador (headless mode, etc.)\n",
    "import time                                      # Para gestionar pausas y temporización\n",
    "\n",
    "# Librerías para extracción de datos y scraping\n",
    "# -----------------------------------------------------------------------\n",
    "from bs4 import BeautifulSoup  # Para analizar y extraer datos de HTML y XML (scraping web)\n",
    "\n",
    "# Librerías para tratamiento y manipulación de datos\n",
    "# -----------------------------------------------------------------------\n",
    "import pandas as pd             # Para manipulación de estructuras de datos como DataFrames\n",
    "import numpy as np              # Para cálculos numéricos y manejo de arrays\n",
    "import datetime                 # Para manipulación de fechas y tiempos\n",
    "\n",
    "# Manejo del tiempo y generación de pausas\n",
    "# -----------------------------------------------------------------------\n",
    "from time import sleep          # Pausar la ejecución del código durante un tiempo definido\n",
    "\n",
    "# Importación de módulos desde rutas recursivas\n",
    "# -----------------------------------------------------------------------\n",
    "import sys\n",
    "sys.path.append(\"../\")  # Añadir rutas externas para poder importar módulos desde carpetas superiores\n",
    "from src.SupportScraping import obtener_url_supermercados  # Funciones personalizadas para obtener datos de vuelos"
   ]
  },
  {
   "cell_type": "code",
   "execution_count": 2,
   "metadata": {},
   "outputs": [],
   "source": [
    "xpaths = [\"/html/body/section[1]/div/div[2]/div[1]/div/div[2]\",\n",
    "          \"/html/body/section[1]/div/div[2]/div[2]/div/div[2]/div\",\n",
    "          \"/html/body/section[1]/div/div[2]/div[3]/div/div[2]/div\",\n",
    "          \"/html/body/section[1]/div/div[2]/div[4]/div/div[2]/div\",\n",
    "          \"/html/body/section[1]/div/div[2]/div[5]/div/div[2]/div\",\n",
    "          \"/html/body/section[1]/div/div[2]/div[6]/div/div[2]/div\"]\n",
    "\n",
    "url_supermercados = [obtener_url_supermercados(xpath) for xpath in xpaths]"
   ]
  },
  {
   "cell_type": "code",
   "execution_count": 3,
   "metadata": {},
   "outputs": [
    {
     "data": {
      "text/plain": [
       "['https://super.facua.org/mercadona/',\n",
       " 'https://super.facua.org/carrefour/',\n",
       " 'https://super.facua.org/eroski/',\n",
       " 'https://super.facua.org/dia/',\n",
       " 'https://super.facua.org/hipercor/',\n",
       " 'https://super.facua.org/alcampo/']"
      ]
     },
     "execution_count": 3,
     "metadata": {},
     "output_type": "execute_result"
    }
   ],
   "source": [
    "url_supermercados\n"
   ]
  },
  {
   "cell_type": "code",
   "execution_count": null,
   "metadata": {},
   "outputs": [],
   "source": [
    "url_supermercados = ['https://super.facua.org/mercadona/',\n",
    "                    'https://super.facua.org/carrefour/',\n",
    "                    'https://super.facua.org/eroski/',\n",
    "                    'https://super.facua.org/dia/',\n",
    "                    'https://super.facua.org/hipercor/',\n",
    "                    'https://super.facua.org/alcampo/']"
   ]
  },
  {
   "cell_type": "code",
   "execution_count": 7,
   "metadata": {},
   "outputs": [
    {
     "name": "stdout",
     "output_type": "stream",
     "text": [
      "https://super.facua.org/mercadona/leche/\n"
     ]
    }
   ],
   "source": [
    "urls = []\n",
    "driver = webdriver.Chrome() #Para Abrir chrome solo ejecutar once\n",
    "url_facua= \"https://super.facua.org/mercadona/\"\n",
    "driver.get(url_facua)\n",
    "#Maximizar ventana\n",
    "driver.maximize_window() \n",
    "sleep(1)\n",
    "driver.find_element('xpath','/html/body/div/div[2]/button[2]').click()\n",
    "sleep(1)\n",
    "driver.execute_script(\"window.scrollTo(0, 100)\")\n",
    "sleep(1)\n",
    "driver.find_element('xpath',\"/html/body/section[1]/div/div[2]/div[1]/div/div[2]/div\").click()\n",
    "sleep(1)\n",
    "url_obtenida = driver.current_url\n",
    "urls.append(url_obtenida)\n",
    "sleep(1)\n",
    "driver.back()\n",
    "sleep(2)\n",
    "driver.execute_script(\"window.scrollTo(0, 100)\")\n",
    "sleep(1)\n",
    "driver.find_element('xpath',\"/html/body/section[1]/div/div[2]/div[2]/div/div[2]/div\").click()\n",
    "url_obtenida = driver.current_url\n",
    "urls.append(url_obtenida)\n",
    "sleep(1)\n",
    "driver.back()\n",
    "sleep(2)\n",
    "driver.execute_script(\"window.scrollTo(0, 100)\")\n",
    "sleep(1)\n",
    "driver.find_element('xpath',\"/html/body/section[1]/div/div[2]/div[3]/div/div[2]/div\").click()\n",
    "url_obtenida = driver.current_url\n",
    "urls.append(url_obtenida)\n",
    "sleep(1)\n",
    "driver.quit()\n"
   ]
  },
  {
   "cell_type": "code",
   "execution_count": 8,
   "metadata": {},
   "outputs": [
    {
     "data": {
      "text/plain": [
       "['https://super.facua.org/mercadona/aceite-de-girasol/',\n",
       " 'https://super.facua.org/mercadona/aceite-de-oliva/',\n",
       " 'https://super.facua.org/mercadona/leche/']"
      ]
     },
     "execution_count": 8,
     "metadata": {},
     "output_type": "execute_result"
    }
   ],
   "source": [
    "urls"
   ]
  }
 ],
 "metadata": {
  "kernelspec": {
   "display_name": "Python 3",
   "language": "python",
   "name": "python3"
  },
  "language_info": {
   "codemirror_mode": {
    "name": "ipython",
    "version": 3
   },
   "file_extension": ".py",
   "mimetype": "text/x-python",
   "name": "python",
   "nbconvert_exporter": "python",
   "pygments_lexer": "ipython3",
   "version": "3.11.9"
  }
 },
 "nbformat": 4,
 "nbformat_minor": 2
}
