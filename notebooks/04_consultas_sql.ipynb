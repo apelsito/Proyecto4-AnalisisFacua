{
 "cells": [
  {
   "cell_type": "markdown",
   "metadata": {},
   "source": [
    "# Fase 4 \n",
    "En esta fase realizaremos consultas sql para analizar los datos recogidos hasta la fecha, vamos a realizar lo siguiente:\n",
    "- Productos por supermercado: Mostrar cuantos productos se incluyen en el análisis de datos por supermercado\n",
    "\n",
    "- Comparación de Precios entre Supermercados: Determinar qué supermercados ofrecen los precios más bajos y cuáles son más caros para cada producto.\n",
    "\n",
    "- Análisis de la Evolución de Precios: Estudiar cómo han cambiado los precios de los productos a lo largo del tiempo en distintos supermercados.\n",
    "\n",
    "- Detección de Anomalías: Identificar subidas o bajadas de precios inusuales que podrían señalar prácticas abusivas o promociones.\n",
    "\n",
    "- Comparación de Precios Promedio: Calcular y comparar los precios promedio de cada producto en diferentes supermercados."
   ]
  },
  {
   "cell_type": "code",
   "execution_count": 2,
   "metadata": {},
   "outputs": [],
   "source": [
    "# importamos las librerías con las que vamos a trabajar\n",
    "\n",
    "# Trabajar con bases de datos y python\n",
    "# -----------------------------------------------------------------------\n",
    "import psycopg2\n",
    "from psycopg2 import OperationalError, errorcodes, errors\n",
    "import datetime\n",
    "import plotly.express as px\n",
    "# Trabajar con DataFrames\n",
    "# -----------------------------------------------------------------------\n",
    "import pandas as pd\n",
    "import dotenv    \n",
    "import os\n",
    "\n",
    "from datetime import datetime\n",
    "# Importación de módulos desde rutas recursivas\n",
    "# -----------------------------------------------------------------------\n",
    "import sys\n",
    "sys.path.append(\"../\")  # Añadir rutas externas para poder importar módulos desde carpetas superiores\n",
    "from src.SupportDB import conectarse_a_bd,consulta_sql"
   ]
  },
  {
   "cell_type": "code",
   "execution_count": 3,
   "metadata": {},
   "outputs": [],
   "source": [
    "key = os.getenv(\"sql\")\n",
    "user = \"postgres\"\n",
    "db = \"historicos\""
   ]
  },
  {
   "cell_type": "markdown",
   "metadata": {},
   "source": [
    "### Productos por supermercado: Mostrar cuantos productos se incluyen en el análisis de datos por supermercado"
   ]
  },
  {
   "cell_type": "code",
   "execution_count": 4,
   "metadata": {},
   "outputs": [
    {
     "name": "stdout",
     "output_type": "stream",
     "text": [
      "Conectado a la base de datos: historicos\n"
     ]
    },
    {
     "data": {
      "text/html": [
       "<div>\n",
       "<style scoped>\n",
       "    .dataframe tbody tr th:only-of-type {\n",
       "        vertical-align: middle;\n",
       "    }\n",
       "\n",
       "    .dataframe tbody tr th {\n",
       "        vertical-align: top;\n",
       "    }\n",
       "\n",
       "    .dataframe thead th {\n",
       "        text-align: right;\n",
       "    }\n",
       "</style>\n",
       "<table border=\"1\" class=\"dataframe\">\n",
       "  <thead>\n",
       "    <tr style=\"text-align: right;\">\n",
       "      <th></th>\n",
       "      <th>supermercado</th>\n",
       "      <th>total_productos</th>\n",
       "    </tr>\n",
       "  </thead>\n",
       "  <tbody>\n",
       "    <tr>\n",
       "      <th>0</th>\n",
       "      <td>hipercor</td>\n",
       "      <td>505</td>\n",
       "    </tr>\n",
       "    <tr>\n",
       "      <th>1</th>\n",
       "      <td>alcampo</td>\n",
       "      <td>358</td>\n",
       "    </tr>\n",
       "    <tr>\n",
       "      <th>2</th>\n",
       "      <td>carrefour</td>\n",
       "      <td>258</td>\n",
       "    </tr>\n",
       "    <tr>\n",
       "      <th>3</th>\n",
       "      <td>eroski</td>\n",
       "      <td>239</td>\n",
       "    </tr>\n",
       "    <tr>\n",
       "      <th>4</th>\n",
       "      <td>dia</td>\n",
       "      <td>127</td>\n",
       "    </tr>\n",
       "    <tr>\n",
       "      <th>5</th>\n",
       "      <td>mercadona</td>\n",
       "      <td>38</td>\n",
       "    </tr>\n",
       "  </tbody>\n",
       "</table>\n",
       "</div>"
      ],
      "text/plain": [
       "  supermercado  total_productos\n",
       "0     hipercor              505\n",
       "1      alcampo              358\n",
       "2    carrefour              258\n",
       "3       eroski              239\n",
       "4          dia              127\n",
       "5    mercadona               38"
      ]
     },
     "execution_count": 4,
     "metadata": {},
     "output_type": "execute_result"
    }
   ],
   "source": [
    "conexion = conectarse_a_bd(db,user,key)\n",
    "query = \"\"\" SELECT supermercado, \n",
    "            COUNT(DISTINCT id_producto) AS total_productos\n",
    "            FROM productos\n",
    "            NATURAL JOIN historicos\n",
    "            NATURAL JOIN supermercados\n",
    "            GROUP BY supermercado\n",
    "            ORDER BY total_productos DESC;\"\"\"\n",
    "\n",
    "df_consulta1 = consulta_sql(conexion,query)\n",
    "df_consulta1"
   ]
  },
  {
   "cell_type": "markdown",
   "metadata": {},
   "source": [
    "### Guardar la consulta"
   ]
  },
  {
   "cell_type": "code",
   "execution_count": 5,
   "metadata": {},
   "outputs": [],
   "source": [
    "df_consulta1.to_csv(\"../datos/02_consultas_sql/01_productos_por_supermercado.csv\")"
   ]
  },
  {
   "cell_type": "markdown",
   "metadata": {},
   "source": [
    "Donde tenemos a hipercor con el mayor número de productos y a mercadona con el que menos. Esto indica que no tendremos un análisis de los precios igual de robusto para mercadona que para hipercor, lo que puede generar discrepancias, habría que solicitar más datos para mercadona y preferiblemente para día también"
   ]
  },
  {
   "cell_type": "markdown",
   "metadata": {},
   "source": [
    "### Comparación de Precios entre Supermercados: Determinar qué supermercados ofrecen los precios más bajos y cuáles son más caros para cada producto.\n",
    "\n",
    "- Vamos a realizar el precio promedio de cada supermercado, sin distinguir por categorías, para obtener, que supermercado, tiene el promedio más alto y que supermercado tiene el promedio más bajo\n"
   ]
  },
  {
   "cell_type": "code",
   "execution_count": 6,
   "metadata": {},
   "outputs": [
    {
     "name": "stdout",
     "output_type": "stream",
     "text": [
      "Conectado a la base de datos: historicos\n"
     ]
    },
    {
     "data": {
      "text/html": [
       "<div>\n",
       "<style scoped>\n",
       "    .dataframe tbody tr th:only-of-type {\n",
       "        vertical-align: middle;\n",
       "    }\n",
       "\n",
       "    .dataframe tbody tr th {\n",
       "        vertical-align: top;\n",
       "    }\n",
       "\n",
       "    .dataframe thead th {\n",
       "        text-align: right;\n",
       "    }\n",
       "</style>\n",
       "<table border=\"1\" class=\"dataframe\">\n",
       "  <thead>\n",
       "    <tr style=\"text-align: right;\">\n",
       "      <th></th>\n",
       "      <th>supermercado</th>\n",
       "      <th>precio_promedio</th>\n",
       "    </tr>\n",
       "  </thead>\n",
       "  <tbody>\n",
       "    <tr>\n",
       "      <th>0</th>\n",
       "      <td>alcampo</td>\n",
       "      <td>11.63</td>\n",
       "    </tr>\n",
       "    <tr>\n",
       "      <th>1</th>\n",
       "      <td>hipercor</td>\n",
       "      <td>11.08</td>\n",
       "    </tr>\n",
       "    <tr>\n",
       "      <th>2</th>\n",
       "      <td>carrefour</td>\n",
       "      <td>10.14</td>\n",
       "    </tr>\n",
       "    <tr>\n",
       "      <th>3</th>\n",
       "      <td>dia</td>\n",
       "      <td>6.67</td>\n",
       "    </tr>\n",
       "    <tr>\n",
       "      <th>4</th>\n",
       "      <td>mercadona</td>\n",
       "      <td>6.62</td>\n",
       "    </tr>\n",
       "    <tr>\n",
       "      <th>5</th>\n",
       "      <td>eroski</td>\n",
       "      <td>5.33</td>\n",
       "    </tr>\n",
       "  </tbody>\n",
       "</table>\n",
       "</div>"
      ],
      "text/plain": [
       "  supermercado precio_promedio\n",
       "0      alcampo           11.63\n",
       "1     hipercor           11.08\n",
       "2    carrefour           10.14\n",
       "3          dia            6.67\n",
       "4    mercadona            6.62\n",
       "5       eroski            5.33"
      ]
     },
     "execution_count": 6,
     "metadata": {},
     "output_type": "execute_result"
    }
   ],
   "source": [
    "conexion = conectarse_a_bd(db,user,key)\n",
    "query = \"\"\" SELECT supermercado, ROUND(AVG(precio)::NUMERIC, 2) AS precio_promedio\n",
    "            FROM historicos\n",
    "            NATURAL JOIN supermercados\n",
    "            GROUP BY supermercado\n",
    "            ORDER BY precio_promedio DESC;\"\"\"\n",
    "\n",
    "df_consulta2 = consulta_sql(conexion,query)\n",
    "df_consulta2"
   ]
  },
  {
   "cell_type": "markdown",
   "metadata": {},
   "source": [
    "Este análisis muestra el valor medio de todos los productos por supermercado, donde alcampo se coloca como el más caro y eroski como el más barato"
   ]
  },
  {
   "cell_type": "markdown",
   "metadata": {},
   "source": [
    "### Guardar la consulta"
   ]
  },
  {
   "cell_type": "code",
   "execution_count": 7,
   "metadata": {},
   "outputs": [],
   "source": [
    "df_consulta2.to_csv(\"../datos/02_consultas_sql/02_precio_medio_por_supermercado.csv\")"
   ]
  },
  {
   "cell_type": "markdown",
   "metadata": {},
   "source": [
    "\n",
    "### Análisis de la Evolución de Precios: Estudiar cómo han cambiado los precios de los productos a lo largo del tiempo en distintos supermercados.\n",
    "Por como se han extraído los datos, no podemos hacer un análisis de los precios por producto de forma individual, ya que al ver productos iguales en distintos supermercados solo se encontraban dos, por lo que vamos a realizar un análisis de el cambio de precio de los productos por categoría a lo largo del tiempo"
   ]
  },
  {
   "cell_type": "code",
   "execution_count": 8,
   "metadata": {},
   "outputs": [
    {
     "name": "stdout",
     "output_type": "stream",
     "text": [
      "Conectado a la base de datos: historicos\n"
     ]
    },
    {
     "data": {
      "text/html": [
       "<div>\n",
       "<style scoped>\n",
       "    .dataframe tbody tr th:only-of-type {\n",
       "        vertical-align: middle;\n",
       "    }\n",
       "\n",
       "    .dataframe tbody tr th {\n",
       "        vertical-align: top;\n",
       "    }\n",
       "\n",
       "    .dataframe thead th {\n",
       "        text-align: right;\n",
       "    }\n",
       "</style>\n",
       "<table border=\"1\" class=\"dataframe\">\n",
       "  <thead>\n",
       "    <tr style=\"text-align: right;\">\n",
       "      <th></th>\n",
       "      <th>categoria</th>\n",
       "      <th>fecha</th>\n",
       "      <th>supermercado</th>\n",
       "      <th>precio_promedio</th>\n",
       "    </tr>\n",
       "  </thead>\n",
       "  <tbody>\n",
       "    <tr>\n",
       "      <th>0</th>\n",
       "      <td>aceite de girasol</td>\n",
       "      <td>2024-07-12</td>\n",
       "      <td>mercadona</td>\n",
       "      <td>4.10</td>\n",
       "    </tr>\n",
       "    <tr>\n",
       "      <th>1</th>\n",
       "      <td>aceite de girasol</td>\n",
       "      <td>2024-07-13</td>\n",
       "      <td>mercadona</td>\n",
       "      <td>4.10</td>\n",
       "    </tr>\n",
       "    <tr>\n",
       "      <th>2</th>\n",
       "      <td>aceite de girasol</td>\n",
       "      <td>2024-07-14</td>\n",
       "      <td>mercadona</td>\n",
       "      <td>4.10</td>\n",
       "    </tr>\n",
       "    <tr>\n",
       "      <th>3</th>\n",
       "      <td>aceite de girasol</td>\n",
       "      <td>2024-07-15</td>\n",
       "      <td>mercadona</td>\n",
       "      <td>4.10</td>\n",
       "    </tr>\n",
       "    <tr>\n",
       "      <th>4</th>\n",
       "      <td>aceite de girasol</td>\n",
       "      <td>2024-07-16</td>\n",
       "      <td>mercadona</td>\n",
       "      <td>4.10</td>\n",
       "    </tr>\n",
       "  </tbody>\n",
       "</table>\n",
       "</div>"
      ],
      "text/plain": [
       "           categoria       fecha supermercado precio_promedio\n",
       "0  aceite de girasol  2024-07-12    mercadona            4.10\n",
       "1  aceite de girasol  2024-07-13    mercadona            4.10\n",
       "2  aceite de girasol  2024-07-14    mercadona            4.10\n",
       "3  aceite de girasol  2024-07-15    mercadona            4.10\n",
       "4  aceite de girasol  2024-07-16    mercadona            4.10"
      ]
     },
     "execution_count": 8,
     "metadata": {},
     "output_type": "execute_result"
    }
   ],
   "source": [
    "conexion = conectarse_a_bd(db,user,key)\n",
    "query = \"\"\" SELECT c.categoria,\n",
    "                h.fecha,\n",
    "                s.supermercado ,\n",
    "                ROUND(AVG(h.precio)::NUMERIC, 2) AS precio_promedio\n",
    "            FROM historicos h\n",
    "            NATURAL JOIN categorias c\n",
    "            NATURAL JOIN supermercados s \n",
    "            GROUP BY c.categoria, h.fecha,s.supermercado \n",
    "            ORDER BY s.supermercado DESC ;\"\"\"\n",
    "df_consulta3 = consulta_sql(conexion,query)\n",
    "df_consulta3.head()"
   ]
  },
  {
   "cell_type": "markdown",
   "metadata": {},
   "source": [
    "### Guardar la consulta"
   ]
  },
  {
   "cell_type": "code",
   "execution_count": 9,
   "metadata": {},
   "outputs": [],
   "source": [
    "df_consulta3.to_csv(\"../datos/02_consultas_sql/03_evolucion_precios_por_categoria_y_supermercado.csv\")"
   ]
  },
  {
   "cell_type": "markdown",
   "metadata": {},
   "source": [
    "#### NEXT STEPS Buscar si hay el mismo producto en otros supermercados\n",
    "Por como nombra FACUA los productos, no podemos saber si son el mismo producto o no, vamos a utilzar la librería fuzzywuzzy para intentar sacar de nuestra tabla de historicos productos que tengan un nombre parecido y estén en otro orden o tenga algún dato más\n"
   ]
  },
  {
   "cell_type": "markdown",
   "metadata": {},
   "source": [
    "\n",
    "### Detección de Anomalías: Identificar subidas o bajadas de precios inusuales que podrían señalar prácticas abusivas o promociones.\n",
    "\n",
    "Mostramos los productos que hayan tenido más de un 60% de cambio en su precio ya sea positivo o negativo"
   ]
  },
  {
   "cell_type": "code",
   "execution_count": 25,
   "metadata": {},
   "outputs": [
    {
     "name": "stdout",
     "output_type": "stream",
     "text": [
      "Conectado a la base de datos: historicos\n"
     ]
    },
    {
     "data": {
      "text/html": [
       "<div>\n",
       "<style scoped>\n",
       "    .dataframe tbody tr th:only-of-type {\n",
       "        vertical-align: middle;\n",
       "    }\n",
       "\n",
       "    .dataframe tbody tr th {\n",
       "        vertical-align: top;\n",
       "    }\n",
       "\n",
       "    .dataframe thead th {\n",
       "        text-align: right;\n",
       "    }\n",
       "</style>\n",
       "<table border=\"1\" class=\"dataframe\">\n",
       "  <thead>\n",
       "    <tr style=\"text-align: right;\">\n",
       "      <th></th>\n",
       "      <th>supermercado</th>\n",
       "      <th>producto</th>\n",
       "      <th>fecha</th>\n",
       "      <th>precio_anterior</th>\n",
       "      <th>precio_actual</th>\n",
       "      <th>variacion_porcentaje</th>\n",
       "    </tr>\n",
       "  </thead>\n",
       "  <tbody>\n",
       "    <tr>\n",
       "      <th>0</th>\n",
       "      <td>alcampo</td>\n",
       "      <td>Central Lechera Asturiana Leche Desnatada (0,0...</td>\n",
       "      <td>2024-07-16</td>\n",
       "      <td>1.04</td>\n",
       "      <td>6.00</td>\n",
       "      <td>476.92</td>\n",
       "    </tr>\n",
       "    <tr>\n",
       "      <th>1</th>\n",
       "      <td>alcampo</td>\n",
       "      <td>Kaiku Leche Entera De Vaca, Sin Lactosa  6 X 1L.</td>\n",
       "      <td>2024-10-24</td>\n",
       "      <td>3.00</td>\n",
       "      <td>7.62</td>\n",
       "      <td>154.00</td>\n",
       "    </tr>\n",
       "    <tr>\n",
       "      <th>2</th>\n",
       "      <td>alcampo</td>\n",
       "      <td>Kaiku Leche Entera De Vaca, Sin Lactosa  1 L.</td>\n",
       "      <td>2024-10-25</td>\n",
       "      <td>0.50</td>\n",
       "      <td>1.27</td>\n",
       "      <td>154.00</td>\n",
       "    </tr>\n",
       "    <tr>\n",
       "      <th>3</th>\n",
       "      <td>alcampo</td>\n",
       "      <td>Président Leche Desnatada De Vaca De Origen 10...</td>\n",
       "      <td>2024-09-27</td>\n",
       "      <td>3.00</td>\n",
       "      <td>6.00</td>\n",
       "      <td>100.00</td>\n",
       "    </tr>\n",
       "    <tr>\n",
       "      <th>4</th>\n",
       "      <td>alcampo</td>\n",
       "      <td>Président Leche Desnatada De Vaca De Origen 10...</td>\n",
       "      <td>2024-09-27</td>\n",
       "      <td>0.50</td>\n",
       "      <td>1.00</td>\n",
       "      <td>100.00</td>\n",
       "    </tr>\n",
       "    <tr>\n",
       "      <th>5</th>\n",
       "      <td>alcampo</td>\n",
       "      <td>Puleva Omega 3 Preparado Lacteo Desnatado, Sin...</td>\n",
       "      <td>2024-08-21</td>\n",
       "      <td>0.90</td>\n",
       "      <td>1.68</td>\n",
       "      <td>86.67</td>\n",
       "    </tr>\n",
       "    <tr>\n",
       "      <th>6</th>\n",
       "      <td>alcampo</td>\n",
       "      <td>Puleva Omega 3  Preparado Lacteo Desnatado, Si...</td>\n",
       "      <td>2024-08-21</td>\n",
       "      <td>5.40</td>\n",
       "      <td>10.08</td>\n",
       "      <td>86.67</td>\n",
       "    </tr>\n",
       "    <tr>\n",
       "      <th>7</th>\n",
       "      <td>alcampo</td>\n",
       "      <td>Central Lechera Asturiana Leche Desnatada (0,0...</td>\n",
       "      <td>2024-07-17</td>\n",
       "      <td>6.00</td>\n",
       "      <td>1.00</td>\n",
       "      <td>-83.33</td>\n",
       "    </tr>\n",
       "    <tr>\n",
       "      <th>8</th>\n",
       "      <td>alcampo</td>\n",
       "      <td>L.r. Leche Semidesnatada De Vaca, Sin Lactosa 1L.</td>\n",
       "      <td>2024-10-17</td>\n",
       "      <td>0.50</td>\n",
       "      <td>0.87</td>\n",
       "      <td>74.00</td>\n",
       "    </tr>\n",
       "    <tr>\n",
       "      <th>9</th>\n",
       "      <td>alcampo</td>\n",
       "      <td>L.r. Leche Semidesnatada De Vaca, Sin Lactosa ...</td>\n",
       "      <td>2024-10-17</td>\n",
       "      <td>3.00</td>\n",
       "      <td>5.22</td>\n",
       "      <td>74.00</td>\n",
       "    </tr>\n",
       "  </tbody>\n",
       "</table>\n",
       "</div>"
      ],
      "text/plain": [
       "  supermercado                                           producto       fecha  \\\n",
       "0      alcampo  Central Lechera Asturiana Leche Desnatada (0,0...  2024-07-16   \n",
       "1      alcampo   Kaiku Leche Entera De Vaca, Sin Lactosa  6 X 1L.  2024-10-24   \n",
       "2      alcampo      Kaiku Leche Entera De Vaca, Sin Lactosa  1 L.  2024-10-25   \n",
       "3      alcampo  Président Leche Desnatada De Vaca De Origen 10...  2024-09-27   \n",
       "4      alcampo  Président Leche Desnatada De Vaca De Origen 10...  2024-09-27   \n",
       "5      alcampo  Puleva Omega 3 Preparado Lacteo Desnatado, Sin...  2024-08-21   \n",
       "6      alcampo  Puleva Omega 3  Preparado Lacteo Desnatado, Si...  2024-08-21   \n",
       "7      alcampo  Central Lechera Asturiana Leche Desnatada (0,0...  2024-07-17   \n",
       "8      alcampo  L.r. Leche Semidesnatada De Vaca, Sin Lactosa 1L.  2024-10-17   \n",
       "9      alcampo  L.r. Leche Semidesnatada De Vaca, Sin Lactosa ...  2024-10-17   \n",
       "\n",
       "   precio_anterior  precio_actual  variacion_porcentaje  \n",
       "0             1.04           6.00                476.92  \n",
       "1             3.00           7.62                154.00  \n",
       "2             0.50           1.27                154.00  \n",
       "3             3.00           6.00                100.00  \n",
       "4             0.50           1.00                100.00  \n",
       "5             0.90           1.68                 86.67  \n",
       "6             5.40          10.08                 86.67  \n",
       "7             6.00           1.00                -83.33  \n",
       "8             0.50           0.87                 74.00  \n",
       "9             3.00           5.22                 74.00  "
      ]
     },
     "execution_count": 25,
     "metadata": {},
     "output_type": "execute_result"
    }
   ],
   "source": [
    "conexion = conectarse_a_bd(db,user,key)\n",
    "query = \"\"\" SELECT s.supermercado,\n",
    "                p.producto,\n",
    "                h.fecha,\n",
    "                h.precio - h.variacion_euros AS precio_anterior,\n",
    "                h.precio AS precio_actual,\n",
    "                h.variacion_porcentaje\n",
    "            FROM historicos h\n",
    "            NATURAL JOIN productos p\n",
    "            NATURAL JOIN supermercados s\n",
    "            WHERE h.variacion_porcentaje <> 0 \n",
    "            AND (h.variacion_porcentaje > 60 OR h.variacion_porcentaje < -60) \n",
    "            ORDER BY ABS(h.variacion_porcentaje) DESC;\"\"\"\n",
    "\n",
    "df_consulta4 = consulta_sql(conexion,query)\n",
    "df_consulta4.head(10)"
   ]
  },
  {
   "cell_type": "markdown",
   "metadata": {},
   "source": [
    "### Guardar la consulta"
   ]
  },
  {
   "cell_type": "code",
   "execution_count": 11,
   "metadata": {},
   "outputs": [],
   "source": [
    "df_consulta4.to_csv(\"../datos/02_consultas_sql/04_deteccion_anomalias_o_descuentos.csv\")"
   ]
  },
  {
   "cell_type": "markdown",
   "metadata": {},
   "source": [
    "\n",
    "### Comparación de Precios Promedio: Calcular y comparar los precios promedio de cada producto en diferentes supermercados.\n",
    "- Vamos a realizar la comparativa del precio promedio por categoría y supermercado, para comparar la diferencia de precio en las distintas categorías"
   ]
  },
  {
   "cell_type": "code",
   "execution_count": 12,
   "metadata": {},
   "outputs": [
    {
     "name": "stdout",
     "output_type": "stream",
     "text": [
      "Conectado a la base de datos: historicos\n"
     ]
    },
    {
     "data": {
      "text/html": [
       "<div>\n",
       "<style scoped>\n",
       "    .dataframe tbody tr th:only-of-type {\n",
       "        vertical-align: middle;\n",
       "    }\n",
       "\n",
       "    .dataframe tbody tr th {\n",
       "        vertical-align: top;\n",
       "    }\n",
       "\n",
       "    .dataframe thead th {\n",
       "        text-align: right;\n",
       "    }\n",
       "</style>\n",
       "<table border=\"1\" class=\"dataframe\">\n",
       "  <thead>\n",
       "    <tr style=\"text-align: right;\">\n",
       "      <th></th>\n",
       "      <th>supermercado</th>\n",
       "      <th>categoria</th>\n",
       "      <th>precio_promedio</th>\n",
       "      <th>productos_comparados</th>\n",
       "    </tr>\n",
       "  </thead>\n",
       "  <tbody>\n",
       "    <tr>\n",
       "      <th>0</th>\n",
       "      <td>carrefour</td>\n",
       "      <td>aceite de girasol</td>\n",
       "      <td>8.18</td>\n",
       "      <td>15</td>\n",
       "    </tr>\n",
       "    <tr>\n",
       "      <th>1</th>\n",
       "      <td>dia</td>\n",
       "      <td>aceite de girasol</td>\n",
       "      <td>5.10</td>\n",
       "      <td>7</td>\n",
       "    </tr>\n",
       "    <tr>\n",
       "      <th>2</th>\n",
       "      <td>alcampo</td>\n",
       "      <td>aceite de girasol</td>\n",
       "      <td>4.13</td>\n",
       "      <td>17</td>\n",
       "    </tr>\n",
       "    <tr>\n",
       "      <th>3</th>\n",
       "      <td>mercadona</td>\n",
       "      <td>aceite de girasol</td>\n",
       "      <td>4.12</td>\n",
       "      <td>2</td>\n",
       "    </tr>\n",
       "    <tr>\n",
       "      <th>4</th>\n",
       "      <td>hipercor</td>\n",
       "      <td>aceite de girasol</td>\n",
       "      <td>3.61</td>\n",
       "      <td>11</td>\n",
       "    </tr>\n",
       "    <tr>\n",
       "      <th>5</th>\n",
       "      <td>eroski</td>\n",
       "      <td>aceite de girasol</td>\n",
       "      <td>3.52</td>\n",
       "      <td>12</td>\n",
       "    </tr>\n",
       "  </tbody>\n",
       "</table>\n",
       "</div>"
      ],
      "text/plain": [
       "  supermercado          categoria precio_promedio  productos_comparados\n",
       "0    carrefour  aceite de girasol            8.18                    15\n",
       "1          dia  aceite de girasol            5.10                     7\n",
       "2      alcampo  aceite de girasol            4.13                    17\n",
       "3    mercadona  aceite de girasol            4.12                     2\n",
       "4     hipercor  aceite de girasol            3.61                    11\n",
       "5       eroski  aceite de girasol            3.52                    12"
      ]
     },
     "execution_count": 12,
     "metadata": {},
     "output_type": "execute_result"
    }
   ],
   "source": [
    "conexion = conectarse_a_bd(db,user,key)\n",
    "query = \"\"\" SELECT s.supermercado,\n",
    "                c.categoria,\n",
    "                ROUND(AVG(h.precio)::NUMERIC, 2) AS precio_promedio,\n",
    "                COUNT(DISTINCT h.id_producto) AS productos_comparados\n",
    "            FROM historicos h\n",
    "            NATURAL JOIN supermercados s\n",
    "            NATURAL JOIN categorias c \n",
    "            GROUP BY s.supermercado, c.id_categoria\n",
    "            ORDER BY c.categoria, precio_promedio DESC;\n",
    "            \"\"\"\n",
    "\n",
    "df_consulta5 = consulta_sql(conexion,query)\n",
    "df_consulta5.head(6)"
   ]
  },
  {
   "cell_type": "markdown",
   "metadata": {},
   "source": [
    "Con este análisis podemos comprobrar por categoría de producto el precio promedio por supermercado y saber entre cuantos productos se ha hecho la media, con el objetivo de analizar la robustez del análisis para el caso del aceite de girasol, la cantidad de productos entre carrefour y eroski es similar, lo que indica que los datos son robustos"
   ]
  },
  {
   "cell_type": "markdown",
   "metadata": {},
   "source": [
    "### Guardar la consulta"
   ]
  },
  {
   "cell_type": "code",
   "execution_count": 13,
   "metadata": {},
   "outputs": [],
   "source": [
    "df_consulta5.to_csv(\"../datos/02_consultas_sql/05_precios_promedio_por_categoria_y_supermercado.csv\")"
   ]
  },
  {
   "cell_type": "markdown",
   "metadata": {},
   "source": [
    "### Productos cuyo precio es diferente por supermercados"
   ]
  },
  {
   "cell_type": "code",
   "execution_count": 14,
   "metadata": {},
   "outputs": [
    {
     "name": "stdout",
     "output_type": "stream",
     "text": [
      "Conectado a la base de datos: historicos\n"
     ]
    },
    {
     "data": {
      "text/html": [
       "<div>\n",
       "<style scoped>\n",
       "    .dataframe tbody tr th:only-of-type {\n",
       "        vertical-align: middle;\n",
       "    }\n",
       "\n",
       "    .dataframe tbody tr th {\n",
       "        vertical-align: top;\n",
       "    }\n",
       "\n",
       "    .dataframe thead th {\n",
       "        text-align: right;\n",
       "    }\n",
       "</style>\n",
       "<table border=\"1\" class=\"dataframe\">\n",
       "  <thead>\n",
       "    <tr style=\"text-align: right;\">\n",
       "      <th></th>\n",
       "      <th>producto</th>\n",
       "      <th>supermercado</th>\n",
       "      <th>precio_minimo</th>\n",
       "      <th>precio_maximo</th>\n",
       "    </tr>\n",
       "  </thead>\n",
       "  <tbody>\n",
       "    <tr>\n",
       "      <th>0</th>\n",
       "      <td>Abril Aceite De Oliva Intenso 1º Botella 1 L</td>\n",
       "      <td>hipercor</td>\n",
       "      <td>6.95</td>\n",
       "      <td>9.40</td>\n",
       "    </tr>\n",
       "    <tr>\n",
       "      <th>1</th>\n",
       "      <td>Abril Aceite De Oliva Intenso 1º Garrafa 5 L</td>\n",
       "      <td>hipercor</td>\n",
       "      <td>34.70</td>\n",
       "      <td>46.95</td>\n",
       "    </tr>\n",
       "    <tr>\n",
       "      <th>2</th>\n",
       "      <td>Abril Aceite De Oliva Suave 0,4º Botella 1 L</td>\n",
       "      <td>hipercor</td>\n",
       "      <td>6.95</td>\n",
       "      <td>9.40</td>\n",
       "    </tr>\n",
       "    <tr>\n",
       "      <th>3</th>\n",
       "      <td>Abril Aceite De Oliva Suave 0,4º Garrafa 5 L</td>\n",
       "      <td>hipercor</td>\n",
       "      <td>34.70</td>\n",
       "      <td>46.95</td>\n",
       "    </tr>\n",
       "    <tr>\n",
       "      <th>4</th>\n",
       "      <td>Abril Aceite De Oliva Virgen Extra Arbequina B...</td>\n",
       "      <td>hipercor</td>\n",
       "      <td>8.55</td>\n",
       "      <td>10.30</td>\n",
       "    </tr>\n",
       "  </tbody>\n",
       "</table>\n",
       "</div>"
      ],
      "text/plain": [
       "                                            producto supermercado  \\\n",
       "0       Abril Aceite De Oliva Intenso 1º Botella 1 L     hipercor   \n",
       "1       Abril Aceite De Oliva Intenso 1º Garrafa 5 L     hipercor   \n",
       "2       Abril Aceite De Oliva Suave 0,4º Botella 1 L     hipercor   \n",
       "3       Abril Aceite De Oliva Suave 0,4º Garrafa 5 L     hipercor   \n",
       "4  Abril Aceite De Oliva Virgen Extra Arbequina B...     hipercor   \n",
       "\n",
       "   precio_minimo  precio_maximo  \n",
       "0           6.95           9.40  \n",
       "1          34.70          46.95  \n",
       "2           6.95           9.40  \n",
       "3          34.70          46.95  \n",
       "4           8.55          10.30  "
      ]
     },
     "execution_count": 14,
     "metadata": {},
     "output_type": "execute_result"
    }
   ],
   "source": [
    "conexion = conectarse_a_bd(db,user,key)\n",
    "query = \"\"\" SELECT *\n",
    "            FROM (\n",
    "\t            SELECT p.producto AS producto,\n",
    "\t                s.supermercado AS supermercado,\n",
    "\t                MIN(h.precio) AS precio_minimo,\n",
    "\t                MAX(h.precio) AS precio_maximo\n",
    "\t            FROM historicos h\n",
    "\t            NATURAL JOIN productos p\n",
    "\t            NATURAL JOIN supermercados s\n",
    "\t            GROUP BY p.producto, s.supermercado)\n",
    "            WHERE precio_minimo != precio_maximo\n",
    "            ORDER BY producto, supermercado;\"\"\"\n",
    "\n",
    "df_consulta6 = consulta_sql(conexion,query)\n",
    "df_consulta6.head()"
   ]
  },
  {
   "cell_type": "markdown",
   "metadata": {},
   "source": [
    "### Guardar la consulta"
   ]
  },
  {
   "cell_type": "code",
   "execution_count": 15,
   "metadata": {},
   "outputs": [],
   "source": [
    "df_consulta6.to_csv(\"../datos/02_consultas_sql/06_productos_cuyo_precio_es_diferente.csv\")"
   ]
  },
  {
   "cell_type": "markdown",
   "metadata": {},
   "source": [
    "### Productos cuyo precio no ha variado por supermercados"
   ]
  },
  {
   "cell_type": "code",
   "execution_count": 16,
   "metadata": {},
   "outputs": [
    {
     "name": "stdout",
     "output_type": "stream",
     "text": [
      "Conectado a la base de datos: historicos\n"
     ]
    },
    {
     "data": {
      "text/html": [
       "<div>\n",
       "<style scoped>\n",
       "    .dataframe tbody tr th:only-of-type {\n",
       "        vertical-align: middle;\n",
       "    }\n",
       "\n",
       "    .dataframe tbody tr th {\n",
       "        vertical-align: top;\n",
       "    }\n",
       "\n",
       "    .dataframe thead th {\n",
       "        text-align: right;\n",
       "    }\n",
       "</style>\n",
       "<table border=\"1\" class=\"dataframe\">\n",
       "  <thead>\n",
       "    <tr style=\"text-align: right;\">\n",
       "      <th></th>\n",
       "      <th>producto</th>\n",
       "      <th>supermercado</th>\n",
       "      <th>precio_minimo</th>\n",
       "      <th>precio_maximo</th>\n",
       "    </tr>\n",
       "  </thead>\n",
       "  <tbody>\n",
       "    <tr>\n",
       "      <th>0</th>\n",
       "      <td>1921 Aceite De Oliva Virgen Extra Arbequina Pr...</td>\n",
       "      <td>hipercor</td>\n",
       "      <td>14.94</td>\n",
       "      <td>14.94</td>\n",
       "    </tr>\n",
       "    <tr>\n",
       "      <th>1</th>\n",
       "      <td>1921 Aceite De Oliva Virgen Extra Picual Prime...</td>\n",
       "      <td>hipercor</td>\n",
       "      <td>14.94</td>\n",
       "      <td>14.94</td>\n",
       "    </tr>\n",
       "    <tr>\n",
       "      <th>2</th>\n",
       "      <td>Aceite De Oliva 0,4º Ybarra, Lata 5 Litros</td>\n",
       "      <td>eroski</td>\n",
       "      <td>45.39</td>\n",
       "      <td>45.39</td>\n",
       "    </tr>\n",
       "    <tr>\n",
       "      <th>3</th>\n",
       "      <td>Aceite De Oliva Suave La Almazara Del Olivar D...</td>\n",
       "      <td>dia</td>\n",
       "      <td>22.76</td>\n",
       "      <td>22.76</td>\n",
       "    </tr>\n",
       "    <tr>\n",
       "      <th>4</th>\n",
       "      <td>Aceite De Oliva Virgen Ecológico Borges, Botel...</td>\n",
       "      <td>eroski</td>\n",
       "      <td>8.56</td>\n",
       "      <td>8.56</td>\n",
       "    </tr>\n",
       "  </tbody>\n",
       "</table>\n",
       "</div>"
      ],
      "text/plain": [
       "                                            producto supermercado  \\\n",
       "0  1921 Aceite De Oliva Virgen Extra Arbequina Pr...     hipercor   \n",
       "1  1921 Aceite De Oliva Virgen Extra Picual Prime...     hipercor   \n",
       "2         Aceite De Oliva 0,4º Ybarra, Lata 5 Litros       eroski   \n",
       "3  Aceite De Oliva Suave La Almazara Del Olivar D...          dia   \n",
       "4  Aceite De Oliva Virgen Ecológico Borges, Botel...       eroski   \n",
       "\n",
       "   precio_minimo  precio_maximo  \n",
       "0          14.94          14.94  \n",
       "1          14.94          14.94  \n",
       "2          45.39          45.39  \n",
       "3          22.76          22.76  \n",
       "4           8.56           8.56  "
      ]
     },
     "execution_count": 16,
     "metadata": {},
     "output_type": "execute_result"
    }
   ],
   "source": [
    "conexion = conectarse_a_bd(db,user,key)\n",
    "query = \"\"\" SELECT *\n",
    "            FROM (\n",
    "\t            SELECT p.producto AS producto,\n",
    "\t                s.supermercado AS supermercado,\n",
    "\t                MIN(h.precio) AS precio_minimo,\n",
    "\t                MAX(h.precio) AS precio_maximo\n",
    "\t            FROM historicos h\n",
    "\t            NATURAL JOIN productos p\n",
    "\t            NATURAL JOIN supermercados s\n",
    "\t            GROUP BY p.producto, s.supermercado)\n",
    "            WHERE precio_minimo = precio_maximo\n",
    "            ORDER BY producto, supermercado;\"\"\"\n",
    "\n",
    "df_consulta7 = consulta_sql(conexion,query)\n",
    "df_consulta7.head()"
   ]
  },
  {
   "cell_type": "markdown",
   "metadata": {},
   "source": [
    "### Guardar la consulta"
   ]
  },
  {
   "cell_type": "code",
   "execution_count": 17,
   "metadata": {},
   "outputs": [],
   "source": [
    "df_consulta7.to_csv(\"../datos/02_consultas_sql/07_productos_cuyo_precio_es_igual.csv\")"
   ]
  },
  {
   "cell_type": "markdown",
   "metadata": {},
   "source": [
    "### Variaciones de precio más grandes por día y precio"
   ]
  },
  {
   "cell_type": "code",
   "execution_count": 18,
   "metadata": {},
   "outputs": [
    {
     "name": "stdout",
     "output_type": "stream",
     "text": [
      "Conectado a la base de datos: historicos\n"
     ]
    },
    {
     "data": {
      "text/html": [
       "<div>\n",
       "<style scoped>\n",
       "    .dataframe tbody tr th:only-of-type {\n",
       "        vertical-align: middle;\n",
       "    }\n",
       "\n",
       "    .dataframe tbody tr th {\n",
       "        vertical-align: top;\n",
       "    }\n",
       "\n",
       "    .dataframe thead th {\n",
       "        text-align: right;\n",
       "    }\n",
       "</style>\n",
       "<table border=\"1\" class=\"dataframe\">\n",
       "  <thead>\n",
       "    <tr style=\"text-align: right;\">\n",
       "      <th></th>\n",
       "      <th>supermercado</th>\n",
       "      <th>fecha</th>\n",
       "      <th>variacion_promedio_dia</th>\n",
       "    </tr>\n",
       "  </thead>\n",
       "  <tbody>\n",
       "    <tr>\n",
       "      <th>0</th>\n",
       "      <td>hipercor</td>\n",
       "      <td>2024-07-05</td>\n",
       "      <td>5.29</td>\n",
       "    </tr>\n",
       "    <tr>\n",
       "      <th>1</th>\n",
       "      <td>mercadona</td>\n",
       "      <td>2024-07-01</td>\n",
       "      <td>-4.79</td>\n",
       "    </tr>\n",
       "    <tr>\n",
       "      <th>2</th>\n",
       "      <td>carrefour</td>\n",
       "      <td>2024-07-01</td>\n",
       "      <td>-4.77</td>\n",
       "    </tr>\n",
       "    <tr>\n",
       "      <th>3</th>\n",
       "      <td>hipercor</td>\n",
       "      <td>2024-07-01</td>\n",
       "      <td>-4.76</td>\n",
       "    </tr>\n",
       "    <tr>\n",
       "      <th>4</th>\n",
       "      <td>eroski</td>\n",
       "      <td>2024-07-01</td>\n",
       "      <td>-4.47</td>\n",
       "    </tr>\n",
       "  </tbody>\n",
       "</table>\n",
       "</div>"
      ],
      "text/plain": [
       "  supermercado       fecha variacion_promedio_dia\n",
       "0     hipercor  2024-07-05                   5.29\n",
       "1    mercadona  2024-07-01                  -4.79\n",
       "2    carrefour  2024-07-01                  -4.77\n",
       "3     hipercor  2024-07-01                  -4.76\n",
       "4       eroski  2024-07-01                  -4.47"
      ]
     },
     "execution_count": 18,
     "metadata": {},
     "output_type": "execute_result"
    }
   ],
   "source": [
    "conexion = conectarse_a_bd(db,user,key)\n",
    "query = \"\"\" SELECT * \n",
    "            FROM(\n",
    "\t            SELECT s.supermercado,\n",
    "\t                h.fecha,\n",
    "\t                ROUND(AVG(h.variacion_porcentaje)::NUMERIC, 2) AS variacion_promedio_dia\n",
    "\t            FROM historicos h\n",
    "\t            NATURAL JOIN supermercados s\n",
    "\t            GROUP BY s.supermercado, h.fecha)\n",
    "            WHERE variacion_promedio_dia != 0\n",
    "            ORDER BY ABS(variacion_promedio_dia) DESC;\"\"\"\n",
    "\n",
    "df_consulta8 = consulta_sql(conexion,query)\n",
    "df_consulta8.head()"
   ]
  },
  {
   "cell_type": "markdown",
   "metadata": {},
   "source": [
    "Esto se debe a que en julio de 2024 se redujo el IVA a ciertos alimentos básicos como la leche o el aceite (las principales bajadas)\n",
    "\n",
    "En hipercor vemos que en julio tuvo una subida, dado que es el supermercado con más productos registrados (505), la bajada de precios fue en productos tipo aceite y leche, por otro lado se encareció el combustible y otros servicios esenciales lo que llevó al aumento en otros productos.\n",
    "\n"
   ]
  },
  {
   "cell_type": "markdown",
   "metadata": {},
   "source": [
    "### Guardar la consulta"
   ]
  },
  {
   "cell_type": "code",
   "execution_count": 19,
   "metadata": {},
   "outputs": [],
   "source": [
    "df_consulta8.to_csv(\"../datos/02_consultas_sql/08_variaciones_por_dia_y_precio.csv\")"
   ]
  },
  {
   "cell_type": "markdown",
   "metadata": {},
   "source": [
    "### Obtener los 10 productos con más cambios de Precio"
   ]
  },
  {
   "cell_type": "code",
   "execution_count": 20,
   "metadata": {},
   "outputs": [
    {
     "name": "stdout",
     "output_type": "stream",
     "text": [
      "Conectado a la base de datos: historicos\n"
     ]
    },
    {
     "data": {
      "text/html": [
       "<div>\n",
       "<style scoped>\n",
       "    .dataframe tbody tr th:only-of-type {\n",
       "        vertical-align: middle;\n",
       "    }\n",
       "\n",
       "    .dataframe tbody tr th {\n",
       "        vertical-align: top;\n",
       "    }\n",
       "\n",
       "    .dataframe thead th {\n",
       "        text-align: right;\n",
       "    }\n",
       "</style>\n",
       "<table border=\"1\" class=\"dataframe\">\n",
       "  <thead>\n",
       "    <tr style=\"text-align: right;\">\n",
       "      <th></th>\n",
       "      <th>producto</th>\n",
       "      <th>supermercado</th>\n",
       "      <th>cantidad_cambios</th>\n",
       "    </tr>\n",
       "  </thead>\n",
       "  <tbody>\n",
       "    <tr>\n",
       "      <th>0</th>\n",
       "      <td>Oro Bailen Aceite De Oliva Virgen Extra Picual...</td>\n",
       "      <td>hipercor</td>\n",
       "      <td>25</td>\n",
       "    </tr>\n",
       "    <tr>\n",
       "      <th>1</th>\n",
       "      <td>Carbonell Aceite De Oliva Suave Garrafa De 5 L.</td>\n",
       "      <td>alcampo</td>\n",
       "      <td>18</td>\n",
       "    </tr>\n",
       "    <tr>\n",
       "      <th>2</th>\n",
       "      <td>Aceite De Oliva Intenso 1º La Masía Garrafa 5 L.</td>\n",
       "      <td>carrefour</td>\n",
       "      <td>14</td>\n",
       "    </tr>\n",
       "    <tr>\n",
       "      <th>3</th>\n",
       "      <td>Koipesol Aceite De Girasol  Garrafa De 5 L.</td>\n",
       "      <td>alcampo</td>\n",
       "      <td>13</td>\n",
       "    </tr>\n",
       "    <tr>\n",
       "      <th>4</th>\n",
       "      <td>Coosur Aceite De Oliva Virgen Extra Garrafa 5 L</td>\n",
       "      <td>hipercor</td>\n",
       "      <td>13</td>\n",
       "    </tr>\n",
       "  </tbody>\n",
       "</table>\n",
       "</div>"
      ],
      "text/plain": [
       "                                            producto supermercado  \\\n",
       "0  Oro Bailen Aceite De Oliva Virgen Extra Picual...     hipercor   \n",
       "1    Carbonell Aceite De Oliva Suave Garrafa De 5 L.      alcampo   \n",
       "2   Aceite De Oliva Intenso 1º La Masía Garrafa 5 L.    carrefour   \n",
       "3        Koipesol Aceite De Girasol  Garrafa De 5 L.      alcampo   \n",
       "4    Coosur Aceite De Oliva Virgen Extra Garrafa 5 L     hipercor   \n",
       "\n",
       "   cantidad_cambios  \n",
       "0                25  \n",
       "1                18  \n",
       "2                14  \n",
       "3                13  \n",
       "4                13  "
      ]
     },
     "execution_count": 20,
     "metadata": {},
     "output_type": "execute_result"
    }
   ],
   "source": [
    "conexion = conectarse_a_bd(db,user,key)\n",
    "query = \"\"\" SELECT p.producto,\n",
    "                s.supermercado,\n",
    "                COUNT(*) AS cantidad_cambios\n",
    "            FROM historicos h\n",
    "            NATURAL JOIN productos p\n",
    "            NATURAL JOIN supermercados s\n",
    "            WHERE h.variacion_porcentaje <> 0\n",
    "            GROUP BY p.producto, s.supermercado\n",
    "            ORDER BY cantidad_cambios DESC\n",
    "            LIMIT 10;\"\"\"\n",
    "\n",
    "df_consulta9 = consulta_sql(conexion,query)\n",
    "df_consulta9.head()"
   ]
  },
  {
   "cell_type": "markdown",
   "metadata": {},
   "source": [
    "El aceite de oliva es el producto que más cambios de precio sufre"
   ]
  },
  {
   "cell_type": "markdown",
   "metadata": {},
   "source": [
    "### Guardar la consulta"
   ]
  },
  {
   "cell_type": "code",
   "execution_count": 21,
   "metadata": {},
   "outputs": [],
   "source": [
    "df_consulta9.to_csv(\"../datos/02_consultas_sql/09_productos_con_mayores_cambios_precio.csv\")"
   ]
  },
  {
   "cell_type": "markdown",
   "metadata": {},
   "source": [
    "### Promedio de variacion de precios por categoría"
   ]
  },
  {
   "cell_type": "code",
   "execution_count": 22,
   "metadata": {},
   "outputs": [
    {
     "name": "stdout",
     "output_type": "stream",
     "text": [
      "Conectado a la base de datos: historicos\n"
     ]
    },
    {
     "data": {
      "text/html": [
       "<div>\n",
       "<style scoped>\n",
       "    .dataframe tbody tr th:only-of-type {\n",
       "        vertical-align: middle;\n",
       "    }\n",
       "\n",
       "    .dataframe tbody tr th {\n",
       "        vertical-align: top;\n",
       "    }\n",
       "\n",
       "    .dataframe thead th {\n",
       "        text-align: right;\n",
       "    }\n",
       "</style>\n",
       "<table border=\"1\" class=\"dataframe\">\n",
       "  <thead>\n",
       "    <tr style=\"text-align: right;\">\n",
       "      <th></th>\n",
       "      <th>supermercado</th>\n",
       "      <th>categoria</th>\n",
       "      <th>variacion_promedio</th>\n",
       "    </tr>\n",
       "  </thead>\n",
       "  <tbody>\n",
       "    <tr>\n",
       "      <th>0</th>\n",
       "      <td>alcampo</td>\n",
       "      <td>aceite de girasol</td>\n",
       "      <td>19.00</td>\n",
       "    </tr>\n",
       "    <tr>\n",
       "      <th>1</th>\n",
       "      <td>alcampo</td>\n",
       "      <td>leche sin lactosa</td>\n",
       "      <td>8.00</td>\n",
       "    </tr>\n",
       "    <tr>\n",
       "      <th>2</th>\n",
       "      <td>alcampo</td>\n",
       "      <td>leche enriquecida</td>\n",
       "      <td>4.00</td>\n",
       "    </tr>\n",
       "    <tr>\n",
       "      <th>3</th>\n",
       "      <td>alcampo</td>\n",
       "      <td>leche entera, semi o desnatada</td>\n",
       "      <td>3.00</td>\n",
       "    </tr>\n",
       "    <tr>\n",
       "      <th>4</th>\n",
       "      <td>alcampo</td>\n",
       "      <td>aceite de oliva suave e intenso</td>\n",
       "      <td>1.00</td>\n",
       "    </tr>\n",
       "  </tbody>\n",
       "</table>\n",
       "</div>"
      ],
      "text/plain": [
       "  supermercado                        categoria variacion_promedio\n",
       "0      alcampo                aceite de girasol              19.00\n",
       "1      alcampo                leche sin lactosa               8.00\n",
       "2      alcampo                leche enriquecida               4.00\n",
       "3      alcampo   leche entera, semi o desnatada               3.00\n",
       "4      alcampo  aceite de oliva suave e intenso               1.00"
      ]
     },
     "execution_count": 22,
     "metadata": {},
     "output_type": "execute_result"
    }
   ],
   "source": [
    "conexion = conectarse_a_bd(db,user,key)\n",
    "query = \"\"\" SELECT s.supermercado,\n",
    "                c.categoria,\n",
    "                ROUND(AVG(h.variacion_porcentaje)::NUMERIC, 2)*100 AS variacion_promedio\n",
    "            FROM historicos h\n",
    "            NATURAL JOIN supermercados s\n",
    "            NATURAL JOIN categorias c\n",
    "            GROUP BY s.supermercado, c.categoria\n",
    "            ORDER BY s.supermercado, variacion_promedio DESC;\"\"\"\n",
    "\n",
    "df_consulta10 = consulta_sql(conexion,query)\n",
    "df_consulta10.head()"
   ]
  },
  {
   "cell_type": "markdown",
   "metadata": {},
   "source": [
    "### Guardar la consulta"
   ]
  },
  {
   "cell_type": "code",
   "execution_count": 23,
   "metadata": {},
   "outputs": [],
   "source": [
    "df_consulta10.to_csv(\"../datos/02_consultas_sql/10_variacion_precios_por_categoria.csv\")"
   ]
  }
 ],
 "metadata": {
  "kernelspec": {
   "display_name": "Python 3",
   "language": "python",
   "name": "python3"
  },
  "language_info": {
   "codemirror_mode": {
    "name": "ipython",
    "version": 3
   },
   "file_extension": ".py",
   "mimetype": "text/x-python",
   "name": "python",
   "nbconvert_exporter": "python",
   "pygments_lexer": "ipython3",
   "version": "3.11.9"
  }
 },
 "nbformat": 4,
 "nbformat_minor": 2
}
