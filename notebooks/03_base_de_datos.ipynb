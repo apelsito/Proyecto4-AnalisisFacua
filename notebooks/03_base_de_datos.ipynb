{
 "cells": [
  {
   "cell_type": "markdown",
   "metadata": {},
   "source": [
    "# Fase 3 Base de Datos\n",
    "Ahora que tenemos las tablas, vamos a crear la Base de Datos, las tablas que tendremos y sus columnas serán:\n",
    "\n",
    "- supermercado\n",
    "    - id_supermercado SERIAL NOT NULL, \n",
    "    - supermercado VARCHAR (100) UNIQUE NOT NULL\n",
    "- categoria\n",
    "    - id_categoria SERIAL NOT NULL,\n",
    "    - categoria VARCHAR (100) UNIQUE NOT NULL\n",
    "- producto\n",
    "    - id_producto SERIAL NOT NULL,\n",
    "    - producto VARCHAR (1000) UNIQUE NOT NULL\n",
    "- historicos\n",
    "    - fecha DATE,\n",
    "    - id_producto INT NOT NULL,\n",
    "    - variacion (€) DECIMAL(5,2) NOT NULL,\n",
    "    - variacion (%) DECIMAL (5,2) NOT NULL,\n",
    "    - id_categoria INT NOT NULL,\n",
    "    - id_supermercado INT NOT NULL"
   ]
  }
 ],
 "metadata": {
  "language_info": {
   "name": "python"
  }
 },
 "nbformat": 4,
 "nbformat_minor": 2
}
